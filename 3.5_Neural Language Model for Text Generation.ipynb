{
 "cells": [
  {
   "cell_type": "markdown",
   "metadata": {},
   "source": [
    "- A language model can predict the probability of the next word in the sequence, based on the words already observed in the sequence. Neural network models are a preferred method for developing statistical language models because they can use a distributed representation where different words with similar meanings have similar representation and because they can use a large context of recently observed words when making predictions. In this tutorial, you will discover how to develop a statistical language model using deep learning in Python."
   ]
  },
  {
   "cell_type": "markdown",
   "metadata": {},
   "source": [
    "## 1. Data Preparation "
   ]
  },
  {
   "cell_type": "markdown",
   "metadata": {},
   "source": [
    "### 1.1 Load Text"
   ]
  },
  {
   "cell_type": "code",
   "execution_count": 1,
   "metadata": {},
   "outputs": [
    {
     "name": "stdout",
     "output_type": "stream",
     "text": [
      "BOOK I.\n",
      "\n",
      "I went down yesterday to the Piraeus with Glaucon the son of Ariston,\n",
      "that I might offer up my prayers to the goddess (Bendis, the Thracian\n",
      "Artemis.); and also because I wanted to see in what\n"
     ]
    }
   ],
   "source": [
    "# load doc into memory\n",
    "def load_doc(filename):\n",
    "    # open the file as read only\n",
    "    file = open(filename,'r')\n",
    "    # read all text\n",
    "    text = file.read()\n",
    "    # close the file\n",
    "    file.close()\n",
    "    return text\n",
    "\n",
    "# load document\n",
    "in_filename = 'republic_clean.txt'\n",
    "doc = load_doc(in_filename)\n",
    "print(doc[:200])"
   ]
  },
  {
   "cell_type": "markdown",
   "metadata": {},
   "source": [
    "### 1.2 Clean Text"
   ]
  },
  {
   "cell_type": "code",
   "execution_count": 10,
   "metadata": {},
   "outputs": [
    {
     "data": {
      "text/plain": [
       "['hi', 'hello', 'how', 'are', 'you']"
      ]
     },
     "execution_count": 10,
     "metadata": {},
     "output_type": "execute_result"
    }
   ],
   "source": [
    "a = text_to_word_sequence('hi Hello! how are you')\n",
    "a"
   ]
  },
  {
   "cell_type": "code",
   "execution_count": 15,
   "metadata": {
    "scrolled": true
   },
   "outputs": [
    {
     "name": "stdout",
     "output_type": "stream",
     "text": [
      "['book', 'i', 'i', 'went', 'down', 'yesterday', 'to', 'the', 'piraeus', 'with', 'glaucon', 'the', 'son', 'of', 'ariston', 'that', 'i', 'might', 'offer', 'up', 'my', 'prayers', 'to', 'the', 'goddess', 'bendis', 'the', 'thracian', 'artemis', 'and', 'also', 'because', 'i', 'wanted', 'to', 'see', 'in', 'what', 'manner', 'they', 'would', 'celebrate', 'the', 'festival', 'which', 'was', 'a', 'new', 'thing', 'i']\n",
      "Total Tokens: 118650\n",
      "Unique Tokens: 7275\n"
     ]
    }
   ],
   "source": [
    "# turn a doc into clean tokens\n",
    "from keras.preprocessing.text import text_to_word_sequence\n",
    "def clean_doc(doc):\n",
    "    doc = text_to_word_sequence(doc) \n",
    "    tokens = [word for word in doc if word.isalpha()]\n",
    "    return tokens\n",
    "tokens = clean_doc(doc)\n",
    "print(tokens[:50])\n",
    "print('Total Tokens: %d' % len(tokens))\n",
    "print('Unique Tokens: %d' % len(set(tokens)))"
   ]
  },
  {
   "cell_type": "markdown",
   "metadata": {},
   "source": [
    "### 1.3 Save Clean Text\n",
    "We can organize the long list of tokens into sequences of 50 input words and 1 output word.\n",
    "That is, sequences of 51 words. We can do this by iterating over the list of tokens from token 51\n",
    "onwards and taking the prior 50 tokens as a sequence, then repeating this process to the end of\n",
    "the list of tokens. We will transform the tokens into space-separated strings for later storage\n",
    "in a file. The code to split the list of clean tokens into sequences with a length of 51 tokens is\n",
    "listed below."
   ]
  },
  {
   "cell_type": "code",
   "execution_count": 20,
   "metadata": {},
   "outputs": [
    {
     "name": "stdout",
     "output_type": "stream",
     "text": [
      "Total Sequences: 118599\n",
      "['book i i went down yesterday to the piraeus with glaucon the son of ariston that i might offer up my prayers to the goddess bendis the thracian artemis and also because i wanted to see in what manner they would celebrate the festival which was a new thing i was']\n"
     ]
    }
   ],
   "source": [
    "# organize into sequence of tokens\n",
    "length = 50 + 1\n",
    "sequences = []\n",
    "for i in range(length,len(tokens)):\n",
    "    # select sequence of tokens\n",
    "    seq = tokens[i-length:i]\n",
    "    # convert into a line\n",
    "    line = ' '.join(seq)\n",
    "    # store\n",
    "    sequences.append(line)\n",
    "print('Total Sequences: %d' % len(sequences))\n",
    "print(sequences[:1])"
   ]
  },
  {
   "cell_type": "markdown",
   "metadata": {},
   "source": [
    "- Next, we can save the sequences to a new file for later loading. We can define a new function for saving lines of text to a file. This new function is called save_doc() and is listed below. It takes as input a list of lines and a filename. The lines are written, one per line, in ASCII format."
   ]
  },
  {
   "cell_type": "code",
   "execution_count": 27,
   "metadata": {},
   "outputs": [],
   "source": [
    "# save tokens to file, one dialog per line\n",
    "def save_doc(lines,filename):\n",
    "    data = '\\n'.join(lines)\n",
    "    file = open(filename,'w')\n",
    "    file.write(data)\n",
    "    file.close()\n",
    "\n",
    "# save sequences to file\n",
    "out_filename = 'republic_sequences.txt'\n",
    "save_doc(sequences,out_filename)\n",
    "\n",
    "# sample output of republic_sequences.txt\n",
    "\n",
    "# book i i ... catch sight of\n",
    "# i i went ... sight of us\n",
    "# i went down ... of us from\n",
    "# '''"
   ]
  },
  {
   "cell_type": "markdown",
   "metadata": {},
   "source": [
    "- now we have training data stored in the file republic_sequences.txt in current working directory. Next, let's look at how to fit a language model to this data."
   ]
  },
  {
   "cell_type": "markdown",
   "metadata": {},
   "source": [
    "## 2. Train Language Model\n",
    "We can now train a statistical language model from the prepared data. The model we will train is a neural language model. It has a few unique characteristics:\n",
    "    - It uses a distributed representation for words so that different words with similar meanings will have a similar representation.\n",
    "    - It learns the representation at the same time as learning the model.\n",
    "    - It learns to predict the probability for the next word using the context of the last 100 words.\n",
    "\n",
    "Specifically, we will use an Embedding Layer to learn the representation of words, and a\n",
    "Long Short-Term Memory (LSTM) recurrent neural network to learn to predict words based on\n",
    "their context. Let's start by loading our training data."
   ]
  },
  {
   "cell_type": "markdown",
   "metadata": {},
   "source": [
    "### 2.1 Load Sequences"
   ]
  },
  {
   "cell_type": "code",
   "execution_count": 28,
   "metadata": {},
   "outputs": [
    {
     "name": "stdout",
     "output_type": "stream",
     "text": [
      "book i i went down yesterday to the piraeus with glaucon the son of ariston that i might offer up my prayers to the goddess bendis the thracian artemis and also because i wanted to see in what manner they would celebrate the festival which was a new thing i was\n"
     ]
    }
   ],
   "source": [
    "# load doc into memory\n",
    "def load_doc(filename):\n",
    "    file = open(filename,'r')\n",
    "    text = file.read()\n",
    "    file.close()\n",
    "    return text\n",
    "# load \n",
    "in_filename = 'republic_sequences.txt'\n",
    "doc = load_doc(in_filename)\n",
    "lines = doc.split('\\n')\n",
    "print(lines[0])"
   ]
  },
  {
   "cell_type": "markdown",
   "metadata": {},
   "source": [
    "### 2.2 Encode Sequences\n",
    "- The word embedding layer expects input sequences to be comprised of integers. We can map each word in our vocabulary to a unique integer and encode our input sequences. Later, when we make predictions, we can convert the prediction to numbers and look up their associated words in the same mapping. To do this encoding, we will use the Tokenizer class in the Keras API.\n",
    "- First, the Tokenizer must be trained on the entire training dataset, which means it finds all of the unique words in the data and assigns each a unique integer. We can then use the fit Tokenizer to encode all of the training sequences, converting each sequence from a list of words to a list of integers."
   ]
  },
  {
   "cell_type": "code",
   "execution_count": 30,
   "metadata": {},
   "outputs": [
    {
     "name": "stdout",
     "output_type": "stream",
     "text": [
      "[1045, 11, 11, 1044, 329, 7275, 4, 1, 2875, 35, 215, 1, 260, 3, 2252, 9, 11, 180, 819, 123, 92, 2874, 4, 1, 2250, 7274, 1, 7273, 7272, 2, 75, 120, 11, 1271, 4, 110, 6, 30, 169, 16, 49, 7271, 1, 1611, 13, 57, 8, 535, 151, 11, 57]\n"
     ]
    }
   ],
   "source": [
    "# integer encode sequences of words\n",
    "from keras.preprocessing.text import Tokenizer\n",
    "tokenizer = Tokenizer()\n",
    "tokenizer.fit_on_texts(lines)\n",
    "sequences = tokenizer.texts_to_sequences(lines)\n",
    "print(sequences[0])"
   ]
  },
  {
   "cell_type": "code",
   "execution_count": 32,
   "metadata": {},
   "outputs": [
    {
     "name": "stdout",
     "output_type": "stream",
     "text": [
      "Vocabulary Size 7276\n",
      "Vocabulary {'the': 1, 'and': 2, 'of': 3, 'to': 4, 'is': 5, 'in': 6, 'he': 7, 'a': 8, 'that': 9, 'be': 10, 'i': 11, 'not': 12, 'which': 13, 'are': 14, 'you': 15, 'they': 16, 'or': 17, 'will': 18, 'said': 19, 'as': 20, 'we': 21, 'but': 22, 'have': 23, 'them': 24, 'his': 25, 'for': 26, 'by': 27, 'who': 28, 'their': 29, 'what': 30, 'then': 31, 'this': 32, 'one': 33, 'if': 34, 'with': 35, 'there': 36, 'all': 37, 'true': 38, 'at': 39, 'when': 40, 'do': 41, 'other': 42, 'has': 43, 'yes': 44, 'any': 45, 'him': 46, 'good': 47, 'no': 48, 'would': 49, 'may': 50, 'state': 51, 'from': 52, 'man': 53, 'say': 54, 'our': 55, 'only': 56, 'was': 57, 'an': 58, 'so': 59, 'must': 60, 'should': 61, 'more': 62, 'us': 63, 'on': 64, 'can': 65, 'were': 66, 'very': 67, 'now': 68, 'like': 69, 'such': 70, 'replied': 71, 'just': 72, 'certainly': 73, 'than': 74, 'also': 75, 'these': 76, 'same': 77, 'men': 78, 'another': 79, 'about': 80, 'being': 81, 'justice': 82, 'own': 83, 'how': 84, 'soul': 85, 'been': 86, 'into': 87, 'let': 88, 'shall': 89, 'it': 90, 'most': 91, 'my': 92, 'me': 93, 'nature': 94, 'whether': 95, 'life': 96, 'had': 97, 'many': 98, 'well': 99, 'those': 100, 'things': 101, 'way': 102, 'some': 103, 'mean': 104, 'knowledge': 105, 'first': 106, 'your': 107, 'make': 108, 'know': 109, 'see': 110, 'her': 111, 'evil': 112, 'out': 113, 'think': 114, 'right': 115, 'truth': 116, 'himself': 117, 'whom': 118, 'sort': 119, 'because': 120, 'quite': 121, 'never': 122, 'up': 123, 'unjust': 124, 'injustice': 125, 'reason': 126, 'nothing': 127, 'better': 128, 'saying': 129, 'either': 130, 'others': 131, 'therefore': 132, 'best': 133, 'am': 134, 'two': 135, 'every': 136, 'great': 137, 'opinion': 138, 'city': 139, 'far': 140, 'suppose': 141, 'take': 142, 'ought': 143, 'having': 144, 'both': 145, 'time': 146, 'question': 147, 'made': 148, 'upon': 149, 'why': 150, 'thing': 151, 'cannot': 152, 'art': 153, 'again': 154, 'part': 155, 'order': 156, 'gods': 157, 'after': 158, 'mind': 159, 'yet': 160, 'does': 161, 'nor': 162, 'power': 163, 'body': 164, 'too': 165, 'neither': 166, 'able': 167, 'virtue': 168, 'manner': 169, 'whole': 170, 'guardians': 171, 'much': 172, 'use': 173, 'always': 174, 'themselves': 175, 'principle': 176, 'go': 177, 'even': 178, 'under': 179, 'might': 180, 'place': 181, 'tell': 182, 'still': 183, 'words': 184, 'rather': 185, 'anything': 186, 'she': 187, 'pleasure': 188, 'ever': 189, 'over': 190, 'each': 191, 'friend': 192, 'rulers': 193, 'ask': 194, 'answer': 195, 'before': 196, 'speaking': 197, 'clearly': 198, 'come': 199, 'greatest': 200, 'socrates': 201, 'against': 202, 'class': 203, 'found': 204, 'children': 205, 'case': 206, 'further': 207, 'agree': 208, 'among': 209, 'money': 210, 'world': 211, 'kind': 212, 'citizens': 213, 'god': 214, 'glaucon': 215, 'light': 216, 'likely': 217, 'pleasures': 218, 'greater': 219, 'honour': 220, 'desire': 221, 'sight': 222, 'give': 223, 'indeed': 224, 'philosophy': 225, 'thus': 226, 'hear': 227, 'youth': 228, 'less': 229, 'consider': 230, 'end': 231, 'view': 232, 'did': 233, 'desires': 234, 'away': 235, 'war': 236, 'call': 237, 'argument': 238, 'without': 239, 'three': 240, 'wisdom': 241, 'women': 242, 'interest': 243, 'education': 244, 'old': 245, 'look': 246, 'believe': 247, 'understand': 248, 'law': 249, 'spirit': 250, 'seen': 251, 'people': 252, 'imagine': 253, 'little': 254, 'else': 255, 'human': 256, 'states': 257, 'enough': 258, 'while': 259, 'son': 260, 'speak': 261, 'could': 262, 'wise': 263, 'point': 264, 'where': 265, 'thrasymachus': 266, 'love': 267, 'bad': 268, 'making': 269, 'natural': 270, 'persons': 271, 'thought': 272, 'subject': 273, 'form': 274, 'work': 275, 'natures': 276, 'tyrant': 277, 'want': 278, 'matter': 279, 'rest': 280, 'care': 281, 'become': 282, 'music': 283, 'young': 284, 'friends': 285, 'opposite': 286, 'truly': 287, 'number': 288, 'arts': 289, 'next': 290, 'course': 291, 'together': 292, 'person': 293, 'find': 294, 'proceed': 295, 'present': 296, 'individual': 297, 'different': 298, 'called': 299, 'common': 300, 'remember': 301, 'surely': 302, 'homer': 303, 'government': 304, 'father': 305, 'put': 306, 'really': 307, 'eyes': 308, 'last': 309, 'pain': 310, 'sense': 311, 'fear': 312, 'given': 313, 'necessity': 314, 'rule': 315, 'although': 316, 'certain': 317, 'already': 318, 'hand': 319, 'qualities': 320, 'third': 321, 'until': 322, 'comes': 323, 'beauty': 324, 'done': 325, 'private': 326, 'turn': 327, 'change': 328, 'down': 329, 'between': 330, 'meaning': 331, 'enemies': 332, 'need': 333, 'subjects': 334, 'help': 335, 'adeimantus': 336, 'drink': 337, 'general': 338, 'name': 339, 'makes': 340, 'idea': 341, 'within': 342, 'here': 343, 'equally': 344, 'age': 345, 'says': 346, 'whose': 347, 'doing': 348, 'word': 349, 'means': 350, 'real': 351, 'absolute': 352, 'rich': 353, 'something': 354, 'sure': 355, 'though': 356, 'small': 357, 'principles': 358, 'difficulty': 359, 'temperance': 360, 'stronger': 361, 'death': 362, 'similar': 363, 'philosopher': 364, 'appear': 365, 'laws': 366, 'ruler': 367, 'lover': 368, 'whereas': 369, 'character': 370, 'hardly': 371, 'once': 372, 'heaven': 373, 'exactly': 374, 'begin': 375, 'gymnastic': 376, 'receive': 377, 'going': 378, 'second': 379, 'lives': 380, 'impossible': 381, 'eye': 382, 'public': 383, 'live': 384, 'existence': 385, 'guardian': 386, 'full': 387, 'possible': 388, 'asked': 389, 'long': 390, 'often': 391, 'poets': 392, 'longer': 393, 'wealth': 394, 'appears': 395, 'doubt': 396, 'instead': 397, 'hands': 398, 'forms': 399, 'science': 400, 'happiness': 401, 'worse': 402, 'get': 403, 'example': 404, 'unless': 405, 'perfectly': 406, 'perfect': 407, 'day': 408, 'difference': 409, 'health': 410, 'earth': 411, 'courage': 412, 'follow': 413, 'grow': 414, 'study': 415, 'years': 416, 'medicine': 417, 'lie': 418, 'side': 419, 'taken': 420, 'none': 421, 'supposed': 422, 'allow': 423, 'pure': 424, 'simple': 425, 'object': 426, 'brought': 427, 'noble': 428, 'higher': 429, 'necessary': 430, 'beautiful': 431, 'told': 432, 'few': 433, 'wrong': 434, 'seem': 435, 'however': 436, 'according': 437, 'off': 438, 'gain': 439, 'ill': 440, 'business': 441, 'imitation': 442, 'democracy': 443, 'towards': 444, 'poor': 445, 'gold': 446, 'allowed': 447, 'above': 448, 'ready': 449, 'times': 450, 'four': 451, 'learn': 452, 'knows': 453, 'enquiry': 454, 'ignorance': 455, 'harmony': 456, 'divine': 457, 'sun': 458, 'fair': 459, 'experience': 460, 'poet': 461, 'reverse': 462, 'enemy': 463, 'proper': 464, 'food': 465, 'dear': 466, 'came': 467, 'quality': 468, 'seeing': 469, 'highest': 470, 'described': 471, 'degree': 472, 'constitution': 473, 'image': 474, 'master': 475, 'several': 476, 'happy': 477, 'termed': 478, 'wish': 479, 'admit': 480, 'required': 481, 'compelled': 482, 'through': 483, 'beyond': 484, 'individuals': 485, 'philosophers': 486, 'ridiculous': 487, 'hold': 488, 'physician': 489, 'style': 490, 'becomes': 491, 'bodily': 492, 'term': 493, 'maker': 494, 'mankind': 495, 'least': 496, 'conceive': 497, 'set': 498, 'beginning': 499, 'vice': 500, 'show': 501, 'objects': 502, 'describing': 503, 'polemarchus': 504, 'house': 505, 'regard': 506, 'evils': 507, 'sons': 508, 'easily': 509, 'condition': 510, 'harm': 511, 'thinking': 512, 'reality': 513, 'admitted': 514, 'observe': 515, 'perhaps': 516, 'ways': 517, 'particular': 518, 'ordered': 519, 'poetry': 520, 'lovers': 521, 'imitate': 522, 'faculty': 523, 'shadows': 524, 'satisfied': 525, 'parents': 526, 'disease': 527, 'assuredly': 528, 'heard': 529, 'rightly': 530, 'force': 531, 'miserable': 532, 'souls': 533, 'educated': 534, 'new': 535, 'company': 536, 'easy': 537, 'property': 538, 'below': 539, 'gives': 540, 'result': 541, 'latter': 542, 'nay': 543, 'ignorant': 544, 'generally': 545, 'advantage': 546, 'try': 547, 'strength': 548, 'understanding': 549, 'pains': 550, 'maintain': 551, 'unable': 552, 'oligarchy': 553, 'pass': 554, 'since': 555, 'keep': 556, 'cause': 557, 'peace': 558, 'clear': 559, 'knowing': 560, 'act': 561, 'seeking': 562, 'yourself': 563, 'whatever': 564, 'taking': 565, 'authority': 566, 'behold': 567, 'learning': 568, 'praise': 569, 'everything': 570, 'concerned': 571, 'action': 572, 'single': 573, 'left': 574, 'discovered': 575, 'classes': 576, 'effect': 577, 'former': 578, 'bring': 579, 'habit': 580, 'woman': 581, 'geometry': 582, 'turned': 583, 'known': 584, 'draw': 585, 'sake': 586, 'useful': 587, 'silver': 588, 'useless': 589, 'agreed': 590, 'danger': 591, 'notion': 592, 'goes': 593, 'tyrannical': 594, 'takes': 595, 'slaves': 596, 'houses': 597, 'kinds': 598, 'animals': 599, 'sorrow': 600, 'passion': 601, 'intermediate': 602, 'training': 603, 'visible': 604, 'oligarchical': 605, 'bed': 606, 'round': 607, 'deny': 608, 'freedom': 609, 'country': 610, 'leave': 611, 'actions': 612, 'shown': 613, 'saw': 614, 'escape': 615, 'follows': 616, 'inferior': 617, 'require': 618, 'alone': 619, 'tyranny': 620, 'excellence': 621, 'false': 622, 'upwards': 623, 'ones': 624, 'trained': 625, 'moment': 626, 'rhythm': 627, 'element': 628, 'relation': 629, 'share': 630, 'pursuits': 631, 'perceive': 632, 'tale': 633, 'bear': 634, 'pilot': 635, 'excellent': 636, 'seems': 637, 'dogs': 638, 'angry': 639, 'ruling': 640, 'acknowledge': 641, 'deemed': 642, 'judge': 643, 'fight': 644, 'assume': 645, 'utterly': 646, 'middle': 647, 'days': 648, 'sorts': 649, 'influence': 650, 'naturally': 651, 'spoke': 652, 'images': 653, 'gifts': 654, 'home': 655, 'enquire': 656, 'feeling': 657, 'near': 658, 'tales': 659, 'pay': 660, 'back': 661, 'spoken': 662, 'alike': 663, 'command': 664, 'play': 665, 'account': 666, 'itself': 667, 'names': 668, 'whenever': 669, 'worst': 670, 'affirm': 671, 'ground': 672, 'suffer': 673, 'judgment': 674, 'honours': 675, 'describe': 676, 'strain': 677, 'minds': 678, 'mother': 679, 'painter': 680, 'original': 681, 'ourselves': 682, 'sees': 683, 'parts': 684, 'military': 685, 'possibility': 686, 'virtues': 687, 'sciences': 688, 'received': 689, 'thinks': 690, 'child': 691, 'giving': 692, 'guard': 693, 'attempt': 694, 'duty': 695, 'interests': 696, 'mistaken': 697, 'respect': 698, 'fails': 699, 'its': 700, 'office': 701, 'free': 702, 'considered': 703, 'honourable': 704, 'carried': 705, 'gentle': 706, 'appearance': 707, 'causes': 708, 'dog': 709, 'zeus': 710, 'matters': 711, 'parent': 712, 'attain': 713, 'dialectic': 714, 'run': 715, 'arrived': 716, 'undoubtedly': 717, 'battle': 718, 'discussion': 719, 'willing': 720, 'fact': 721, 'numbers': 722, 'cases': 723, 'payment': 724, 'utter': 725, 'conclusion': 726, 'discover': 727, 'sometimes': 728, 'mere': 729, 'wants': 730, 'origin': 731, 'hearing': 732, 'remains': 733, 'getting': 734, 'large': 735, 'reasons': 736, 'rate': 737, 'unlike': 738, 'please': 739, 'add': 740, 'lest': 741, 'purpose': 742, 'rewards': 743, 'liberty': 744, 'king': 745, 'dead': 746, 'finger': 747, 'water': 748, 'cities': 749, 'process': 750, 'land': 751, 'especially': 752, 'author': 753, 'previous': 754, 'lot': 755, 'meet': 756, 'harmonies': 757, 'drawn': 758, 'equal': 759, 'intelligence': 760, 'proportion': 761, 'hellenes': 762, 'measure': 763, 'thirst': 764, 'division': 765, 'pursuit': 766, 'distance': 767, 'coming': 768, 'listen': 769, 'soon': 770, 'journey': 771, 'fault': 772, 'answered': 773, 'possess': 774, 'profit': 775, 'sweet': 776, 'possession': 777, 'probably': 778, 'musician': 779, 'guilty': 780, 'mistake': 781, 'myself': 782, 'weaker': 783, 'absolutely': 784, 'liable': 785, 'contrary': 786, 'self': 787, 'fail': 788, 'deal': 789, 'got': 790, 'entirely': 791, 'ideas': 792, 'ears': 793, 'choose': 794, 'story': 795, 'incapable': 796, 'unity': 797, 'explain': 798, 'necessarily': 799, 'practise': 800, 'arise': 801, 'lead': 802, 'along': 803, 'continue': 804, 'fourth': 805, 'husbandman': 806, 'motion': 807, 'destroy': 808, 'elements': 809, 'aware': 810, 'imitator': 811, 'fall': 812, 'soldiers': 813, 'strange': 814, 'sphere': 815, 'terms': 816, 'essence': 817, 'wives': 818, 'offer': 819, 'took': 820, 'persuade': 821, 'carry': 822, 'head': 823, 'difficult': 824, 'feel': 825, 'fortune': 826, 'hence': 827, 'begins': 828, 'occasion': 829, 'greatly': 830, 'advantages': 831, 'sacrifices': 832, 'meant': 833, 'bodies': 834, 'benefit': 835, 'wild': 836, 'beast': 837, 'clearness': 838, 'answers': 839, 'dare': 840, 'notions': 841, 'acknowledged': 842, 'artist': 843, 'distinguished': 844, 'blessed': 845, 'fairly': 846, 'passed': 847, 'proof': 848, 'began': 849, 'special': 850, 'laid': 851, 'trouble': 852, 'charming': 853, 'profitable': 854, 'creature': 855, 'exist': 856, 'army': 857, 'appointed': 858, 'lost': 859, 'apply': 860, 'taste': 861, 'voice': 862, 'honoured': 863, 'service': 864, 'short': 865, 'five': 866, 'spirited': 867, 'wonder': 868, 'likeness': 869, 'dream': 870, 'vision': 871, 'courageous': 872, 'carpenter': 873, 'slave': 874, 'nearly': 875, 'corruption': 876, 'passionate': 877, 'ruin': 878, 'upper': 879, 'community': 880, 'figure': 881, 'appeared': 882, 'remain': 883, 'refuse': 884, 'horses': 885, 'convinced': 886, 'famous': 887, 'reply': 888, 'reflect': 889, 'hope': 890, 'arms': 891, 'return': 892, 'senses': 893, 'expected': 894, 'fixed': 895, 'hard': 896, 'length': 897, 'wholly': 898, 'democratical': 899, 'remark': 900, 'used': 901, 'skill': 902, 'questions': 903, 'future': 904, 'superior': 905, 'sailors': 906, 'provide': 907, 'aim': 908, 'perfection': 909, 'taught': 910, 'fancy': 911, 'learned': 912, 'determine': 913, 'lesser': 914, 'assent': 915, 'various': 916, 'held': 917, 'knew': 918, 'serious': 919, 'goods': 920, 'judges': 921, 'strong': 922, 'earnest': 923, 'otherwise': 924, 'choice': 925, 'telling': 926, 'relative': 927, 'quarrel': 928, 'family': 929, 'except': 930, 'blind': 931, 'misery': 932, 'passing': 933, 'reputation': 934, 'worthy': 935, 'watch': 936, 'chosen': 937, 'becoming': 938, 'heavens': 939, 'forth': 940, 'living': 941, 'numerous': 942, 'heroes': 943, 'afraid': 944, 'offspring': 945, 'larger': 946, 'mention': 947, 'labour': 948, 'multitude': 949, 'warrior': 950, 'duties': 951, 'gymnastics': 952, 'external': 953, 'fairest': 954, 'temperate': 955, 'kings': 956, 'habits': 957, 'discord': 958, 'asclepius': 959, 'happen': 960, 'ideal': 961, 'holds': 962, 'born': 963, 'legislator': 964, 'appetites': 965, 'akin': 966, 'birth': 967, 'hypotheses': 968, 'remaining': 969, 'direction': 970, 'servant': 971, 'commonly': 972, 'suspect': 973, 'besides': 974, 'expect': 975, 'sum': 976, 'sleep': 977, 'debt': 978, 'amid': 979, 'inference': 980, 'argue': 981, 'utmost': 982, 'avoid': 983, 'obey': 984, 'exercise': 985, 'suitable': 986, 'shepherd': 987, 'scale': 988, 'ambitious': 989, 'task': 990, 'propose': 991, 'practice': 992, 'disposed': 993, 'freemen': 994, 'accomplished': 995, 'deprived': 996, 'assigned': 997, 'iron': 998, 'step': 999, 'hour': 1000, 'lying': 1001, 'generation': 1002, 'prove': 1003, 'shadow': 1004, 'deceived': 1005, 'lose': 1006, 'defence': 1007, 'search': 1008, 'calling': 1009, 'heads': 1010, 'poverty': 1011, 'fire': 1012, 'colours': 1013, 'important': 1014, 'observed': 1015, 'cast': 1016, 'hunger': 1017, 'tragedy': 1018, 'circumstances': 1019, 'falsehood': 1020, 'note': 1021, 'rid': 1022, 'heart': 1023, 'worth': 1024, 'meanness': 1025, 'kindred': 1026, 'rhythms': 1027, 'determined': 1028, 'harmonious': 1029, 'justly': 1030, 'belief': 1031, 'spend': 1032, 'increase': 1033, 'auxiliaries': 1034, 'destroyed': 1035, 'distinct': 1036, 'barbarians': 1037, 'herself': 1038, 'rational': 1039, 'stars': 1040, 'calculation': 1041, 'astronomy': 1042, 'thousand': 1043, 'went': 1044, 'book': 1045, 'brother': 1046, 'race': 1047, 'night': 1048, 'gone': 1049, 'attributed': 1050, 'wanting': 1051, 'acquired': 1052, 'value': 1053, 'filled': 1054, 'riches': 1055, 'due': 1056, 'o': 1057, 'include': 1058, 'injury': 1059, 'sea': 1060, 'skilful': 1061, 'stand': 1062, 'fallen': 1063, 'wicked': 1064, 'cold': 1065, 'folly': 1066, 'approve': 1067, 'speaker': 1068, 'distinguish': 1069, 'affected': 1070, 'mode': 1071, 'captain': 1072, 'ear': 1073, 'sheep': 1074, 'foolish': 1075, 'comparison': 1076, 'wherever': 1077, 'punished': 1078, 'conceived': 1079, 'merely': 1080, 'deem': 1081, 'compared': 1082, 'half': 1083, 'ends': 1084, 'proposal': 1085, 'looking': 1086, 'reach': 1087, 'gets': 1088, 'mentioned': 1089, 'speaks': 1090, 'universal': 1091, 'weak': 1092, 'acquire': 1093, 'desired': 1094, 'hero': 1095, 'infer': 1096, 'arrive': 1097, 'wits': 1098, 'rare': 1099, 'illustration': 1100, 'arises': 1101, 'husbandmen': 1102, 'servants': 1103, 'wine': 1104, 'drinking': 1105, 'ordinary': 1106, 'healthy': 1107, 'ours': 1108, 'brave': 1109, 'gifted': 1110, 'stories': 1111, 'high': 1112, 'places': 1113, 'repeated': 1114, 'virtuous': 1115, 'changes': 1116, 'anger': 1117, 'tells': 1118, 'fellow': 1119, 'chief': 1120, 'endure': 1121, 'counsel': 1122, 'daughter': 1123, 'entire': 1124, 'imitations': 1125, 'grace': 1126, 'region': 1127, 'faculties': 1128, 'trial': 1129, 'fathers': 1130, 'grows': 1131, 'lower': 1132, 'distinction': 1133, 'regarded': 1134, 'politics': 1135, 'companions': 1136, 'intellectual': 1137, 'darkness': 1138, 'interval': 1139, 'move': 1140, 'opinions': 1141, 'studies': 1142, 'den': 1143, 'ten': 1144, 'drones': 1145, 'unnecessary': 1146, 'removed': 1147, 'delighted': 1148, 'request': 1149, 'relations': 1150, 'blame': 1151, 'creation': 1152, 'enter': 1153, 'deeds': 1154, 'weakness': 1155, 'clearer': 1156, 'dark': 1157, 'acquisition': 1158, 'ship': 1159, 'strike': 1160, 'fighting': 1161, 'affirmed': 1162, 'error': 1163, 'assumed': 1164, 'injured': 1165, 'heat': 1166, 'seek': 1167, 'piece': 1168, 'chance': 1169, 'finding': 1170, 'pieces': 1171, 'answering': 1172, 'reflection': 1173, 'teach': 1174, 'eating': 1175, 'differ': 1176, 'addition': 1177, 'commands': 1178, 'arithmetic': 1179, 'artists': 1180, 'repeat': 1181, 'prevail': 1182, 'popular': 1183, 'lion': 1184, 'defect': 1185, 'lord': 1186, 'happens': 1187, 'affairs': 1188, 'suffering': 1189, 'moreover': 1190, 'market': 1191, 'inclined': 1192, 'language': 1193, 'receiving': 1194, 'confined': 1195, 'derived': 1196, 'prefer': 1197, 'method': 1198, 'simplicity': 1199, 'talking': 1200, 'almost': 1201, 'rank': 1202, 'enslaved': 1203, 'goodness': 1204, 'divisions': 1205, 'exercises': 1206, 'proved': 1207, 'praising': 1208, 'ring': 1209, 'appearances': 1210, 'powers': 1211, 'reached': 1212, 'lay': 1213, 'hesiod': 1214, 'extraordinary': 1215, 'verse': 1216, 'completed': 1217, 'exchange': 1218, 'forgotten': 1219, 'possibly': 1220, 'variety': 1221, 'physicians': 1222, 'limit': 1223, 'animal': 1224, 'everybody': 1225, 'preceded': 1226, 'recognise': 1227, 'narrative': 1228, 'lands': 1229, 'truest': 1230, 'slavery': 1231, 'control': 1232, 'warriors': 1233, 'misfortune': 1234, 'slight': 1235, 'loving': 1236, 'narration': 1237, 'leads': 1238, 'imitative': 1239, 'male': 1240, 'female': 1241, 'ashamed': 1242, 'sounds': 1243, 'temper': 1244, 'intemperance': 1245, 'instrument': 1246, 'athletes': 1247, 'diseases': 1248, 'raise': 1249, 'constitutions': 1250, 'pattern': 1251, 'nurture': 1252, 'preserve': 1253, 'royal': 1254, 'brass': 1255, 'divided': 1256, 'colour': 1257, 'citizen': 1258, 'followers': 1259, 'qualified': 1260, 'period': 1261, 'pursue': 1262, 'disorder': 1263, 'actual': 1264, 'governed': 1265, 'corresponding': 1266, 'childhood': 1267, 'prisoners': 1268, 'intellect': 1269, 'immortal': 1270, 'wanted': 1271, 'inhabitants': 1272, 'cephalus': 1273, 'behind': 1274, 'added': 1275, 'aged': 1276, 'mad': 1277, 'passions': 1278, 'characters': 1279, 'yours': 1280, 'praises': 1281, 'drawing': 1282, 'concerning': 1283, 'asks': 1284, 'correct': 1285, 'definition': 1286, 'simonides': 1287, 'deposit': 1288, 'contracts': 1289, 'safely': 1290, 'soldier': 1291, 'implied': 1292, 'err': 1293, 'consequence': 1294, 'simply': 1295, 'produce': 1296, 'forbid': 1297, 'eager': 1298, 'sir': 1299, 'statement': 1300, 'sick': 1301, 'sailor': 1302, 'patient': 1303, 'gains': 1304, 'temples': 1305, 'exact': 1306, 'trader': 1307, 'receives': 1308, 'works': 1309, 'intelligible': 1310, 'ambition': 1311, 'composed': 1312, 'claim': 1313, 'struggle': 1314, 'extreme': 1315, 'existing': 1316, 'united': 1317, 'feast': 1318, 'fill': 1319, 'acting': 1320, 'asking': 1321, 'cut': 1322, 'branch': 1323, 'delight': 1324, 'superiority': 1325, 'converse': 1326, 'following': 1327, 'path': 1328, 'supposing': 1329, 'effected': 1330, 'masters': 1331, 'bound': 1332, 'spring': 1333, 'supply': 1334, 'toil': 1335, 'soothing': 1336, 'muses': 1337, 'neglect': 1338, 'walk': 1339, 'heavenly': 1340, 'picture': 1341, 'owing': 1342, 'ancient': 1343, 'adequately': 1344, 'essential': 1345, 'seriously': 1346, 'needed': 1347, 'shoemaker': 1348, 'considerable': 1349, 'artisan': 1350, 'select': 1351, 'presence': 1352, 'apt': 1353, 'dangerous': 1354, 'contradiction': 1355, 'fashion': 1356, 'lies': 1357, 'unholy': 1358, 'thoughts': 1359, 'tragic': 1360, 'expression': 1361, 'madness': 1362, 'agamemnon': 1363, 'song': 1364, 'beg': 1365, 'verily': 1366, 'falls': 1367, 'nobler': 1368, 'shame': 1369, 'mortal': 1370, 'leaders': 1371, 'awake': 1372, 'unwilling': 1373, 'past': 1374, 'double': 1375, 'intended': 1376, 'early': 1377, 'instruments': 1378, 'melody': 1379, 'sound': 1380, 'flute': 1381, 'foot': 1382, 'mentioning': 1383, 'accordance': 1384, 'absence': 1385, 'dwell': 1386, 'stage': 1387, 'cure': 1388, 'join': 1389, 'waste': 1390, 'philosophical': 1391, 'regulations': 1392, 'compare': 1393, 'dangers': 1394, 'hereafter': 1395, 'conception': 1396, 'opposition': 1397, 'assuming': 1398, 'irrational': 1399, 'wall': 1400, 'insatiable': 1401, 'orderly': 1402, 'democratic': 1403, 'equals': 1404, 'memory': 1405, 'inasmuch': 1406, 'passes': 1407, 'followed': 1408, 'saved': 1409, 'inevitably': 1410, 'inherent': 1411, 'driven': 1412, 'square': 1413, 'turning': 1414, 'exists': 1415, 'drone': 1416, 'monster': 1417, 'spindle': 1418, 'whorl': 1419, 'lachesis': 1420, 'wait': 1421, 'talk': 1422, 'stay': 1423, 'accordingly': 1424, 'brothers': 1425, 'proverb': 1426, 'punishment': 1427, 'laughing': 1428, 'finds': 1429, 'nurse': 1430, 'deceive': 1431, 'owes': 1432, 'setting': 1433, 'denied': 1434, 'shoes': 1435, 'player': 1436, 'horse': 1437, 'kept': 1438, 'precisely': 1439, 'hate': 1440, 'mighty': 1441, 'laugh': 1442, 'reasonable': 1443, 'everywhere': 1444, 'whence': 1445, 'cease': 1446, 'ago': 1447, 'intention': 1448, 'contest': 1449, 'gave': 1450, 'completely': 1451, 'loss': 1452, 'secondly': 1453, 'dealings': 1454, 'amount': 1455, 'hated': 1456, 'refusing': 1457, 'defend': 1458, 'party': 1459, 'declare': 1460, 'commit': 1461, 'consistent': 1462, 'offices': 1463, 'govern': 1464, 'separate': 1465, 'paid': 1466, 'attend': 1467, 'modes': 1468, 'induced': 1469, 'contention': 1470, 'speech': 1471, 'unite': 1472, 'strings': 1473, 'enslave': 1474, 'fulfil': 1475, 'observation': 1476, 'grown': 1477, 'nevertheless': 1478, 'sought': 1479, 'praised': 1480, 'aside': 1481, 'perplexed': 1482, 'maintained': 1483, 'proceeding': 1484, 'sent': 1485, 'respects': 1486, 'aeschylus': 1487, 'decision': 1488, 'description': 1489, 'throw': 1490, 'invention': 1491, 'prose': 1492, 'dwelling': 1493, 'pray': 1494, 'flower': 1495, 'ascend': 1496, 'political': 1497, 'courts': 1498, 'partly': 1499, 'persuasion': 1500, 'lips': 1501, 'genius': 1502, 'verses': 1503, 'letters': 1504, 'demand': 1505, 'artisans': 1506, 'level': 1507, 'accustomed': 1508, 'capable': 1509, 'attention': 1510, 'heavy': 1511, 'face': 1512, 'criterion': 1513, 'fiction': 1514, 'mothers': 1515, 'type': 1516, 'crimes': 1517, 'relatives': 1518, 'founders': 1519, 'represented': 1520, 'hurtful': 1521, 'permitted': 1522, 'rules': 1523, 'deed': 1524, 'realities': 1525, 'fit': 1526, 'waking': 1527, 'grant': 1528, 'apollo': 1529, 'raised': 1530, 'disciples': 1531, 'terrible': 1532, 'beneath': 1533, 'unworthy': 1534, 'laughter': 1535, 'excess': 1536, 'anybody': 1537, 'priest': 1538, 'greeks': 1539, 'amusement': 1540, 'glorious': 1541, 'believing': 1542, 'compel': 1543, 'blood': 1544, 'omitted': 1545, 'treated': 1546, 'union': 1547, 'break': 1548, 'depart': 1549, 'imitators': 1550, 'forbidden': 1551, 'jest': 1552, 'prescribed': 1553, 'obvious': 1554, 'softness': 1555, 'fortunate': 1556, 'notes': 1557, 'complex': 1558, 'sights': 1559, 'space': 1560, 'magnificence': 1561, 'approach': 1562, 'points': 1563, 'ingenious': 1564, 'system': 1565, 'dispute': 1566, 'designed': 1567, 'conditions': 1568, 'elder': 1569, 'loves': 1570, 'forget': 1571, 'foreign': 1572, 'spot': 1573, 'belongs': 1574, 'touch': 1575, 'painting': 1576, 'impose': 1577, 'breed': 1578, 'manners': 1579, 'lawless': 1580, 'neglected': 1581, 'remind': 1582, 'realized': 1583, 'ages': 1584, 'satisfaction': 1585, 'objections': 1586, 'explained': 1587, 'governors': 1588, 'risk': 1589, 'sex': 1590, 'plan': 1591, 'associate': 1592, 'prevent': 1593, 'seventh': 1594, 'victory': 1595, 'prize': 1596, 'eternal': 1597, 'obliged': 1598, 'generated': 1599, 'students': 1600, 'placed': 1601, 'solid': 1602, 'figures': 1603, 'spangled': 1604, 'revolution': 1605, 'timocracy': 1606, 'x': 1607, 'miserly': 1608, 'badness': 1609, 'eighth': 1610, 'festival': 1611, 'finished': 1612, 'starting': 1613, 'insist': 1614, 'court': 1615, 'charm': 1616, 'report': 1617, 'flock': 1618, 'eat': 1619, 'felt': 1620, 'escaped': 1621, 'occurred': 1622, 'tempers': 1623, 'makers': 1624, 'authors': 1625, 'convince': 1626, 'debts': 1627, 'preceding': 1628, 'instances': 1629, 'partner': 1630, 'game': 1631, 'laying': 1632, 'builder': 1633, 'buy': 1634, 'hook': 1635, 'camp': 1636, 'keeping': 1637, 'theft': 1638, 'practised': 1639, 'seeming': 1640, 'opponent': 1641, 'nonsense': 1642, 'looked': 1643, 'pity': 1644, 'faint': 1645, 'trying': 1646, 'doubtless': 1647, 'commanded': 1648, 'witness': 1649, 'implies': 1650, 'cured': 1651, 'ministers': 1652, 'requires': 1653, 'considers': 1654, 'likewise': 1655, 'reluctant': 1656, 'leaves': 1657, 'happiest': 1658, 'detected': 1659, 'disgrace': 1660, 'thieves': 1661, 'censure': 1662, 'sufficient': 1663, 'position': 1664, 'openly': 1665, 'table': 1666, 'confused': 1667, 'engaged': 1668, 'governments': 1669, 'likes': 1670, 'penalty': 1671, 'discussed': 1672, 'advantageous': 1673, 'profession': 1674, 'meats': 1675, 'possessed': 1676, 'creates': 1677, 'variance': 1678, 'abiding': 1679, 'abode': 1680, 'evident': 1681, 'examine': 1682, 'arose': 1683, 'pursued': 1684, 'sooner': 1685, 'satisfactory': 1686, 'theme': 1687, 'resist': 1688, 'road': 1689, 'met': 1690, 'invisible': 1691, 'imagined': 1692, 'prison': 1693, 'hearts': 1694, 'mine': 1695, 'counsels': 1696, 'bears': 1697, 'marry': 1698, 'marriage': 1699, 'assist': 1700, 'fame': 1701, 'brings': 1702, 'extend': 1703, 'declaring': 1704, 'committed': 1705, 'devote': 1706, 'wickedness': 1707, 'secret': 1708, 'praying': 1709, 'hears': 1710, 'cowardice': 1711, 'preserved': 1712, 'unseen': 1713, 'creator': 1714, 'labours': 1715, 'producing': 1716, 'adapted': 1717, 'tools': 1718, 'society': 1719, 'constituted': 1720, 'sell': 1721, 'production': 1722, 'sit': 1723, 'idle': 1724, 'applied': 1725, 'plenty': 1726, 'established': 1727, 'feed': 1728, 'clean': 1729, 'beds': 1730, 'prepare': 1731, 'created': 1732, 'objection': 1733, 'votaries': 1734, 'nurses': 1735, 'fitted': 1736, 'earliest': 1737, 'devoted': 1738, 'combination': 1739, 'strangers': 1740, 'stranger': 1741, 'curious': 1742, 'main': 1743, 'model': 1744, 'quarrelling': 1745, 'assert': 1746, 'occur': 1747, 'lots': 1748, 'strife': 1749, 'plants': 1750, 'bravest': 1751, 'river': 1752, 'sentiments': 1753, 'teachers': 1754, 'moved': 1755, 'weeping': 1756, 'events': 1757, 'medicines': 1758, 'carries': 1759, 'die': 1760, 'destiny': 1761, 'breast': 1762, 'feelings': 1763, 'combined': 1764, 'teacher': 1765, 'chryses': 1766, 'troy': 1767, 'behalf': 1768, 'thither': 1769, 'decided': 1770, 'smaller': 1771, 'imitating': 1772, 'copy': 1773, 'behaviour': 1774, 'wisely': 1775, 'mixed': 1776, 'manifold': 1777, 'gentlemen': 1778, 'wonderful': 1779, 'musical': 1780, 'unbecoming': 1781, 'severally': 1782, 'recollection': 1783, 'mass': 1784, 'inner': 1785, 'educate': 1786, 'sister': 1787, 'disgraceful': 1788, 'led': 1789, 'pride': 1790, 'usual': 1791, 'occupation': 1792, 'excessive': 1793, 'tragedians': 1794, 'avaricious': 1795, 'content': 1796, 'moderate': 1797, 'cowardly': 1798, 'violence': 1799, 'learns': 1800, 'forced': 1801, 'compels': 1802, 'toils': 1803, 'bearing': 1804, 'fed': 1805, 'descend': 1806, 'oracle': 1807, 'tyrants': 1808, 'saviours': 1809, 'occurs': 1810, 'discovery': 1811, 'directed': 1812, 'growth': 1813, 'standing': 1814, 'lasting': 1815, 'resemble': 1816, 'ordering': 1817, 'calls': 1818, 'white': 1819, 'proceeds': 1820, 'feet': 1821, 'cobbler': 1822, 'complete': 1823, 'forward': 1824, 'refer': 1825, 'thirsty': 1826, 'bids': 1827, 'ally': 1828, 'satisfy': 1829, 'raising': 1830, 'scheme': 1831, 'reasoning': 1832, 'differences': 1833, 'capacity': 1834, 'beneficial': 1835, 'wave': 1836, 'fine': 1837, 'tend': 1838, 'hellenic': 1839, 'hellas': 1840, 'enmity': 1841, 'enable': 1842, 'truer': 1843, 'greatness': 1844, 'extremes': 1845, 'shows': 1846, 'covetous': 1847, 'vain': 1848, 'exile': 1849, 'rarely': 1850, 'tasted': 1851, 'fierce': 1852, 'sufficiently': 1853, 'tried': 1854, 'aye': 1855, 'ignoble': 1856, 'reflections': 1857, 'loose': 1858, 'fractions': 1859, 'vulgar': 1860, 'chose': 1861, 'flatterers': 1862, 'cubed': 1863, 'wealthy': 1864, 'stings': 1865, 'protector': 1866, 'destruction': 1867, 'er': 1868, 'sixth': 1869, 'fifth': 1870, 'catch': 1871, 'companion': 1872, 'horseback': 1873, 'during': 1874, 'rise': 1875, 'cleitophon': 1876, 'smooth': 1877, 'birds': 1878, 'acquaintance': 1879, 'uttered': 1880, 'complaints': 1881, 'characteristic': 1882, 'affection': 1883, 'fears': 1884, 'cares': 1885, 'nearer': 1886, 'conscious': 1887, 'apprehension': 1888, 'interposing': 1889, 'repayment': 1890, 'inspired': 1891, 'analogy': 1892, 'sickness': 1893, 'voyage': 1894, 'stones': 1895, 'partnership': 1896, 'harp': 1897, 'safe': 1898, 'create': 1899, 'injure': 1900, 'deteriorated': 1901, 'injuring': 1902, 'offered': 1903, 'accuracy': 1904, 'struck': 1905, 'twice': 1906, 'putting': 1907, 'deserve': 1908, 'pleasant': 1909, 'refuses': 1910, 'tyrannies': 1911, 'democracies': 1912, 'obedience': 1913, 'wisest': 1914, 'admitting': 1915, 'accept': 1916, 'arithmetician': 1917, 'occurring': 1918, 'strict': 1919, 'cheat': 1920, 'failed': 1921, 'circumstance': 1922, 'defects': 1923, 'needs': 1924, 'proposition': 1925, 'finally': 1926, 'continued': 1927, 'looks': 1928, 'oh': 1929, 'dissolved': 1930, 'serve': 1931, 'unlawful': 1932, 'apparent': 1933, 'sacred': 1934, 'robbers': 1935, 'importance': 1936, 'willingly': 1937, 'progress': 1938, 'navigation': 1939, 'adopt': 1940, 'healing': 1941, 'specially': 1942, 'gained': 1943, 'orders': 1944, 'governing': 1945, 'helping': 1946, 'wherefore': 1947, 'ruled': 1948, 'obtain': 1949, 'decide': 1950, 'admissions': 1951, 'undetected': 1952, 'refute': 1953, 'exceed': 1954, 'drinks': 1955, 'proceeded': 1956, 'powerful': 1957, 'band': 1958, 'friendship': 1959, 'retains': 1960, 'remainder': 1961, 'proposed': 1962, 'reckoned': 1963, 'enjoy': 1964, 'comparative': 1965, 'refrain': 1966, 'consequences': 1967, 'results': 1968, 'suffered': 1969, 'gyges': 1970, 'lydian': 1971, 'shepherds': 1972, 'custom': 1973, 'sitting': 1974, 'became': 1975, 'fast': 1976, 'kill': 1977, 'recover': 1978, 'attempts': 1979, 'soil': 1980, 'reputed': 1981, 'marriages': 1982, 'blessings': 1983, 'black': 1984, 'garlands': 1985, 'immortality': 1986, 'posterity': 1987, 'hades': 1988, 'portion': 1989, 'writers': 1990, 'attainment': 1991, 'despise': 1992, 'feasts': 1993, 'moon': 1994, 'perform': 1995, 'conclusions': 1996, 'crooked': 1997, 'around': 1998, 'concealment': 1999, 'blamed': 2000, 'possessor': 2001, 'spent': 2002, 'yourselves': 2003, 'proving': 2004, 'impiety': 2005, 'quantity': 2006, 'workman': 2007, 'implements': 2008, 'smiths': 2009, 'supplied': 2010, 'merchants': 2011, 'formed': 2012, 'traders': 2013, 'perfected': 2014, 'moderation': 2015, 'tables': 2016, 'materials': 2017, 'players': 2018, 'application': 2019, 'selection': 2020, 'quick': 2021, 'caught': 2022, 'savage': 2023, 'overcome': 2024, 'furnish': 2025, 'examples': 2026, 'test': 2027, 'swiftness': 2028, 'afterwards': 2029, 'readily': 2030, 'hearers': 2031, 'extremely': 2032, 'garments': 2033, 'silent': 2034, 'models': 2035, 'mixture': 2036, 'meets': 2037, 'iambic': 2038, 'explanation': 2039, 'impious': 2040, 'conform': 2041, 'changed': 2042, 'introduce': 2043, 'daughters': 2044, 'instance': 2045, 'illusion': 2046, 'mythology': 2047, 'admire': 2048, 'slain': 2049, 'lessons': 2050, 'untrue': 2051, 'passages': 2052, 'feared': 2053, 'fly': 2054, 'poetical': 2055, 'defenders': 2056, 'achilles': 2057, 'patroclus': 2058, 'occasions': 2059, 'violent': 2060, 'sensual': 2061, 'line': 2062, 'lust': 2063, 'approved': 2064, 'gift': 2065, 'insolence': 2066, 'offering': 2067, 'actually': 2068, 'dragged': 2069, 'throughout': 2070, 'metre': 2071, 'styles': 2072, 'prohibited': 2073, 'performing': 2074, 'holy': 2075, 'relates': 2076, 'guess': 2077, 'lamentation': 2078, 'strains': 2079, 'soft': 2080, 'firm': 2081, 'represents': 2082, 'purgation': 2083, 'framed': 2084, 'e': 2085, 'heroic': 2086, 'inharmonious': 2087, 'practising': 2088, 'corrupted': 2089, 'discern': 2090, 'combinations': 2091, 'founding': 2092, 'intercourse': 2093, 'regimen': 2094, 'carrying': 2095, 'keen': 2096, 'breeding': 2097, 'compelling': 2098, 'omission': 2099, 'rough': 2100, 'dies': 2101, 'fancying': 2102, 'statesman': 2103, 'fellows': 2104, 'diseased': 2105, 'exclusive': 2106, 'allows': 2107, 'delights': 2108, 'speedily': 2109, 'proportions': 2110, 'hunting': 2111, 'younger': 2112, 'resolution': 2113, 'involuntary': 2114, 'steals': 2115, 'conviction': 2116, 'selected': 2117, 'properly': 2118, 'golden': 2119, 'endeavour': 2120, 'year': 2121, 'source': 2122, 'salvation': 2123, 'internal': 2124, 'charge': 2125, 'purple': 2126, 'assign': 2127, 'potter': 2128, 'cobblers': 2129, 'considering': 2130, 'lighter': 2131, 'implant': 2132, 'innovation': 2133, 'rights': 2134, 'enactments': 2135, 'starts': 2136, 'attract': 2137, 'attaining': 2138, 'advises': 2139, 'legislation': 2140, 'noblest': 2141, 'institution': 2142, 'interpreter': 2143, 'centre': 2144, 'valiant': 2145, 'smallest': 2146, 'resides': 2147, 'preserves': 2148, 'respecting': 2149, 'influences': 2150, 'saving': 2151, 'foundation': 2152, 'freeman': 2153, 'suits': 2154, 'affections': 2155, 'confusion': 2156, 'faith': 2157, 'opposed': 2158, 'concupiscent': 2159, 'largest': 2160, 'fulness': 2161, 'dishonour': 2162, 'hither': 2163, 'aristocracy': 2164, 'close': 2165, 'glad': 2166, 'steps': 2167, 'originally': 2168, 'introduced': 2169, 'ludicrous': 2170, 'ridicule': 2171, 'opponents': 2172, 'admission': 2173, 'agreeable': 2174, 'suddenly': 2175, 'define': 2176, 'divide': 2177, 'differs': 2178, 'prevails': 2179, 'alive': 2180, 'utility': 2181, 'permission': 2182, 'seldom': 2183, 'unknown': 2184, 'prime': 2185, 'twenty': 2186, 'unrighteous': 2187, 'bastard': 2188, 'stamp': 2189, 'joy': 2190, 'reverence': 2191, 'crown': 2192, 'opportunity': 2193, 'infinitely': 2194, 'contented': 2195, 'fain': 2196, 'seemed': 2197, 'advice': 2198, 'tastes': 2199, 'puts': 2200, 'gentleman': 2201, 'spending': 2202, 'philosophic': 2203, 'amused': 2204, 'vessels': 2205, 'array': 2206, 'sophists': 2207, 'older': 2208, 'flatter': 2209, 'accusation': 2210, 'imitates': 2211, 'surface': 2212, 'cleverness': 2213, 'goal': 2214, 'contemplate': 2215, 'perception': 2216, 'underground': 2217, 'mouth': 2218, 'chains': 2219, 'literally': 2220, 'ascent': 2221, 'dazzled': 2222, 'theirs': 2223, 'conversion': 2224, 'invariable': 2225, 'concerns': 2226, 'plane': 2227, 'director': 2228, 'cultivated': 2229, 'regulate': 2230, 'circle': 2231, 'hundred': 2232, 'timocratical': 2233, 'spendthrift': 2234, 'pauper': 2235, 'throne': 2236, 'cultivation': 2237, 'sting': 2238, 'associates': 2239, 'oligarch': 2240, 'happened': 2241, 'cessation': 2242, 'painful': 2243, 'thrice': 2244, 'creations': 2245, 'ardiaeus': 2246, 'clotho': 2247, 'atropos': 2248, 'gather': 2249, 'goddess': 2250, 'reward': 2251, 'ariston': 2252, 'instant': 2253, 'alternative': 2254, 'evening': 2255, 'gathering': 2256, 'arranged': 2257, 'oftener': 2258, 'conversation': 2259, 'sophocles': 2260, 'gladly': 2261, 'calm': 2262, 'grasp': 2263, 'disposition': 2264, 'sits': 2265, 'lightly': 2266, 'abusing': 2267, 'inherited': 2268, 'grandfather': 2269, 'indifferent': 2270, 'fortunes': 2271, 'poems': 2272, 'blessing': 2273, 'crowd': 2274, 'sin': 2275, 'pindar': 2276, 'mightiest': 2277, 'intentionally': 2278, 'unintentionally': 2279, 'believed': 2280, 'parties': 2281, 'owe': 2282, 'meat': 2283, 'corn': 2284, 'playing': 2285, 'sale': 2286, 'pruning': 2287, 'shield': 2288, 'lyre': 2289, 'blow': 2290, 'march': 2291, 'odysseus': 2292, 'conversely': 2293, 'horseman': 2294, 'consists': 2295, 'prepared': 2296, 'breaks': 2297, 'devour': 2298, 'panic': 2299, 'stricken': 2300, 'fury': 2301, 'losing': 2302, 'yielding': 2303, 'six': 2304, 'obviously': 2305, 'falsely': 2306, 'conducive': 2307, 'abominable': 2308, 'infallible': 2309, 'repeating': 2310, 'impression': 2311, 'informer': 2312, 'errs': 2313, 'grammarian': 2314, 'skilled': 2315, 'accurate': 2316, 'execute': 2317, 'sufficing': 2318, 'deficient': 2319, 'precise': 2320, 'reluctance': 2321, 'nose': 2322, 'tends': 2323, 'acts': 2324, 'singly': 2325, 'fearing': 2326, 'victims': 2327, 'shrink': 2328, 'mastery': 2329, 'bath': 2330, 'humble': 2331, 'remarks': 2332, 'confer': 2333, 'rewarded': 2334, 'deception': 2335, 'previously': 2336, 'illustrious': 2337, 'confuse': 2338, 'benefited': 2339, 'additional': 2340, 'respective': 2341, 'execution': 2342, 'avarice': 2343, 'hirelings': 2344, 'dishonourable': 2345, 'plain': 2346, 'measuring': 2347, 'maintaining': 2348, 'deformity': 2349, 'attribute': 2350, 'non': 2351, 'prescribing': 2352, 'permit': 2353, 'examination': 2354, 'unjustly': 2355, 'holding': 2356, 'exercised': 2357, 'hatred': 2358, 'render': 2359, 'rendered': 2360, 'fatal': 2361, 'granted': 2362, 'happier': 2363, 'proves': 2364, 'sakes': 2365, 'troublesome': 2366, 'censured': 2367, 'charmed': 2368, 'voices': 2369, 'lawful': 2370, 'agreement': 2371, 'tradition': 2372, 'opening': 2373, 'beheld': 2374, 'hollow': 2375, 'doors': 2376, 'stooping': 2377, 'send': 2378, 'assembly': 2379, 'collet': 2380, 'touching': 2381, 'trials': 2382, 'kingdom': 2383, 'magic': 2384, 'release': 2385, 'individually': 2386, 'obtaining': 2387, 'keeps': 2388, 'limits': 2389, 'hidden': 2390, 'nobody': 2391, 'clothed': 2392, 'statues': 2393, 'mouths': 2394, 'eulogists': 2395, 'trade': 2396, 'interposed': 2397, 'strongest': 2398, 'tutors': 2399, 'weight': 2400, 'barley': 2401, 'drunk': 2402, 'crowned': 2403, 'inflict': 2404, 'honesty': 2405, 'promise': 2406, 'binding': 2407, 'authorities': 2408, 'appeal': 2409, 'written': 2410, 'mysteries': 2411, 'fortress': 2412, 'establish': 2413, 'professors': 2414, 'persuading': 2415, 'deities': 2416, 'forgive': 2417, 'peradventure': 2418, 'attained': 2419, 'ending': 2420, 'glories': 2421, 'flow': 2422, 'consideration': 2423, 'appropriate': 2424, 'unequal': 2425, 'breath': 2426, 'read': 2427, 'comparing': 2428, 'helpers': 2429, 'gathered': 2430, 'weaver': 2431, 'stock': 2432, 'coat': 2433, 'doer': 2434, 'leisure': 2435, 'draught': 2436, 'contains': 2437, 'empty': 2438, 'handed': 2439, 'principal': 2440, 'purposes': 2441, 'hire': 2442, 'price': 2443, 'population': 2444, 'summer': 2445, 'stripped': 2446, 'winter': 2447, 'meal': 2448, 'hymning': 2449, 'families': 2450, 'beasts': 2451, 'luxurious': 2452, 'originate': 2453, 'callings': 2454, 'actors': 2455, 'train': 2456, 'rhapsodists': 2457, 'divers': 2458, 'slice': 2459, 'determining': 2460, 'success': 2461, 'requiring': 2462, 'handle': 2463, 'armed': 2464, 'bred': 2465, 'apprehend': 2466, 'remarkable': 2467, 'dislikes': 2468, 'final': 2469, 'omit': 2470, 'tender': 2471, 'reject': 2472, 'representation': 2473, 'sufferings': 2474, 'buried': 2475, 'silence': 2476, 'sacrifice': 2477, 'unfit': 2478, 'wars': 2479, 'innumerable': 2480, 'hephaestus': 2481, 'flying': 2482, 'beaten': 2483, 'epic': 2484, 'elsewhere': 2485, 'cup': 2486, 'guilt': 2487, 'deceiving': 2488, 'frame': 2489, 'plant': 2490, 'vigour': 2491, 'winds': 2492, 'applies': 2493, 'composite': 2494, 'conceivable': 2495, 'cowards': 2496, 'unchangeable': 2497, 'inconceivable': 2498, 'senseless': 2499, 'sign': 2500, 'utters': 2501, 'chorus': 2502, 'instruction': 2503, 'lamenting': 2504, 'manhood': 2505, 'shrilling': 2506, 'cry': 2507, 'smoke': 2508, 'rock': 2509, 'frenzy': 2510, 'delineated': 2511, 'earnestly': 2512, 'rebuke': 2513, 'indulged': 2514, 'describes': 2515, 'valued': 2516, 'pupil': 2517, 'introducing': 2518, 'hast': 2519, 'address': 2520, 'draws': 2521, 'endured': 2522, 'restored': 2523, 'dedicated': 2524, 'horrid': 2525, 'dreadful': 2526, 'excuse': 2527, 'demigods': 2528, 'lines': 2529, 'prayed': 2530, 'failing': 2531, 'achaeans': 2532, 'passage': 2533, 'bade': 2534, 'released': 2535, 'building': 2536, 'returned': 2537, 'comedy': 2538, 'imply': 2539, 'altogether': 2540, 'species': 2541, 'succeed': 2542, 'comic': 2543, 'maintenance': 2544, 'illiberality': 2545, 'profess': 2546, 'husband': 2547, 'striving': 2548, 'represent': 2549, 'imitated': 2550, 'ocean': 2551, 'overtaken': 2552, 'illness': 2553, 'feels': 2554, 'flutes': 2555, 'pretty': 2556, 'dicast': 2557, 'clever': 2558, 'wool': 2559, 'depend': 2560, 'expressive': 2561, 'banished': 2562, 'indolence': 2563, 'yield': 2564, 'songs': 2565, 'panharmonic': 2566, 'curiously': 2567, 'unconsciously': 2568, 'damon': 2569, 'details': 2570, 'ratio': 2571, 'vegetable': 2572, 'ugliness': 2573, 'sisters': 2574, 'express': 2575, 'prevented': 2576, 'moral': 2577, 'noxious': 2578, 'purer': 2579, 'mirror': 2580, 'experiences': 2581, 'affinity': 2582, 'keener': 2583, 'intemperate': 2584, 'consent': 2585, 'careful': 2586, 'remarked': 2587, 'suited': 2588, 'feeds': 2589, 'singular': 2590, 'multiply': 2591, 'meaner': 2592, 'abroad': 2593, 'wounded': 2594, 'sickly': 2595, 'constant': 2596, 'dying': 2597, 'understood': 2598, 'continually': 2599, 'richer': 2600, 'remedies': 2601, 'bidding': 2602, 'management': 2603, 'suspicion': 2604, 'exhibited': 2605, 'regular': 2606, 'crime': 2607, 'late': 2608, 'guide': 2609, 'fancies': 2610, 'fool': 2611, 'sanction': 2612, 'corrupt': 2613, 'patients': 2614, 'improvement': 2615, 'devotion': 2616, 'hardness': 2617, 'intensified': 2618, 'brutal': 2619, 'extinguished': 2620, 'culture': 2621, 'using': 2622, 'propriety': 2623, 'presiding': 2624, 'regards': 2625, 'affect': 2626, 'grief': 2627, 'rejected': 2628, 'mature': 2629, 'memorials': 2630, 'hesitation': 2631, 'lastly': 2632, 'attacks': 2633, 'mingled': 2634, 'proclaims': 2635, 'admixture': 2636, 'ranks': 2637, 'fostering': 2638, 'fold': 2639, 'encamped': 2640, 'behave': 2641, 'monstrous': 2642, 'allies': 2643, 'confident': 2644, 'protection': 2645, 'metal': 2646, 'hating': 2647, 'terror': 2648, 'unhappiness': 2649, 'accusations': 2650, 'included': 2651, 'fashioning': 2652, 'till': 2653, 'wheel': 2654, 'luxury': 2655, 'fix': 2656, 'elevating': 2657, 'root': 2658, 'affects': 2659, 'fundamental': 2660, 'accompany': 2661, 'invent': 2662, 'remedy': 2663, 'cutting': 2664, 'assumption': 2665, 'title': 2666, 'educating': 2667, 'justified': 2668, 'denoted': 2669, 'guidance': 2670, 'push': 2671, 'compete': 2672, 'entrust': 2673, 'auxiliary': 2674, 'positive': 2675, 'verified': 2676, 'constructed': 2677, 'theory': 2678, 'revealed': 2679, 'adequate': 2680, 'axis': 2681, 'inclines': 2682, 'longing': 2683, 'intimates': 2684, 'attached': 2685, 'defined': 2686, 'appetitive': 2687, 'satisfactions': 2688, 'outside': 2689, 'forcing': 2690, 'open': 2691, 'indignant': 2692, 'deems': 2693, 'rebuked': 2694, 'accord': 2695, 'leader': 2696, 'intervals': 2697, 'assertion': 2698, 'drew': 2699, 'rear': 2700, 'reflecting': 2701, 'foresaw': 2702, 'discourse': 2703, 'manage': 2704, 'invited': 2705, 'naked': 2706, 'ridiculed': 2707, 'perceived': 2708, 'inconsistency': 2709, 'verbal': 2710, 'bald': 2711, 'invite': 2712, 'administration': 2713, 'absurd': 2714, 'inferiority': 2715, 'unnatural': 2716, 'impossibility': 2717, 'cobbling': 2718, 'motives': 2719, 'base': 2720, 'walking': 2721, 'troubles': 2722, 'births': 2723, 'hymeneal': 2724, 'bringing': 2725, 'thirty': 2726, 'quickest': 2727, 'fifty': 2728, 'connection': 2729, 'bridegroom': 2730, 'month': 2731, 'polity': 2732, 'bond': 2733, 'rejoice': 2734, 'delivered': 2735, 'olympic': 2736, 'accused': 2737, 'expeditions': 2738, 'valour': 2739, 'contrive': 2740, 'succession': 2741, 'win': 2742, 'ajax': 2743, 'kinsmen': 2744, 'domestic': 2745, 'alien': 2746, 'burn': 2747, 'fully': 2748, 'mercy': 2749, 'waves': 2750, 'enquiring': 2751, 'princes': 2752, 'placing': 2753, 'entertain': 2754, 'variable': 2755, 'institutions': 2756, 'coward': 2757, 'genuine': 2758, 'jealousy': 2759, 'unskilful': 2760, 'shut': 2761, 'rogues': 2762, 'parable': 2763, 'pictures': 2764, 'seasons': 2765, 'faction': 2766, 'majority': 2767, 'corrupting': 2768, 'contrast': 2769, 'ruined': 2770, 'theatre': 2771, 'assembled': 2772, 'discernment': 2773, 'mob': 2774, 'gently': 2775, 'leading': 2776, 'running': 2777, 'parallel': 2778, 'restrained': 2779, 'bright': 2780, 'saviour': 2781, 'growing': 2782, 'civil': 2783, 'consisting': 2784, 'muse': 2785, 'envy': 2786, 'jealous': 2787, 'artificer': 2788, 'outline': 2789, 'downwards': 2790, 'converted': 2791, 'obedient': 2792, 'bold': 2793, 'steadfast': 2794, 'caution': 2795, 'degrees': 2796, 'uses': 2797, 'ascending': 2798, 'attains': 2799, 'aid': 2800, 'straight': 2801, 'count': 2802, 'brightest': 2803, 'compulsion': 2804, 'ascended': 2805, 'partake': 2806, 'hive': 2807, 'distracted': 2808, 'pupils': 2809, 'fell': 2810, 'extent': 2811, 'tactics': 2812, 'fingers': 2813, 'infinite': 2814, 'unit': 2815, 'quicker': 2816, 'extending': 2817, 'aims': 2818, 'obtained': 2819, 'solids': 2820, 'motions': 2821, 'contained': 2822, 'astronomers': 2823, 'named': 2824, 'vast': 2825, 'prelude': 2826, 'dialectician': 2827, 'arrives': 2828, 'lame': 2829, 'voluntary': 2830, 'mire': 2831, 'trampled': 2832, 'diminish': 2833, 'unquestionably': 2834, 'springs': 2835, 'sold': 2836, 'contentious': 2837, 'lived': 2838, 'squared': 2839, 'diameters': 2840, 'races': 2841, 'acquiring': 2842, 'busy': 2843, 'expenditure': 2844, 'glory': 2845, 'citizenship': 2846, 'oligarchs': 2847, 'taxes': 2848, 'paupers': 2849, 'informers': 2850, 'conspire': 2851, 'disregard': 2852, 'equality': 2853, 'condiments': 2854, 'controlled': 2855, 'honey': 2856, 'rabble': 2857, 'drive': 2858, 'anarchy': 2859, 'reins': 2860, 'destroying': 2861, 'parted': 2862, 'lusts': 2863, 'pleasantest': 2864, 'separates': 2865, 'paint': 2866, 'openings': 2867, 'messenger': 2868, 'spirits': 2869, 'seven': 2870, 'prophet': 2871, 'chooses': 2872, 'choosing': 2873, 'prayers': 2874, 'piraeus': 2875, 'procession': 2876, 'thracians': 2877, 'spectacle': 2878, 'chanced': 2879, 'bid': 2880, 'rejoined': 2881, 'assured': 2882, 'horsemen': 2883, 'celebrated': 2884, 'seated': 2885, 'garland': 2886, 'room': 2887, 'resort': 2888, 'rugged': 2889, 'harder': 2890, 'fled': 2891, 'relax': 2892, 'pressure': 2893, 'burden': 2894, 'listened': 2895, 'athenian': 2896, 'impatient': 2897, 'midway': 2898, 'reduced': 2899, 'resembling': 2900, 'suspicions': 2901, 'wrongs': 2902, 'start': 2903, 'holiness': 2904, 'defraud': 2905, 'departs': 2906, 'offerings': 2907, 'contributes': 2908, 'heir': 2909, 'thou': 2910, 'sorry': 2911, 'darkly': 2912, 'cookery': 2913, 'guided': 2914, 'husbandry': 2915, 'shoemaking': 2916, 'draughts': 2917, 'joint': 2918, 'preferred': 2919, 'vine': 2920, 'boxing': 2921, 'match': 2922, 'preventing': 2923, 'escaping': 2924, 'steal': 2925, 'keeper': 2926, 'thief': 2927, 'inferred': 2928, 'stealing': 2929, 'learnt': 2930, 'favourite': 2931, 'improved': 2932, 'knock': 2933, 'rising': 2934, 'assure': 2935, 'precious': 2936, 'anxious': 2937, 'presume': 2938, 'notwithstanding': 2939, 'anxiety': 2940, 'pull': 2941, 'professes': 2942, 'kindly': 2943, 'joined': 2944, 'beef': 2945, 'aristocratical': 2946, 'punish': 2947, 'breaker': 2948, 'defining': 2949, 'agreeably': 2950, 'renders': 2951, 'sage': 2952, 'adopted': 2953, 'unerring': 2954, 'design': 2955, 'quarter': 2956, 'healer': 2957, 'sailing': 2958, 'illustrate': 2959, 'faults': 2960, 'faultless': 2961, 'horsemanship': 2962, 'assented': 2963, 'enjoins': 2964, 'prescribes': 2965, 'prescribe': 2966, 'oxen': 2967, 'astray': 2968, 'minister': 2969, 'income': 2970, 'neglecting': 2971, 'reversed': 2972, 'criminal': 2973, 'sufferers': 2974, 'fraud': 2975, 'comprehending': 2976, 'stealers': 2977, 'burglars': 2978, 'reproach': 2979, 'consummation': 2980, 'committing': 2981, 'indifference': 2982, 'gainful': 2983, 'preferring': 2984, 'exactness': 2985, 'function': 2986, 'safety': 2987, 'concern': 2988, 'attraction': 2989, 'revenues': 2990, 'forwardness': 2991, 'waiting': 2992, 'enjoyment': 2993, 'conferring': 2994, 'rehearsing': 2995, 'convincing': 2996, 'numbering': 2997, 'lately': 2998, 'sublime': 2999, 'discretion': 3000, 'nations': 3001, 'misapprehend': 3002, 'substantial': 3003, 'hesitate': 3004, 'amusing': 3005, 'expense': 3006, 'strive': 3007, 'hot': 3008, 'settled': 3009, 'accuse': 3010, 'nod': 3011, 'subjection': 3012, 'dissent': 3013, 'inform': 3014, 'imparts': 3015, 'tendency': 3016, 'arouse': 3017, 'loses': 3018, 'distraction': 3019, 'opposes': 3020, 'triumph': 3021, 'wiser': 3022, 'remnant': 3023, 'villains': 3024, 'stake': 3025, 'organs': 3026, 'fulfilling': 3027, 'superintend': 3028, 'functions': 3029, 'entertained': 3030, 'unhappy': 3031, 'pugnacious': 3032, 'retirement': 3033, 'arrange': 3034, 'welcome': 3035, 'harmless': 3036, 'enjoyments': 3037, 'disagreeable': 3038, 'avoided': 3039, 'stupid': 3040, 'thirdly': 3041, 'indicate': 3042, 'censuring': 3043, 'mutual': 3044, 'ordained': 3045, 'inability': 3046, 'submit': 3047, 'whither': 3048, 'croesus': 3049, 'storm': 3050, 'earthquake': 3051, 'feeding': 3052, 'brazen': 3053, 'flocks': 3054, 'instantly': 3055, 'astonished': 3056, 'outwards': 3057, 'reappeared': 3058, 'whereupon': 3059, 'contrived': 3060, 'queen': 3061, 'conspired': 3062, 'faces': 3063, 'furnished': 3064, 'craft': 3065, 'wishing': 3066, 'infamy': 3067, 'awaits': 3068, 'racked': 3069, 'pursuing': 3070, 'prudent': 3071, 'dedicate': 3072, 'confess': 3073, 'dust': 3074, 'enumerated': 3075, 'benefits': 3076, 'pious': 3077, 'accords': 3078, 'testimony': 3079, 'acorns': 3080, 'bees': 3081, 'bowed': 3082, 'fleeces': 3083, 'blameless': 3084, 'maintains': 3085, 'wheat': 3086, 'trees': 3087, 'fruit': 3088, 'fish': 3089, 'musaeus': 3090, 'couches': 3091, 'drunkenness': 3092, 'survive': 3093, 'slough': 3094, 'grievous': 3095, 'dishonesty': 3096, 'acknowledging': 3097, 'prophets': 3098, 'sins': 3099, 'charms': 3100, 'cost': 3101, 'tedious': 3102, 'influenced': 3103, 'entreaties': 3104, 'fat': 3105, 'host': 3106, 'orpheus': 3107, 'amusements': 3108, 'vacant': 3109, 'hell': 3110, 'deceit': 3111, 'tower': 3112, 'crafty': 3113, 'sages': 3114, 'assemblies': 3115, 'sinning': 3116, 'fare': 3117, 'disprove': 3118, 'divinity': 3119, 'obtains': 3120, 'professing': 3121, 'vehement': 3122, 'exclude': 3123, 'conventional': 3124, 'possessors': 3125, 'arguing': 3126, 'tolerate': 3127, 'admired': 3128, 'arguments': 3129, 'speeches': 3130, 'confidence': 3131, 'drop': 3132, 'investigation': 3133, 'reflected': 3134, 'habitation': 3135, 'necessities': 3136, 'purveyor': 3137, 'labouring': 3138, 'provision': 3139, 'employed': 3140, 'occupations': 3141, 'spoilt': 3142, 'produced': 3143, 'plough': 3144, 'agriculture': 3145, 'cattle': 3146, 'situation': 3147, 'productions': 3148, 'secure': 3149, 'retail': 3150, 'buying': 3151, 'selling': 3152, 'wander': 3153, 'companionship': 3154, 'suggestion': 3155, 'clothes': 3156, 'build': 3157, 'cakes': 3158, 'myrtle': 3159, 'wearing': 3160, 'relish': 3161, 'cheese': 3162, 'roast': 3163, 'comfortable': 3164, 'sofas': 3165, 'sauces': 3166, 'fever': 3167, 'adding': 3168, 'furniture': 3169, 'perfumes': 3170, 'incense': 3171, 'necessaries': 3172, 'enlarge': 3173, 'tribe': 3174, 'wet': 3175, 'support': 3176, 'pasture': 3177, 'accumulation': 3178, 'inevitable': 3179, 'worker': 3180, 'working': 3181, 'dice': 3182, 'bestowed': 3183, 'troops': 3184, 'guarding': 3185, 'invincible': 3186, 'fearless': 3187, 'mental': 3188, 'perplexity': 3189, 'acquaintances': 3190, 'trait': 3191, 'confidently': 3192, 'somewhat': 3193, 'literature': 3194, 'destitute': 3195, 'carelessly': 3196, 'casual': 3197, 'mould': 3198, 'tellers': 3199, 'uranus': 3200, 'cronus': 3201, 'huge': 3202, 'victim': 3203, 'battles': 3204, 'embroidered': 3205, 'quarrels': 3206, 'compose': 3207, 'allegorical': 3208, 'theology': 3209, 'lyric': 3210, 'hurts': 3211, 'violation': 3212, 'oaths': 3213, 'pandarus': 3214, 'trojan': 3215, 'devise': 3216, 'sung': 3217, 'commonwealth': 3218, 'ruinous': 3219, 'shape': 3220, 'changing': 3221, 'semblance': 3222, 'altered': 3223, 'fullest': 3224, 'suffers': 3225, 'deranged': 3226, 'transform': 3227, 'fairer': 3228, 'thetis': 3229, 'argos': 3230, 'heed': 3231, 'comprehend': 3232, 'uninformed': 3233, 'hateful': 3234, 'dealing': 3235, 'recourse': 3236, 'motive': 3237, 'deceives': 3238, 'write': 3239, 'magicians': 3240, 'admirers': 3241, 'refused': 3242, 'believes': 3243, 'revile': 3244, 'shades': 3245, 'fate': 3246, 'cavern': 3247, 'dropped': 3248, 'boys': 3249, 'excitable': 3250, 'departed': 3251, 'deprivation': 3252, 'lament': 3253, 'equanimity': 3254, 'baser': 3255, 'depict': 3256, 'shores': 3257, 'barren': 3258, 'bore': 3259, 'fated': 3260, 'representations': 3261, 'dishonoured': 3262, 'produces': 3263, 'reaction': 3264, 'views': 3265, 'highly': 3266, 'privilege': 3267, 'illnesses': 3268, 'trainer': 3269, 'happening': 3270, 'crew': 3271, 'beside': 3272, 'craftsmen': 3273, 'diomede': 3274, 'marched': 3275, 'awe': 3276, 'afford': 3277, 'conduce': 3278, 'cups': 3279, 'fates': 3280, 'asleep': 3281, 'devising': 3282, 'forgot': 3283, 'goings': 3284, 'chain': 3285, 'strongly': 3286, 'smote': 3287, 'reproached': 3288, 'sing': 3289, 'hector': 3290, 'attributing': 3291, 'hair': 3292, 'performed': 3293, 'pyre': 3294, 'descent': 3295, 'disordered': 3296, 'ancestral': 3297, 'altar': 3298, 'air': 3299, 'engender': 3300, 'contending': 3301, 'apprehended': 3302, 'informs': 3303, 'gesture': 3304, 'assumes': 3305, 'ransom': 3306, 'chaplets': 3307, 'avail': 3308, 'reminding': 3309, 'allied': 3310, 'engaging': 3311, 'baseness': 3312, 'conceit': 3313, 'neighbours': 3314, 'artificers': 3315, 'roll': 3316, 'thunder': 3317, 'firmly': 3318, 'disaster': 3319, 'employment': 3320, 'illustrated': 3321, 'noise': 3322, 'wind': 3323, 'bark': 3324, 'correspond': 3325, 'pantomimic': 3326, 'attendants': 3327, 'unsuitable': 3328, 'worship': 3329, 'employ': 3330, 'includes': 3331, 'dorian': 3332, 'phrygian': 3333, 'warlike': 3334, 'stern': 3335, 'blows': 3336, 'prayer': 3337, 'admonition': 3338, 'willingness': 3339, 'moderately': 3340, 'event': 3341, 'multiplicity': 3342, 'scales': 3343, 'stringed': 3344, 'egypt': 3345, 'finish': 3346, 'systems': 3347, 'indistinct': 3348, 'dactylic': 3349, 'trochaic': 3350, 'movement': 3351, 'referred': 3352, 'expresses': 3353, 'sentence': 3354, 'graces': 3355, 'creative': 3356, 'weaving': 3357, 'architecture': 3358, 'twin': 3359, 'extended': 3360, 'graceful': 3361, 'effluence': 3362, 'sympathy': 3363, 'potent': 3364, 'inward': 3365, 'fasten': 3366, 'grounds': 3367, 'slighting': 3368, 'loveliest': 3369, 'beloved': 3370, 'exceeds': 3371, 'confirmation': 3372, 'improves': 3373, 'abstain': 3374, 'customary': 3375, 'finer': 3376, 'keenness': 3377, 'pots': 3378, 'refinements': 3379, 'licence': 3380, 'opened': 3381, 'doctor': 3382, 'airs': 3383, 'hole': 3384, 'wound': 3385, 'waters': 3386, 'eurypylus': 3387, 'posset': 3388, 'pramnian': 3389, 'herodicus': 3390, 'doctoring': 3391, 'chiefly': 3392, 'lingering': 3393, 'tended': 3394, 'valetudinarian': 3395, 'struggled': 3396, 'inexperience': 3397, 'cautery': 3398, 'knife': 3399, 'phocylides': 3400, 'obligatory': 3401, 'disorders': 3402, 'carpentering': 3403, 'definite': 3404, 'herein': 3405, 'begetting': 3406, 'menelaus': 3407, 'unhealthy': 3408, 'acute': 3409, 'vicious': 3410, 'quickly': 3411, 'cunning': 3412, 'honest': 3413, 'incurable': 3414, 'track': 3415, 'develope': 3416, 'ferocity': 3417, 'athlete': 3418, 'pour': 3419, 'tempered': 3420, 'sinews': 3421, 'feeble': 3422, 'provocation': 3423, 'dull': 3424, 'nourishment': 3425, 'purged': 3426, 'hater': 3427, 'weapon': 3428, 'duly': 3429, 'contests': 3430, 'watched': 3431, 'enchantment': 3432, 'caused': 3433, 'remembers': 3434, 'enchantments': 3435, 'timid': 3436, 'terrors': 3437, 'rhythmical': 3438, 'sepulture': 3439, 'pretension': 3440, 'probable': 3441, 'advise': 3442, 'purity': 3443, 'mingle': 3444, 'pitiful': 3445, 'wings': 3446, 'arm': 3447, 'wolves': 3448, 'dwellings': 3449, 'discipline': 3450, 'prey': 3451, 'expenses': 3452, 'commoner': 3453, 'roof': 3454, 'plotting': 3455, 'handsome': 3456, 'potters': 3457, 'repose': 3458, 'upside': 3459, 'indolent': 3460, 'careless': 3461, 'workmen': 3462, 'stout': 3463, 'scorching': 3464, 'overturn': 3465, 'embassy': 3466, 'spoils': 3467, 'wiry': 3468, 'mark': 3469, 'size': 3470, 'territory': 3471, 'trifles': 3472, 'sensible': 3473, 'procreation': 3474, 'started': 3475, 'improve': 3476, 'lawlessness': 3477, 'overthrow': 3478, 'youths': 3479, 'conducted': 3480, 'predecessors': 3481, 'worn': 3482, 'legislate': 3483, 'agreements': 3484, 'insult': 3485, 'commencement': 3486, 'appointment': 3487, 'condescend': 3488, 'particulars': 3489, 'invalids': 3490, 'restraint': 3491, 'delightful': 3492, 'idling': 3493, 'drug': 3494, 'indulges': 3495, 'applause': 3496, 'paltry': 3497, 'chiefest': 3498, 'deity': 3499, 'whichever': 3500, 'diverse': 3501, 'possessing': 3502, 'recently': 3503, 'somehow': 3504, 'fights': 3505, 'implants': 3506, 'dye': 3507, 'selecting': 3508, 'washing': 3509, 'lyes': 3510, 'bloom': 3511, 'washed': 3512, 'disagree': 3513, 'ordains': 3514, 'favour': 3515, 'newly': 3516, 'surround': 3517, 'cover': 3518, 'sharp': 3519, 'somewhere': 3520, 'wood': 3521, 'busybody': 3522, 'derive': 3523, 'preservation': 3524, 'palm': 3525, 'enters': 3526, 'lifted': 3527, 'meddling': 3528, 'fresh': 3529, 'shine': 3530, 'employing': 3531, 'solution': 3532, 'speculation': 3533, 'acted': 3534, 'moving': 3535, 'tops': 3536, 'pegs': 3537, 'revolves': 3538, 'circumference': 3539, 'stands': 3540, 'deviation': 3541, 'repulsion': 3542, 'opposites': 3543, 'wishes': 3544, 'dislike': 3545, 'rejection': 3546, 'warm': 3547, 'accompanied': 3548, 'sometime': 3549, 'correlative': 3550, 'heavier': 3551, 'essentially': 3552, 'tries': 3553, 'pulls': 3554, 'bow': 3555, 'forbidding': 3556, 'abhorrence': 3557, 'violently': 3558, 'conflict': 3559, 'brute': 3560, 'tossing': 3561, 'constitutes': 3562, 'waxing': 3563, 'friendly': 3564, 'construction': 3565, 'outward': 3566, 'sets': 3567, 'treatment': 3568, 'presides': 3569, 'impairs': 3570, 'rebellious': 3571, 'delusion': 3572, 'practices': 3573, 'unpunished': 3574, 'whisper': 3575, 'notice': 3576, 'ado': 3577, 'nest': 3578, 'stirring': 3579, 'doubts': 3580, 'aspiration': 3581, 'encourage': 3582, 'faltering': 3583, 'hesitating': 3584, 'laughed': 3585, 'childish': 3586, 'drag': 3587, 'homicide': 3588, 'deceiver': 3589, 'acquitted': 3590, 'arriving': 3591, 'herd': 3592, 'males': 3593, 'females': 3594, 'suckling': 3595, 'proposals': 3596, 'exercising': 3597, 'spite': 3598, 'jests': 3599, 'armour': 3600, 'begging': 3601, 'cretans': 3602, 'showed': 3603, 'directs': 3604, 'standard': 3605, 'offers': 3606, 'depth': 3607, 'swim': 3608, 'shore': 3609, 'save': 3610, 'hairy': 3611, 'peculiar': 3612, 'forgets': 3613, 'hates': 3614, 'colleagues': 3615, 'enacted': 3616, 'enactment': 3617, 'robe': 3618, 'arrangement': 3619, 'dreamers': 3620, 'effecting': 3621, 'entrusted': 3622, 'meals': 3623, 'geometrical': 3624, 'constraining': 3625, 'attended': 3626, 'indifferently': 3627, 'ripe': 3628, 'consummate': 3629, 'appoint': 3630, 'festivals': 3631, 'effects': 3632, 'officers': 3633, 'mysterious': 3634, 'recognises': 3635, 'pulse': 3636, 'beats': 3637, 'range': 3638, 'begotten': 3639, 'inter': 3640, 'pythian': 3641, 'plurality': 3642, 'plunged': 3643, 'approaches': 3644, 'hurt': 3645, 'sensation': 3646, 'nearest': 3647, 'maintainers': 3648, 'capital': 3649, 'ties': 3650, 'members': 3651, 'agrees': 3652, 'affirming': 3653, 'tear': 3654, 'wife': 3655, 'magistrates': 3656, 'meannesses': 3657, 'flattery': 3658, 'pangs': 3659, 'victors': 3660, 'secured': 3661, 'won': 3662, 'burial': 3663, 'protectors': 3664, 'youthful': 3665, 'sexes': 3666, 'experienced': 3667, 'mount': 3668, 'swiftest': 3669, 'throws': 3670, 'degraded': 3671, 'kiss': 3672, 'kissed': 3673, 'compliment': 3674, 'hymns': 3675, 'distinctions': 3676, 'precedence': 3677, 'honouring': 3678, 'pre': 3679, 'eminently': 3680, 'treat': 3681, 'spare': 3682, 'pretending': 3683, 'plunder': 3684, 'spoiling': 3685, 'annual': 3686, 'conquered': 3687, 'civilized': 3688, 'intend': 3689, 'devastate': 3690, 'thrust': 3691, 'armies': 3692, 'heaviest': 3693, 'investigate': 3694, 'appeals': 3695, 'approximation': 3696, 'ideals': 3697, 'respectable': 3698, 'pulling': 3699, 'intending': 3700, 'assistance': 3701, 'snub': 3702, 'manly': 3703, 'talks': 3704, 'pretext': 3705, 'judging': 3706, 'appetite': 3707, 'amateurs': 3708, 'performance': 3709, 'explaining': 3710, 'lights': 3711, 'fond': 3712, 'dreamer': 3713, 'dreaming': 3714, 'participate': 3715, 'sad': 3716, 'negation': 3717, 'partakes': 3718, 'ugly': 3719, 'doubles': 3720, 'halves': 3721, 'puzzle': 3722, 'bat': 3723, 'detained': 3724, 'immutable': 3725, 'falling': 3726, 'excellences': 3727, 'stream': 3728, 'desirous': 3729, 'corner': 3730, 'spectator': 3731, 'signs': 3732, 'vessel': 3733, 'disproportion': 3734, 'gracious': 3735, 'enumerating': 3736, 'adversaries': 3737, 'fabulous': 3738, 'unions': 3739, 'steer': 3740, 'chained': 3741, 'mutiny': 3742, 'aids': 3743, 'sky': 3744, 'entered': 3745, 'star': 3746, 'esteemed': 3747, 'unavoidable': 3748, 'sympathetic': 3749, 'manifestly': 3750, 'corruptions': 3751, 'aspire': 3752, 'sensitive': 3753, 'sown': 3754, 'echo': 3755, 'leap': 3756, 'flood': 3757, 'powerless': 3758, 'mercenary': 3759, 'attending': 3760, 'educator': 3761, 'motley': 3762, 'poem': 3763, 'elevate': 3764, 'reasonableness': 3765, 'humbled': 3766, 'divert': 3767, 'desolate': 3768, 'creatures': 3769, 'titles': 3770, 'trades': 3771, 'crafts': 3772, 'dignity': 3773, 'attracted': 3774, 'imperfect': 3775, 'maimed': 3776, 'disfigured': 3777, 'issue': 3778, 'alliance': 3779, 'lofty': 3780, 'belong': 3781, 'champion': 3782, 'unrighteousness': 3783, 'hindered': 3784, 'zeal': 3785, 'boldly': 3786, 'morning': 3787, 'eternity': 3788, 'harsh': 3789, 'perceives': 3790, 'feature': 3791, 'calmer': 3792, 'unreasonable': 3793, 'venture': 3794, 'incredulous': 3795, 'immovable': 3796, 'aspirant': 3797, 'testing': 3798, 'exposition': 3799, 'despised': 3800, 'assurance': 3801, 'supreme': 3802, 'lifetime': 3803, 'reaching': 3804, 'effort': 3805, 'workmanship': 3806, 'visibility': 3807, 'resting': 3808, 'understands': 3809, 'perishing': 3810, 'blinking': 3811, 'esteeming': 3812, 'similitude': 3813, 'subdivisions': 3814, 'section': 3815, 'resemblance': 3816, 'descends': 3817, 'branches': 3818, 'deign': 3819, 'beings': 3820, 'front': 3821, 'stone': 3822, 'passers': 3823, 'liberated': 3824, 'formerly': 3825, 'gaze': 3826, 'season': 3827, 'remembered': 3828, 'offender': 3829, 'allegory': 3830, 'expressed': 3831, 'rationally': 3832, 'trusted': 3833, 'surprising': 3834, 'brighter': 3835, 'returns': 3836, 'easiest': 3837, 'implanted': 3838, 'later': 3839, 'narrow': 3840, 'rogue': 3841, 'severed': 3842, 'islands': 3843, 'blest': 3844, 'benefactors': 3845, 'administered': 3846, 'quietly': 3847, 'rival': 3848, 'oyster': 3849, 'shell': 3850, 'thrown': 3851, 'decay': 3852, 'counterpart': 3853, 'excluded': 3854, 'numbered': 3855, 'referring': 3856, 'shade': 3857, 'inviting': 3858, 'extremity': 3859, 'thin': 3860, 'intimations': 3861, 'operation': 3862, 'impressions': 3863, 'simultaneous': 3864, 'contemplation': 3865, 'fitly': 3866, 'abstract': 3867, 'introduction': 3868, 'calculating': 3869, 'multiplication': 3870, 'talent': 3871, 'geometrician': 3872, 'daily': 3873, 'months': 3874, 'insisting': 3875, 're': 3876, 'proposing': 3877, 'backward': 3878, 'cubes': 3879, 'continuous': 3880, 'disregarded': 3881, 'hurry': 3882, 'encouraged': 3883, 'wrought': 3884, 'appreciate': 3885, 'material': 3886, 'problems': 3887, 'pythagoreans': 3888, 'laborious': 3889, 'communion': 3890, 'mathematician': 3891, 'paths': 3892, 'directly': 3893, 'sketch': 3894, 'severity': 3895, 'listening': 3896, 'carefully': 3897, 'excitement': 3898, 'solon': 3899, 'presented': 3900, 'dialectical': 3901, 'allowance': 3902, 'applicable': 3903, 'maxims': 3904, 'ceases': 3905, 'flatters': 3906, 'contradicting': 3907, 'diligently': 3908, 'temptation': 3909, 'sending': 3910, 'unaffected': 3911, 'nation': 3912, 'possessions': 3913, 'applauded': 3914, 'bought': 3915, 'vary': 3916, 'dispositions': 3917, 'shaken': 3918, 'dissolution': 3919, 'sterility': 3920, 'circles': 3921, 'oblong': 3922, 'omitting': 3923, 'dissimilarity': 3924, 'distribute': 3925, 'owners': 3926, 'oligarchies': 3927, 'sums': 3928, 'schooled': 3929, 'minded': 3930, 'privately': 3931, 'nourishing': 3932, 'seeks': 3933, 'rises': 3934, 'qualification': 3935, 'characteristics': 3936, 'discreditable': 3937, 'stingless': 3938, 'purses': 3939, 'criminals': 3940, 'elected': 3941, 'sudden': 3942, 'exiled': 3943, 'unprofitable': 3944, 'saves': 3945, 'miser': 3946, 'rests': 3947, 'extravagance': 3948, 'estates': 3949, 'beggary': 3950, 'lessened': 3951, 'meeting': 3952, 'flesh': 3953, 'despoil': 3954, 'banishing': 3955, 'pleases': 3956, 'supremely': 3957, 'condemned': 3958, 'assisting': 3959, 'wax': 3960, 'conceits': 3961, 'phrases': 3962, 'vulgarity': 3963, 'impudence': 3964, 'school': 3965, 'cursed': 3966, 'metic': 3967, 'scholars': 3968, 'dominion': 3969, 'dreamed': 3970, 'buzzing': 3971, 'temple': 3972, 'entrails': 3973, 'wolf': 3974, 'kills': 3975, 'perish': 3976, 'device': 3977, 'promises': 3978, 'detestable': 3979, 'satellites': 3980, 'procure': 3981, 'supported': 3982, 'emancipated': 3983, 'undesirable': 3984, 'beat': 3985, 'parricide': 3986, 'excepting': 3987, 'enquiries': 3988, 'sport': 3989, 'visions': 3990, 'directions': 3991, 'democrat': 3992, 'drunken': 3993, 'lustful': 3994, 'indispensable': 3995, 'blooming': 3996, 'overthrown': 3997, 'murder': 3998, 'mischief': 3999, 'retainers': 4000, 'aspect': 4001, 'dwelt': 4002, 'constrained': 4003, 'proclamation': 4004, 'neutral': 4005, 'pleasanter': 4006, 'antecedent': 4007, 'descending': 4008, 'contrasting': 4009, 'inanitions': 4010, 'sensuality': 4011, 'coloured': 4012, 'fools': 4013, 'fought': 4014, 'pleasantly': 4015, 'spurious': 4016, 'measures': 4017, 'nights': 4018, 'multitudinous': 4019, 'headed': 4020, 'tame': 4021, 'outer': 4022, 'weaken': 4023, 'approver': 4024, 'monkey': 4025, 'profited': 4026, 'wizard': 4027, 'similarly': 4028, 'loved': 4029, 'contemporaries': 4030, 'shoulders': 4031, 'bit': 4032, 'leather': 4033, 'user': 4034, 'instructions': 4035, 'sorrowing': 4036, 'impatience': 4037, 'betrayed': 4038, 'proofs': 4039, 'gainers': 4040, 'prizes': 4041, 'await': 4042, 'attaching': 4043, 'inhering': 4044, 'shells': 4045, 'fastened': 4046, 'meadow': 4047, 'murderers': 4048, 'retributions': 4049, 'steel': 4050, 'eight': 4051, 'whorls': 4052, 'knees': 4053, 'samples': 4054, 'swan': 4055, 'forgetfulness': 4056, 'drank': 4057, 'conquerors': 4058, 'games': 4059, 'pilgrimage': 4060, 'viewed': 4061, 'cloak': 4062, 'minutes': 4063, 'niceratus': 4064, 'nicias': 4065, 'torch': 4066, 'novelty': 4067, 'torches': 4068, 'supper': 4069, 'perverse': 4070, 'lysias': 4071, 'euthydemus': 4072, 'chalcedonian': 4073, 'charmantides': 4074, 'paeanian': 4075, 'aristonymus': 4076, 'cushioned': 4077, 'chair': 4078, 'sacrificing': 4079, 'chairs': 4080, 'semicircle': 4081, 'sat': 4082, 'saluted': 4083, 'eagerly': 4084, 'fade': 4085, 'conversing': 4086, 'travellers': 4087, 'feather': 4088, 'meetings': 4089, 'complain': 4090, 'slights': 4091, 'sadly': 4092, 'complainers': 4093, 'suit': 4094, 'furious': 4095, 'freed': 4096, 'regrets': 4097, 'admiration': 4098, 'comforter': 4099, 'themistocles': 4100, 'seriphian': 4101, 'merits': 4102, 'native': 4103, 'doubled': 4104, 'trebled': 4105, 'patrimony': 4106, 'lysanias': 4107, 'reaped': 4108, 'exacted': 4109, 'tormented': 4110, 'alarms': 4111, 'thickly': 4112, 'transgressions': 4113, 'forebodings': 4114, 'charmingly': 4115, 'sway': 4116, 'restless': 4117, 'admirable': 4118, 'exceptions': 4119, 'deposited': 4120, 'paying': 4121, 'receiver': 4122, 'drugs': 4123, 'seasoning': 4124, 'perils': 4125, 'alliances': 4126, 'partnerships': 4127, 'bricks': 4128, 'counsellor': 4129, 'purchase': 4130, 'shipwright': 4131, 'dresser': 4132, 'ward': 4133, 'lesson': 4134, 'autolycus': 4135, 'maternal': 4136, 'affirms': 4137, 'perjury': 4138, 'doctrine': 4139, 'immoral': 4140, 'corrected': 4141, 'unmusical': 4142, 'drought': 4143, 'moisture': 4144, 'attributes': 4145, 'bias': 4146, 'pittacus': 4147, 'seer': 4148, 'periander': 4149, 'perdiccas': 4150, 'xerxes': 4151, 'ismenias': 4152, 'theban': 4153, 'pause': 4154, 'roared': 4155, 'sillybillies': 4156, 'refutation': 4157, 'trembling': 4158, 'dumb': 4159, 'quiver': 4160, 'intentional': 4161, 'weakly': 4162, 'bitter': 4163, 'ironical': 4164, 'foresee': 4165, 'irony': 4166, 'shuffle': 4167, 'twelve': 4168, 'prohibit': 4169, 'retort': 4170, 'interdict': 4171, 'interdicted': 4172, 'contribution': 4173, 'edification': 4174, 'consented': 4175, 'thank': 4176, 'ungrateful': 4177, 'proclaim': 4178, 'polydamas': 4179, 'pancratiast': 4180, 'damaging': 4181, 'aristocracies': 4182, 'deliver': 4183, 'transgresses': 4184, 'forbade': 4185, 'obeyed': 4186, 'acknowledges': 4187, 'propositions': 4188, 'grammar': 4189, 'sheer': 4190, 'misunderstanding': 4191, 'strictest': 4192, 'madman': 4193, 'shave': 4194, 'minute': 4195, 'civilities': 4196, 'sails': 4197, 'significant': 4198, 'negatively': 4199, 'faulty': 4200, 'liability': 4201, 'supplementary': 4202, 'unimpaired': 4203, 'superiors': 4204, 'acquiesced': 4205, 'upset': 4206, 'replying': 4207, 'snivel': 4208, 'wipes': 4209, 'neatherd': 4210, 'fattens': 4211, 'studying': 4212, 'loser': 4213, 'tax': 4214, 'losses': 4215, 'wholesale': 4216, 'profane': 4217, 'perpetrating': 4218, 'incur': 4219, 'swindlers': 4220, 'achieved': 4221, 'deluged': 4222, 'insisted': 4223, 'suggestive': 4224, 'prithee': 4225, 'amply': 4226, 'uncontrolled': 4227, 'granting': 4228, 'predicament': 4229, 'recall': 4230, 'diner': 4231, 'banquetter': 4232, 'ensured': 4233, 'requirements': 4234, 'fees': 4235, 'professed': 4236, 'builds': 4237, 'attends': 4238, 'benefiting': 4239, 'preside': 4240, 'confers': 4241, 'reformation': 4242, 'remuneration': 4243, 'inducement': 4244, 'demanding': 4245, 'secretly': 4246, 'induces': 4247, 'agreeing': 4248, 'recounting': 4249, 'rejoin': 4250, 'claimed': 4251, 'advocate': 4252, 'malignity': 4253, 'subduing': 4254, 'cutpurses': 4255, 'amazement': 4256, 'unanswerable': 4257, 'guessed': 4258, 'infallibly': 4259, 'claims': 4260, 'adjusts': 4261, 'tightening': 4262, 'loosening': 4263, 'fluently': 4264, 'perspiration': 4265, 'poured': 4266, 'torrents': 4267, 'blushing': 4268, 'haranguing': 4269, 'regularly': 4270, 'identified': 4271, 'questioned': 4272, 'attempting': 4273, 'nodding': 4274, 'civility': 4275, 'gang': 4276, 'doers': 4277, 'abstained': 4278, 'hatreds': 4279, 'sedition': 4280, 'rendering': 4281, 'oppose': 4282, 'displease': 4283, 'repast': 4284, 'abler': 4285, 'vigorously': 4286, 'strictly': 4287, 'enabled': 4288, 'combine': 4289, 'enterprises': 4290, 'dagger': 4291, 'chisel': 4292, 'deliberate': 4293, 'superintendent': 4294, 'entertainment': 4295, 'bendidea': 4296, 'indebted': 4297, 'scolding': 4298, 'epicure': 4299, 'snatches': 4300, 'dish': 4301, 'successively': 4302, 'ii': 4303, 'dissatisfied': 4304, 'persuaded': 4305, 'succeeded': 4306, 'independently': 4307, 'desirable': 4308, 'recognize': 4309, 'flows': 4310, 'thesis': 4311, 'snake': 4312, 'inwardly': 4313, 'revive': 4314, 'myriads': 4315, 'dinning': 4316, 'covenants': 4317, 'compromise': 4318, 'retaliation': 4319, 'tolerated': 4320, 'involuntarily': 4321, 'diverted': 4322, 'ancestor': 4323, 'lydia': 4324, 'amazed': 4325, 'descended': 4326, 'marvels': 4327, 'stature': 4328, 'reascended': 4329, 'monthly': 4330, 'inside': 4331, 'inwards': 4332, 'messengers': 4333, 'seduced': 4334, 'slew': 4335, 'rings': 4336, 'liked': 4337, 'argues': 4338, 'lookers': 4339, 'wretched': 4340, 'idiot': 4341, 'isolate': 4342, 'isolation': 4343, 'intuitively': 4344, 'deduction': 4345, 'nobleness': 4346, 'covering': 4347, 'uttermost': 4348, 'energetically': 4349, 'polish': 4350, 'tracing': 4351, 'coarse': 4352, 'scourged': 4353, 'burnt': 4354, 'impaled': 4355, 'deep': 4356, 'fertile': 4357, 'misgivings': 4358, 'antagonists': 4359, 'abundantly': 4360, 'magnificently': 4361, 'dearer': 4362, 'urged': 4363, 'wards': 4364, 'accruing': 4365, 'shower': 4366, 'rain': 4367, 'oaks': 4368, 'summit': 4369, 'provided': 4370, 'grander': 4371, 'vouchsafe': 4372, 'saints': 4373, 'everlastingly': 4374, 'meed': 4375, 'faithful': 4376, 'bury': 4377, 'sieve': 4378, 'punishments': 4379, 'toilsome': 4380, 'influential': 4381, 'overlook': 4382, 'apportion': 4383, 'calamity': 4384, 'mendicant': 4385, 'atonement': 4386, 'rejoicings': 4387, 'incantations': 4388, 'smoothing': 4389, 'abundance': 4390, 'uphill': 4391, 'citing': 4392, 'avert': 4393, 'wrath': 4394, 'libations': 4395, 'odour': 4396, 'sinned': 4397, 'transgressed': 4398, 'books': 4399, 'ritual': 4400, 'expiations': 4401, 'atonements': 4402, 'redeem': 4403, 'quickwitted': 4404, 'wing': 4405, 'prone': 4406, 'loftier': 4407, 'unmistakeable': 4408, 'promised': 4409, 'tyrannizes': 4410, 'vestibule': 4411, 'exterior': 4412, 'trail': 4413, 'subtle': 4414, 'fox': 4415, 'archilochus': 4416, 'recommends': 4417, 'exclaiming': 4418, 'indicates': 4419, 'brotherhoods': 4420, 'clubs': 4421, 'rhetoric': 4422, 'genealogies': 4423, 'fruits': 4424, 'vengeance': 4425, 'propitiated': 4426, 'atoning': 4427, 'deceitful': 4428, 'blames': 4429, 'immediately': 4430, 'indicated': 4431, 'panegyrists': 4432, 'memorial': 4433, 'watchman': 4434, 'harbouring': 4435, 'grossly': 4436, 'perverting': 4437, 'frankly': 4438, 'requested': 4439, 'reputations': 4440, 'exhorting': 4441, 'injurious': 4442, 'magnifying': 4443, 'elegiac': 4444, 'admirer': 4445, 'megara': 4446, 'sang': 4447, 'epithet': 4448, 'unconvinced': 4449, 'judged': 4450, 'mistrusted': 4451, 'strait': 4452, 'lifting': 4453, 'entreated': 4454, 'sighted': 4455, 'discernible': 4456, 'construct': 4457, 'helper': 4458, 'partners': 4459, 'clothing': 4460, 'barest': 4461, 'supplies': 4462, 'fourths': 4463, 'pair': 4464, 'supplying': 4465, 'reminded': 4466, 'diversities': 4467, 'plentifully': 4468, 'mattock': 4469, 'carpenters': 4470, 'sharers': 4471, 'neatherds': 4472, 'herdsmen': 4473, 'builders': 4474, 'curriers': 4475, 'weavers': 4476, 'hides': 4477, 'imported': 4478, 'wellnigh': 4479, 'accommodate': 4480, 'importers': 4481, 'exporters': 4482, 'merchandise': 4483, 'token': 4484, 'undertake': 4485, 'salesmen': 4486, 'weakest': 4487, 'intellectually': 4488, 'matured': 4489, 'housed': 4490, 'barefoot': 4491, 'substantially': 4492, 'shod': 4493, 'flour': 4494, 'baking': 4495, 'kneading': 4496, 'loaves': 4497, 'mat': 4498, 'reeds': 4499, 'reclining': 4500, 'strewn': 4501, 'yew': 4502, 'salt': 4503, 'olives': 4504, 'boil': 4505, 'roots': 4506, 'herbs': 4507, 'dessert': 4508, 'figs': 4509, 'peas': 4510, 'beans': 4511, 'berries': 4512, 'diet': 4513, 'bequeath': 4514, 'providing': 4515, 'pigs': 4516, 'conveniences': 4517, 'dine': 4518, 'sweets': 4519, 'modern': 4520, 'simpler': 4521, 'dainties': 4522, 'courtesans': 4523, 'embroiderer': 4524, 'ivory': 4525, 'procured': 4526, 'borders': 4527, 'swell': 4528, 'hunters': 4529, 'attendant': 4530, 'dancers': 4531, 'contractors': 4532, 'articles': 4533, 'including': 4534, 'dresses': 4535, 'dry': 4536, 'tirewomen': 4537, 'barbers': 4538, 'confectioners': 4539, 'cooks': 4540, 'swineherds': 4541, 'edition': 4542, 'tillage': 4543, 'unlimited': 4544, 'enlargement': 4545, 'invaders': 4546, 'defending': 4547, 'framing': 4548, 'opportunities': 4549, 'slip': 4550, 'recreation': 4551, 'implement': 4552, 'fighter': 4553, 'aptitude': 4554, 'watching': 4555, 'swift': 4556, 'overtake': 4557, 'unconquerable': 4558, 'indomitable': 4559, 'familiars': 4560, 'welcomes': 4561, 'instinct': 4562, 'distinguishes': 4563, 'determines': 4564, 'reared': 4565, 'inconvenient': 4566, 'traditional': 4567, 'fictitious': 4568, 'devised': 4569, 'censorship': 4570, 'censors': 4571, 'authorised': 4572, 'fondly': 4573, 'discarded': 4574, 'narrated': 4575, 'erroneous': 4576, 'paints': 4577, 'portrait': 4578, 'blameable': 4579, 'retaliated': 4580, 'doings': 4581, 'inflicted': 4582, 'thoughtless': 4583, 'mystery': 4584, 'eleusinian': 4585, 'pig': 4586, 'unprocurable': 4587, 'objectionable': 4588, 'outrageous': 4589, 'chastises': 4590, 'basest': 4591, 'plots': 4592, 'fightings': 4593, 'giants': 4594, 'literal': 4595, 'indelible': 4596, 'unalterable': 4597, 'casks': 4598, 'threshold': 4599, 'unmingled': 4600, 'drives': 4601, 'beauteous': 4602, 'dispenser': 4603, 'asserts': 4604, 'treaties': 4605, 'athene': 4606, 'instigated': 4607, 'themis': 4608, 'approval': 4609, 'writes': 4610, 'niobe': 4611, 'pelops': 4612, 'strenuously': 4613, 'suicidal': 4614, 'reciters': 4615, 'magician': 4616, 'insidiously': 4617, 'transformations': 4618, 'immutably': 4619, 'discomposed': 4620, 'healthiest': 4621, 'shapes': 4622, 'unsightly': 4623, 'disguise': 4624, 'slander': 4625, 'proteus': 4626, 'disguised': 4627, 'priestess': 4628, 'alms': 4629, 'inachus': 4630, 'scaring': 4631, 'version': 4632, 'myths': 4633, 'blasphemy': 4634, 'witchcraft': 4635, 'phantom': 4636, 'profound': 4637, 'detest': 4638, 'remarking': 4639, 'shadowy': 4640, 'unadulterated': 4641, 'preventive': 4642, 'antiquity': 4643, 'superhuman': 4644, 'sends': 4645, 'nuptials': 4646, 'celebrating': 4647, 'progeny': 4648, 'cheered': 4649, 'phoebus': 4650, 'prophecy': 4651, 'banquet': 4652, 'worshippers': 4653, 'iii': 4654, 'defeat': 4655, 'narrators': 4656, 'commend': 4657, 'intimating': 4658, 'descriptions': 4659, 'obliterate': 4660, 'obnoxious': 4661, 'serf': 4662, 'portionless': 4663, 'nought': 4664, 'expunge': 4665, 'pluto': 4666, 'mansions': 4667, 'grim': 4668, 'squalid': 4669, 'abhor': 4670, 'mortals': 4671, 'immortals': 4672, 'ghostly': 4673, 'tiresias': 4674, 'persephone': 4675, 'flitting': 4676, 'limbs': 4677, 'leaving': 4678, 'bats': 4679, 'mystic': 4680, 'string': 4681, 'cling': 4682, 'unpoetical': 4683, 'unattractive': 4684, 'appalling': 4685, 'cocytus': 4686, 'styx': 4687, 'ghosts': 4688, 'sapless': 4689, 'shudder': 4690, 'inmost': 4691, 'horrible': 4692, 'nerves': 4693, 'effeminate': 4694, 'weepings': 4695, 'wailings': 4696, 'comrade': 4697, 'befall': 4698, 'lamentations': 4699, 'scorn': 4700, 'entreat': 4701, 'sooty': 4702, 'ashes': 4703, 'pouring': 4704, 'wailing': 4705, 'priam': 4706, 'kinsman': 4707, 'beseeching': 4708, 'dirt': 4709, 'loudly': 4710, 'alas': 4711, 'misrepresent': 4712, 'chased': 4713, 'sorrowful': 4714, 'woe': 4715, 'sarpedon': 4716, 'dearest': 4717, 'subdued': 4718, 'menoetius': 4719, 'inclination': 4720, 'whining': 4721, 'abide': 4722, 'disproved': 4723, 'bustling': 4724, 'mansion': 4725, 'restricted': 4726, 'meddle': 4727, 'heinous': 4728, 'gymnasium': 4729, 'catches': 4730, 'subversive': 4731, 'destructive': 4732, 'commanders': 4733, 'breathing': 4734, 'prowess': 4735, 'stag': 4736, 'impertinences': 4737, 'bread': 4738, 'bearer': 4739, 'bowl': 4740, 'pours': 4741, 'saddest': 4742, 'plans': 4743, 'hut': 4744, 'rapture': 4745, 'ares': 4746, 'aphrodite': 4747, 'endurance': 4748, 'receivers': 4749, 'reverend': 4750, 'phoenix': 4751, 'tutor': 4752, 'downright': 4753, 'wronged': 4754, 'darter': 4755, 'thee': 4756, 'insubordination': 4757, 'spercheius': 4758, 'vow': 4759, 'tomb': 4760, 'slaughtered': 4761, 'captives': 4762, 'peleus': 4763, 'gentlest': 4764, 'seemingly': 4765, 'inconsistent': 4766, 'untainted': 4767, 'overweening': 4768, 'contempt': 4769, 'theseus': 4770, 'poseidon': 4771, 'peirithous': 4772, 'perpetrate': 4773, 'rape': 4774, 'daring': 4775, 'ascribe': 4776, 'vices': 4777, 'wickednesses': 4778, 'perpetrated': 4779, 'aloft': 4780, 'peak': 4781, 'ida': 4782, 'flowing': 4783, 'veins': 4784, 'laxity': 4785, 'morals': 4786, 'gravest': 4787, 'misstatements': 4788, 'iliad': 4789, 'flew': 4790, 'invoked': 4791, 'atreus': 4792, 'chiefs': 4793, 'ithaca': 4794, 'odyssey': 4795, 'recites': 4796, 'assimilates': 4797, 'assimilation': 4798, 'conceals': 4799, 'supplicating': 4800, 'capture': 4801, 'begged': 4802, 'revered': 4803, 'wroth': 4804, 'staff': 4805, 'provoke': 4806, 'unscathed': 4807, 'pleasing': 4808, 'expiate': 4809, 'tears': 4810, 'arrows': 4811, 'dialogue': 4812, 'dithyramb': 4813, 'affords': 4814, 'mimetic': 4815, 'narrating': 4816, 'gaining': 4817, 'coined': 4818, 'copies': 4819, 'adhere': 4820, 'upward': 4821, 'continuing': 4822, 'affecting': 4823, 'vaunting': 4824, 'affliction': 4825, 'scold': 4826, 'mock': 4827, 'oarsmen': 4828, 'boatswains': 4829, 'neighing': 4830, 'bellowing': 4831, 'bulls': 4832, 'murmur': 4833, 'rivers': 4834, 'madmen': 4835, 'aright': 4836, 'personate': 4837, 'disdain': 4838, 'revolts': 4839, 'narrate': 4840, 'unscrupulous': 4841, 'joke': 4842, 'hail': 4843, 'creaking': 4844, 'wheels': 4845, 'pulleys': 4846, 'pipes': 4847, 'trumpets': 4848, 'bleat': 4849, 'crow': 4850, 'cock': 4851, 'consist': 4852, 'correctly': 4853, 'unmixed': 4854, 'twofold': 4855, 'plays': 4856, 'exhibit': 4857, 'anointed': 4858, 'myrrh': 4859, 'rougher': 4860, 'severer': 4861, 'teller': 4862, 'literary': 4863, 'myth': 4864, 'ode': 4865, 'presuppose': 4866, 'tenor': 4867, 'toned': 4868, 'bass': 4869, 'ionian': 4870, 'accent': 4871, 'resolve': 4872, 'wounds': 4873, 'crisis': 4874, 'determination': 4875, 'expressing': 4876, 'entreaty': 4877, 'conduct': 4878, 'acquiescing': 4879, 'unfortunate': 4880, 'melodies': 4881, 'lyres': 4882, 'corners': 4883, 'harmonised': 4884, 'pipe': 4885, 'marsyas': 4886, 'purging': 4887, 'metres': 4888, 'expressions': 4889, 'adapt': 4890, 'metrical': 4891, 'tetrachord': 4892, 'unworthiness': 4893, 'reserved': 4894, 'cretic': 4895, 'alternating': 4896, 'quantities': 4897, 'analysis': 4898, 'paeonic': 4899, 'anapaestic': 4900, 'clause': 4901, 'assimilate': 4902, 'regulated': 4903, 'nobly': 4904, 'euphemism': 4905, 'perpetual': 4906, 'constructive': 4907, 'embroidery': 4908, 'manufacture': 4909, 'superintendence': 4910, 'expulsion': 4911, 'exhibiting': 4912, 'indecency': 4913, 'sculpture': 4914, 'browse': 4915, 'baneful': 4916, 'herb': 4917, 'silently': 4918, 'festering': 4919, 'breeze': 4920, 'insensibly': 4921, 'mightily': 4922, 'imparting': 4923, 'ungraceful': 4924, 'shrewdly': 4925, 'omissions': 4926, 'rejoices': 4927, 'salute': 4928, 'familiar': 4929, 'alphabet': 4930, 'recurring': 4931, 'sizes': 4932, 'unimportant': 4933, 'occupy': 4934, 'reading': 4935, 'liberality': 4936, 'harmonizes': 4937, 'deficiency': 4938, 'deprives': 4939, 'wantonness': 4940, 'madder': 4941, 'familiarity': 4942, 'coarseness': 4943, 'handing': 4944, 'prolixity': 4945, 'outlines': 4946, 'intoxication': 4947, 'sleepy': 4948, 'perilous': 4949, 'wakeful': 4950, 'campaign': 4951, 'campaigning': 4952, 'hellespont': 4953, 'boiled': 4954, 'convenient': 4955, 'involving': 4956, 'pans': 4957, 'nowhere': 4958, 'proscribing': 4959, 'professional': 4960, 'syracusan': 4961, 'dinners': 4962, 'sicilian': 4963, 'corinthian': 4964, 'girl': 4965, 'delicacies': 4966, 'confectionary': 4967, 'complexity': 4968, 'engendered': 4969, 'halls': 4970, 'lawyer': 4971, 'liberal': 4972, 'physic': 4973, 'surrender': 4974, 'lords': 4975, 'litigant': 4976, 'plaintiff': 4977, 'defendant': 4978, 'litigiousness': 4979, 'imagines': 4980, 'wriggle': 4981, 'bending': 4982, 'withy': 4983, 'napping': 4984, 'epidemic': 4985, 'marsh': 4986, 'flatulence': 4987, 'catarrh': 4988, 'newfangled': 4989, 'besprinkled': 4990, 'grated': 4991, 'inflammatory': 4992, 'damsel': 4993, 'treating': 4994, 'guild': 4995, 'torturing': 4996, 'perpetually': 4997, 'recovery': 4998, 'torment': 4999, 'instruct': 5000, 'descendants': 5001, 'ludicrously': 5002, 'emetic': 5003, 'purge': 5004, 'dietetics': 5005, 'swathe': 5006, 'swaddle': 5007, 'replies': 5008, 'nursing': 5009, 'bye': 5010, 'resumes': 5011, 'livelihood': 5012, 'dieting': 5013, 'impediment': 5014, 'mechanical': 5015, 'sentiment': 5016, 'inimical': 5017, 'incompatible': 5018, 'irreconcileable': 5019, 'headache': 5020, 'giddiness': 5021, 'ascribed': 5022, 'stopped': 5023, 'politic': 5024, 'ailment': 5025, 'purges': 5026, 'operations': 5027, 'consulting': 5028, 'penetrated': 5029, 'attempted': 5030, 'gradual': 5031, 'processes': 5032, 'evacuation': 5033, 'infusion': 5034, 'lengthen': 5035, 'siege': 5036, 'sprinkled': 5037, 'heal': 5038, 'midas': 5039, 'declined': 5040, 'disobeying': 5041, 'behests': 5042, 'bribed': 5043, 'lightning': 5044, 'acquainted': 5045, 'robust': 5046, 'governs': 5047, 'associated': 5048, 'calendar': 5049, 'consciousness': 5050, 'contamination': 5051, 'dishonest': 5052, 'personal': 5053, 'suspicious': 5054, 'amongst': 5055, 'precautions': 5056, 'unseasonable': 5057, 'inspires': 5058, 'tolls': 5059, 'undergoes': 5060, 'stimulate': 5061, 'muscles': 5062, 'effeminacy': 5063, 'melted': 5064, 'softened': 5065, 'gentleness': 5066, 'boorish': 5067, 'funnel': 5068, 'melancholy': 5069, 'warbling': 5070, 'brittle': 5071, 'softening': 5072, 'melt': 5073, 'wasted': 5074, 'weakening': 5075, 'flames': 5076, 'irritable': 5077, 'impracticable': 5078, 'feeder': 5079, 'student': 5080, 'fills': 5081, 'mists': 5082, 'uncivilized': 5083, 'fierceness': 5084, 'indirectly': 5085, 'relaxed': 5086, 'tighter': 5087, 'harmonized': 5088, 'mingles': 5089, 'attempers': 5090, 'harmonist': 5091, 'tuner': 5092, 'dances': 5093, 'coursing': 5094, 'equestrian': 5095, 'discovering': 5096, 'efficient': 5097, 'eagerness': 5098, 'repugnance': 5099, 'unwillingly': 5100, 'enchanted': 5101, 'softer': 5102, 'sterner': 5103, 'enchant': 5104, 'conflicts': 5105, 'colts': 5106, 'tumult': 5107, 'thoroughly': 5108, 'furnace': 5109, 'retaining': 5110, 'serviceable': 5111, 'boy': 5112, 'victorious': 5113, 'designated': 5114, 'supporters': 5115, 'needful': 5116, 'falsehoods': 5117, 'phoenician': 5118, 'audacious': 5119, 'communicate': 5120, 'gradually': 5121, 'womb': 5122, 'appurtenances': 5123, 'manufactured': 5124, 'differently': 5125, 'composition': 5126, 'anxiously': 5127, 'transposition': 5128, 'guards': 5129, 'accomplishing': 5130, 'rumour': 5131, 'suppress': 5132, 'insurrection': 5133, 'refractory': 5134, 'encamp': 5135, 'shop': 5136, 'keepers': 5137, 'worry': 5138, 'foul': 5139, 'safeguard': 5140, 'civilize': 5141, 'humanize': 5142, 'habitations': 5143, 'impair': 5144, 'tempt': 5145, 'realize': 5146, 'store': 5147, 'closed': 5148, 'provisions': 5149, 'mess': 5150, 'diviner': 5151, 'dross': 5152, 'current': 5153, 'pollute': 5154, 'earthly': 5155, 'undefiled': 5156, 'wear': 5157, 'homes': 5158, 'moneys': 5159, 'housekeepers': 5160, 'plotted': 5161, 'iv': 5162, 'hospitality': 5163, 'favourites': 5164, 'mercenaries': 5165, 'quartered': 5166, 'mounting': 5167, 'mistress': 5168, 'disproportionate': 5169, 'piecemeal': 5170, 'statue': 5171, 'beautify': 5172, 'features': 5173, 'clothe': 5174, 'apparel': 5175, 'crowns': 5176, 'fireside': 5177, 'winecup': 5178, 'conveniently': 5179, 'pottery': 5180, 'destroyers': 5181, 'peasants': 5182, 'enjoying': 5183, 'revelry': 5184, 'appointing': 5185, 'reside': 5186, 'assigns': 5187, 'deterioration': 5188, 'deteriorates': 5189, 'apprentices': 5190, 'degenerate': 5191, 'creep': 5192, 'unobserved': 5193, 'viciousness': 5194, 'discontent': 5195, 'boxer': 5196, 'boxers': 5197, 'expert': 5198, 'personage': 5199, 'lean': 5200, 'plural': 5201, 'continues': 5202, 'conveyed': 5203, 'accounted': 5204, 'severe': 5205, 'degrading': 5206, 'settling': 5207, 'moves': 5208, 'accumulating': 5209, 'intact': 5210, 'newest': 5211, 'singers': 5212, 'suffrage': 5213, 'foundations': 5214, 'imperceptibly': 5215, 'penetrates': 5216, 'customs': 5217, 'issuing': 5218, 'invades': 5219, 'recklessness': 5220, 'stricter': 5221, 'elders': 5222, 'dressing': 5223, 'deportment': 5224, 'legislating': 5225, 'grand': 5226, 'agora': 5227, 'juries': 5228, 'impositions': 5229, 'exactions': 5230, 'harbour': 5231, 'dues': 5232, 'markets': 5233, 'police': 5234, 'harbours': 5235, 'mending': 5236, 'increasing': 5237, 'complicating': 5238, 'nostrum': 5239, 'wenching': 5240, 'spell': 5241, 'amulet': 5242, 'alter': 5243, 'sweetly': 5244, 'regime': 5245, 'fawns': 5246, 'anticipating': 5247, 'gratifying': 5248, 'humours': 5249, 'coolness': 5250, 'dexterity': 5251, 'deluded': 5252, 'statesmen': 5253, 'cubits': 5254, 'reforms': 5255, 'frauds': 5256, 'rascalities': 5257, 'hydra': 5258, 'delphi': 5259, 'repositories': 5260, 'rites': 5261, 'propitiate': 5262, 'unwise': 5263, 'trusting': 5264, 'navel': 5265, 'religion': 5266, 'habitable': 5267, 'candle': 5268, 'residue': 5269, 'searching': 5270, 'detect': 5271, 'peculiarity': 5272, 'wooden': 5273, 'cultivates': 5274, 'agricultural': 5275, 'founded': 5276, 'derives': 5277, 'satisfactorily': 5278, 'intimate': 5279, 'dyers': 5280, 'dress': 5281, 'hue': 5282, 'dyeing': 5283, 'dyed': 5284, 'noticed': 5285, 'contriving': 5286, 'indelibly': 5287, 'mightier': 5288, 'agent': 5289, 'soda': 5290, 'lye': 5291, 'solvents': 5292, 'conformity': 5293, 'uninstructed': 5294, 'troubling': 5295, 'symphony': 5296, 'controlling': 5297, 'traces': 5298, 'association': 5299, 'overwhelmed': 5300, 'unprincipled': 5301, 'lowest': 5302, 'designation': 5303, 'extends': 5304, 'runs': 5305, 'huntsmen': 5306, 'follower': 5307, 'perplexing': 5308, 'halloo': 5309, 'quarry': 5310, 'news': 5311, 'tumbling': 5312, 'missed': 5313, 'exordium': 5314, 'abstracted': 5315, 'ultimate': 5316, 'preservative': 5317, 'watchfulness': 5318, 'competition': 5319, 'legislators': 5320, 'unfitted': 5321, 'interchange': 5322, 'discerning': 5323, 'friction': 5324, 'rubbed': 5325, 'alighted': 5326, 'g': 5327, 'scythians': 5328, 'northern': 5329, 'phoenicians': 5330, 'egyptians': 5331, 'apparently': 5332, 'objector': 5333, 'refine': 5334, 'nice': 5335, 'spin': 5336, 'perpendicular': 5337, 'revolving': 5338, 'forwards': 5339, 'backwards': 5340, 'incline': 5341, 'absurdity': 5342, 'withdrawn': 5343, 'aversion': 5344, 'active': 5345, 'passive': 5346, 'realization': 5347, 'unwillingness': 5348, 'correlatives': 5349, 'swifter': 5350, 'slower': 5351, 'disparate': 5352, 'yearns': 5353, 'archer': 5354, 'pushes': 5355, 'constantly': 5356, 'attracts': 5357, 'hungers': 5358, 'thirsts': 5359, 'flutterings': 5360, 'sundry': 5361, 'leontius': 5362, 'aglaion': 5363, 'north': 5364, 'dread': 5365, 'covered': 5366, 'ran': 5367, 'ye': 5368, 'wretches': 5369, 'reviles': 5370, 'factions': 5371, 'decides': 5372, 'excited': 5373, 'sufferer': 5374, 'boils': 5375, 'chafes': 5376, 'persevere': 5377, 'conquer': 5378, 'quelled': 5379, 'slays': 5380, 'arrayed': 5381, 'counsellors': 5382, 'quoted': 5383, 'unreasoning': 5384, 'consisted': 5385, 'recollect': 5386, 'nerving': 5387, 'sustaining': 5388, 'moderating': 5389, 'civilizing': 5390, 'wildness': 5391, 'nurtured': 5392, 'counselling': 5393, 'courageously': 5394, 'executing': 5395, 'rebel': 5396, 'dimmer': 5397, 'commonplace': 5398, 'sacrilege': 5399, 'treachery': 5400, 'adultery': 5401, 'religious': 5402, 'primary': 5403, 'concernment': 5404, 'interfere': 5405, 'adjusted': 5406, 'affair': 5407, 'co': 5408, 'operates': 5409, 'meddlesomeness': 5410, 'interference': 5411, 'prince': 5412, 'vassal': 5413, 'unreformed': 5414, 'endurable': 5415, 'pampered': 5416, 'vital': 5417, 'undermined': 5418, 'exception': 5419, 'clearest': 5420, 'height': 5421, 'deserving': 5422, 'monarchy': 5423, 'v': 5424, 'regulation': 5425, 'stretching': 5426, 'shoulder': 5427, 'leaning': 5428, 'lazy': 5429, 'chapter': 5430, 'airy': 5431, 'expecting': 5432, 'paramount': 5433, 'undetermined': 5434, 'resolved': 5435, 'assailing': 5436, 'acceptance': 5437, 'discourses': 5438, 'practicability': 5439, 'doubted': 5440, 'practicable': 5441, 'doubtful': 5442, 'audience': 5443, 'sceptical': 5444, 'hostile': 5445, 'encouragement': 5446, 'enquirer': 5447, 'slippery': 5448, 'miss': 5449, 'footing': 5450, 'nemesis': 5451, 'visit': 5452, 'beforehand': 5453, 'retrace': 5454, 'played': 5455, 'watchdogs': 5456, 'hes': 5457, 'shes': 5458, 'puppies': 5459, 'unusual': 5460, 'palaestra': 5461, 'enthusiastic': 5462, 'wrinkles': 5463, 'frequent': 5464, 'gymnasia': 5465, 'attainments': 5466, 'riding': 5467, 'begun': 5468, 'improper': 5469, 'lacedaemonians': 5470, 'uncovered': 5471, 'vanished': 5472, 'asserted': 5473, 'shafts': 5474, 'weigh': 5475, 'sharing': 5476, 'partially': 5477, 'commencing': 5478, 'undefended': 5479, 'adversary': 5480, 'convict': 5481, 'tasks': 5482, 'problem': 5483, 'solved': 5484, 'swimming': 5485, 'mid': 5486, 'dolphin': 5487, 'miraculous': 5488, 'charged': 5489, 'disputing': 5490, 'valiantly': 5491, 'pugnaciously': 5492, 'sameness': 5493, 'argued': 5494, 'fitness': 5495, 'reference': 5496, 'civic': 5497, 'hindrance': 5498, 'ungifted': 5499, 'pancakes': 5500, 'womankind': 5501, 'diffused': 5502, 'unwarlike': 5503, 'assigning': 5504, 'accomplish': 5505, 'strip': 5506, 'distribution': 5507, 'laughs': 5508, 'plucking': 5509, 'unripe': 5510, 'sayings': 5511, 'swallowed': 5512, 'enacting': 5513, 'consistency': 5514, 'sequel': 5515, 'questionable': 5516, 'disputed': 5517, 'feasting': 5518, 'tire': 5519, 'possibilities': 5520, 'detailing': 5521, 'arrangements': 5522, 'demonstrate': 5523, 'executed': 5524, 'licentiousness': 5525, 'matrimony': 5526, 'beseech': 5527, 'pairing': 5528, 'oldest': 5529, 'youngest': 5530, 'deteriorate': 5531, 'involve': 5532, 'corporate': 5533, 'practitioner': 5534, 'alluding': 5535, 'dose': 5536, 'breaking': 5537, 'rebellion': 5538, 'brides': 5539, 'bridegrooms': 5540, 'weddings': 5541, 'average': 5542, 'agencies': 5543, 'luck': 5544, 'braver': 5545, 'facilities': 5546, 'bravery': 5547, 'pen': 5548, 'deformed': 5549, 'milk': 5550, 'protracted': 5551, 'forty': 5552, 'beget': 5553, 'physical': 5554, 'hymeneals': 5555, 'auspices': 5556, 'priestesses': 5557, 'uncertified': 5558, 'unconsecrated': 5559, 'specified': 5560, 'marrying': 5561, 'accompanying': 5562, 'embryo': 5563, 'dating': 5564, 'married': 5565, 'tenth': 5566, 'grandchildren': 5567, 'grandfathers': 5568, 'grandmothers': 5569, 'prohibition': 5570, 'favours': 5571, 'basis': 5572, 'organization': 5573, 'reign': 5574, 'grieved': 5575, 'disorganized': 5576, 'triumphing': 5577, 'disagreement': 5578, 'forming': 5579, 'therein': 5580, 'sympathizes': 5581, 'alleviation': 5582, 'foster': 5583, 'connected': 5584, 'filial': 5585, 'violator': 5586, 'intimated': 5587, 'kinsfolk': 5588, 'concord': 5589, 'differing': 5590, 'dragging': 5591, 'assault': 5592, 'viz': 5593, 'resentment': 5594, 'lengths': 5595, 'chastising': 5596, 'succoured': 5597, 'household': 5598, 'borrowing': 5599, 'repudiating': 5600, 'victor': 5601, 'blessedness': 5602, 'nameless': 5603, 'advised': 5604, 'shoemakers': 5605, 'infatuated': 5606, 'consult': 5607, 'hunt': 5608, 'violate': 5609, 'anticipated': 5610, 'suggest': 5611, 'incentive': 5612, 'defeated': 5613, 'incurred': 5614, 'spectators': 5615, 'risks': 5616, 'foresight': 5617, 'cautious': 5618, 'veterans': 5619, 'foreseen': 5620, 'chances': 5621, 'ride': 5622, 'tractable': 5623, 'prisoner': 5624, 'comrades': 5625, 'fellowship': 5626, 'expedition': 5627, 'lasts': 5628, 'maiden': 5629, 'choices': 5630, 'chines': 5631, 'tribute': 5632, 'strengthening': 5633, 'gloriously': 5634, 'angels': 5635, 'averters': 5636, 'personages': 5637, 'kneel': 5638, 'sepulchres': 5639, 'graves': 5640, 'yoke': 5641, 'hellene': 5642, 'owned': 5643, 'despoiling': 5644, 'facing': 5645, 'skulk': 5646, 'robbing': 5647, 'corpse': 5648, 'womanishness': 5649, 'flown': 5650, 'gear': 5651, 'assailant': 5652, 'hindering': 5653, 'pollution': 5654, 'devastation': 5655, 'burning': 5656, 'antagonism': 5657, 'conqueror': 5658, 'depriving': 5659, 'harvest': 5660, 'reconciled': 5661, 'correction': 5662, 'correctors': 5663, 'rase': 5664, 'innocent': 5665, 'enact': 5666, 'feasible': 5667, 'loiter': 5668, 'raid': 5669, 'considerate': 5670, 'resembled': 5671, 'showing': 5672, 'existed': 5673, 'creating': 5674, 'coincide': 5675, 'maladministration': 5676, 'reform': 5677, 'liken': 5678, 'drown': 5679, 'exclusion': 5680, 'extravagant': 5681, 'coats': 5682, 'seizing': 5683, 'scrape': 5684, 'unbelievers': 5685, 'invaluable': 5686, 'pang': 5687, 'emotion': 5688, 'affectionate': 5689, 'hooked': 5690, 'regularity': 5691, 'visage': 5692, 'pale': 5693, 'diminutives': 5694, 'averse': 5695, 'paleness': 5696, 'appearing': 5697, 'cheek': 5698, 'blooms': 5699, 'file': 5700, 'hungry': 5701, 'curiosity': 5702, 'folk': 5703, 'strangely': 5704, 'dionysiac': 5705, 'town': 5706, 'minor': 5707, 'practical': 5708, 'tones': 5709, 'artificial': 5710, 'products': 5711, 'sleeping': 5712, 'likens': 5713, 'dissimilar': 5714, 'wide': 5715, 'opines': 5716, 'administer': 5717, 'cordial': 5718, 'revealing': 5719, 'assuring': 5720, 'rejoiced': 5721, 'existent': 5722, 'corresponded': 5723, 'identify': 5724, 'spheres': 5725, 'opine': 5726, 'disproven': 5727, 'darker': 5728, 'premised': 5729, 'attach': 5730, 'punning': 5731, 'riddles': 5732, 'eunuch': 5733, 'aiming': 5734, 'hit': 5735, 'riddle': 5736, 'flux': 5737, 'embrace': 5738, 'gazed': 5739, 'impropriety': 5740, 'vi': 5741, 'weary': 5742, 'shortened': 5743, 'awaiting': 5744, 'repair': 5745, 'rejecting': 5746, 'observing': 5747, 'ascertained': 5748, 'varying': 5749, 'renounce': 5750, 'truthfulness': 5751, 'detestation': 5752, 'amorous': 5753, 'channel': 5754, 'absorbed': 5755, 'sham': 5756, 'antagonistic': 5757, 'fearful': 5758, 'harmoniously': 5759, 'boaster': 5760, 'rude': 5761, 'unsociable': 5762, 'unphilosophical': 5763, 'forgetful': 5764, 'fruitless': 5765, 'ranked': 5766, 'unseemly': 5767, 'proportioned': 5768, 'spontaneously': 5769, 'participation': 5770, 'statements': 5771, 'littles': 5772, 'accumulate': 5773, 'sustained': 5774, 'counters': 5775, 'suggested': 5776, 'maturer': 5777, 'monsters': 5778, 'extol': 5779, 'vastly': 5780, 'hopeless': 5781, 'meagreness': 5782, 'imagination': 5783, 'comparable': 5784, 'plead': 5785, 'goats': 5786, 'stags': 5787, 'fleet': 5788, 'taller': 5789, 'deaf': 5790, 'infirmity': 5791, 'steering': 5792, 'throng': 5793, 'helm': 5794, 'overboard': 5795, 'narcotic': 5796, 'stores': 5797, 'partisan': 5798, 'cleverly': 5799, 'plot': 5800, 'seaman': 5801, 'abuse': 5802, 'intends': 5803, 'steerer': 5804, 'mutineers': 5805, 'prater': 5806, 'gazer': 5807, 'interpretation': 5808, 'surprised': 5809, 'deeming': 5810, 'uselessness': 5811, 'humbly': 5812, 'mutinous': 5813, 'helmsmen': 5814, 'nothings': 5815, 'gazers': 5816, 'accuser': 5817, 'arrant': 5818, 'impostor': 5819, 'edge': 5820, 'blunted': 5821, 'abate': 5822, 'mingling': 5823, 'incorporate': 5824, 'travail': 5825, 'objected': 5826, 'facts': 5827, 'depraved': 5828, 'spoiled': 5829, 'inconsistencies': 5830, 'reprobation': 5831, 'numberless': 5832, 'praiseworthy': 5833, 'destroys': 5834, 'distracts': 5835, 'connections': 5836, 'distracting': 5837, 'apprehending': 5838, 'germs': 5839, 'seeds': 5840, 'nutriment': 5841, 'climate': 5842, 'environment': 5843, 'finest': 5844, 'scarcely': 5845, 'planted': 5846, 'weeds': 5847, 'uproar': 5848, 'exaggerating': 5849, 'shouting': 5850, 'clapping': 5851, 'rocks': 5852, 'redoubles': 5853, 'overwhelming': 5854, 'attainder': 5855, 'confiscation': 5856, 'educators': 5857, 'sophist': 5858, 'crave': 5859, 'cries': 5860, 'soothed': 5861, 'infuriated': 5862, 'pronounces': 5863, 'immense': 5864, 'consorts': 5865, 'exhibits': 5866, 'oblige': 5867, 'consort': 5868, 'quickness': 5869, 'endowments': 5870, 'requests': 5871, 'tall': 5872, 'boundless': 5873, 'aspirations': 5874, 'dilate': 5875, 'pomp': 5876, 'slaving': 5877, 'adverse': 5878, 'captive': 5879, 'hoping': 5880, 'reap': 5881, 'intrigues': 5882, 'prosecutions': 5883, 'circumstanced': 5884, 'accompaniments': 5885, 'failure': 5886, 'tide': 5887, 'rite': 5888, 'incomplete': 5889, 'forsaken': 5890, 'reproaches': 5891, 'reprovers': 5892, 'severest': 5893, 'puny': 5894, 'stocked': 5895, 'showy': 5896, 'sanctuary': 5897, 'cleverest': 5898, 'tinker': 5899, 'durance': 5900, 'decked': 5901, 'vile': 5902, 'sophisms': 5903, 'captivating': 5904, 'perchance': 5905, 'contemns': 5906, 'neglects': 5907, 'bridle': 5908, 'theages': 5909, 'monitor': 5910, 'politician': 5911, 'sleet': 5912, 'driving': 5913, 'hurries': 5914, 'retires': 5915, 'shelter': 5916, 'hopes': 5917, 'charges': 5918, 'warped': 5919, 'estranged': 5920, 'exotic': 5921, 'seed': 5922, 'denaturalized': 5923, 'wont': 5924, 'overpowered': 5925, 'persisting': 5926, 'degenerates': 5927, 'inventors': 5928, 'frightened': 5929, 'cleared': 5930, 'unhesitatingly': 5931, 'moneymaking': 5932, 'housekeeping': 5933, 'lecture': 5934, 'heraclitus': 5935, 'relighted': 5936, 'advances': 5937, 'engage': 5938, 'happily': 5939, 'convert': 5940, 'artificially': 5941, 'moulded': 5942, 'coldly': 5943, 'subtleties': 5944, 'controversy': 5945, 'providentially': 5946, 'divinely': 5947, 'alternatives': 5948, 'visionaries': 5949, 'countless': 5950, 'clime': 5951, 'ken': 5952, 'yea': 5953, 'attack': 5954, 'aggressive': 5955, 'removing': 5956, 'originates': 5957, 'pretenders': 5958, 'rush': 5959, 'uninvited': 5960, 'malice': 5961, 'reverential': 5962, 'detraction': 5963, 'beholds': 5964, 'disbelieve': 5965, 'tablet': 5966, 'rub': 5967, 'inscribe': 5968, 'trace': 5969, 'filling': 5970, 'erase': 5971, 'rushing': 5972, 'favourable': 5973, 'imaginary': 5974, 'reconciliation': 5975, 'miracle': 5976, 'eyed': 5977, 'discuss': 5978, 'investigated': 5979, 'hardships': 5980, 'critical': 5981, 'patriotism': 5982, 'veiled': 5983, 'liking': 5984, 'stir': 5985, 'arisen': 5986, 'shrank': 5987, 'hazarding': 5988, 'mostly': 5989, 'shreds': 5990, 'patches': 5991, 'sagacity': 5992, 'magnanimous': 5993, 'peaceful': 5994, 'impulses': 5995, 'depended': 5996, 'impregnable': 5997, 'torpid': 5998, 'yawn': 5999, 'imparted': 6000, 'tested': 6001, 'probation': 6002, 'circuitous': 6003, 'inaccurate': 6004, 'uncommon': 6005, 'circuit': 6006, 'elaborated': 6007, 'infinity': 6008, 'truths': 6009, 'reproaching': 6010, 'difficulties': 6011, 'involved': 6012, 'pursues': 6013, 'presentiment': 6014, 'shrewd': 6015, 'fastidious': 6016, 'positively': 6017, 'certainty': 6018, 'brightness': 6019, 'implore': 6020, 'indiscreet': 6021, 'sirs': 6022, 'likest': 6023, 'wished': 6024, 'organ': 6025, 'costly': 6026, 'owner': 6027, 'links': 6028, 'bonds': 6029, 'possesses': 6030, 'dispensed': 6031, 'recognised': 6032, 'begat': 6033, 'explicit': 6034, 'shining': 6035, 'dimly': 6036, 'shines': 6037, 'radiant': 6038, 'twilight': 6039, 'knower': 6040, 'surpasses': 6041, 'earnestness': 6042, 'amazing': 6043, 'exaggeration': 6044, 'polished': 6045, 'sections': 6046, 'hypothetical': 6047, 'preliminary': 6048, 'odd': 6049, 'angles': 6050, 'diameter': 6051, 'hypothesis': 6052, 'resemblances': 6053, 'distinctness': 6054, 'province': 6055, 'departure': 6056, 'soar': 6057, 'clinging': 6058, 'depends': 6059, 'successive': 6060, 'tremendous': 6061, 'contemplates': 6062, 'contemplated': 6063, 'cognizable': 6064, 'cognate': 6065, 'vii': 6066, 'enlightened': 6067, 'unenlightened': 6068, 'legs': 6069, 'necks': 6070, 'blazing': 6071, 'low': 6072, 'built': 6073, 'screen': 6074, 'marionette': 6075, 'puppets': 6076, 'cave': 6077, 'naming': 6078, 'disabused': 6079, 'neck': 6080, 'glare': 6081, 'distress': 6082, 'approaching': 6083, 'instructor': 6084, 'pointing': 6085, 'refuge': 6086, 'reluctantly': 6087, 'steep': 6088, 'pained': 6089, 'irritated': 6090, 'felicitate': 6091, 'replaced': 6092, 'steady': 6093, 'append': 6094, 'interpret': 6095, 'wrongly': 6096, 'immediate': 6097, 'beatific': 6098, 'hastening': 6099, 'contemplations': 6100, 'misbehaving': 6101, 'surrounding': 6102, 'endeavouring': 6103, 'conceptions': 6104, 'bewilderments': 6105, 'unaccustomed': 6106, 'greets': 6107, 'implanting': 6108, 'presumed': 6109, 'innate': 6110, 'flashing': 6111, 'mischievous': 6112, 'circumcision': 6113, 'leaden': 6114, 'weights': 6115, 'impediments': 6116, 'keenly': 6117, 'uneducated': 6118, 'apart': 6119, 'providence': 6120, 'gratitude': 6121, 'hungering': 6122, 'snatch': 6123, 'broils': 6124, 'allusion': 6125, 'uppermost': 6126, 'usefulness': 6127, 'presided': 6128, 'intelligences': 6129, 'distinguishing': 6130, 'palamedes': 6131, 'ridiculously': 6132, 'declares': 6133, 'invented': 6134, 'ships': 6135, 'counting': 6136, 'attracting': 6137, 'untrustworthy': 6138, 'imperatively': 6139, 'demanded': 6140, 'imposed': 6141, 'uninviting': 6142, 'vivid': 6143, 'thick': 6144, 'invites': 6145, 'excites': 6146, 'smallness': 6147, 'thickness': 6148, 'thinness': 6149, 'intimation': 6150, 'perplexities': 6151, 'summons': 6152, 'announced': 6153, 'undivided': 6154, 'chaos': 6155, 'involves': 6156, 'aroused': 6157, 'converting': 6158, 'notably': 6159, 'conduces': 6160, 'shopkeeper': 6161, 'rebelling': 6162, 'tangible': 6163, 'steadily': 6164, 'repel': 6165, 'integrate': 6166, 'units': 6167, 'indivisible': 6168, 'necessitating': 6169, 'marked': 6170, 'arithmetical': 6171, 'pitching': 6172, 'closing': 6173, 'manoeuvre': 6174, 'advanced': 6175, 'flat': 6176, 'geometricians': 6177, 'squaring': 6178, 'applying': 6179, 'aught': 6180, 'transient': 6181, 'unhappily': 6182, 'sternly': 6183, 'indirect': 6184, 'departments': 6185, 'studied': 6186, 'farmer': 6187, 'dimmed': 6188, 'purified': 6189, 'illumined': 6190, 'revelation': 6191, 'unmeaning': 6192, 'grudge': 6193, 'mainly': 6194, 'dimension': 6195, 'dimensions': 6196, 'patronises': 6197, 'energy': 6198, 'conceited': 6199, 'discoveries': 6200, 'emerge': 6201, 'surfaces': 6202, 'delayed': 6203, 'fretted': 6204, 'ceiling': 6205, 'percipient': 6206, 'simpleton': 6207, 'gapes': 6208, 'blinks': 6209, 'floats': 6210, 'ascertain': 6211, 'starry': 6212, 'slowness': 6213, 'excellently': 6214, 'daedalus': 6215, 'exquisiteness': 6216, 'astronomer': 6217, 'movements': 6218, 'investigating': 6219, 'extension': 6220, 'relatively': 6221, 'applications': 6222, 'consonances': 6223, 'condensed': 6224, 'alongside': 6225, 'catching': 6226, 'measurement': 6227, 'tease': 6228, 'torture': 6229, 'rack': 6230, 'metaphor': 6231, 'plectrum': 6232, 'backwardness': 6233, 'affinities': 6234, 'hymn': 6235, 'perseveres': 6236, 'translation': 6237, 'vainly': 6238, 'preamble': 6239, 'greek': 6240, 'reveal': 6241, 'disciple': 6242, 'ascertaining': 6243, 'constructions': 6244, 'mathematical': 6245, 'unexamined': 6246, 'fabric': 6247, 'convention': 6248, 'outlandish': 6249, 'handmaids': 6250, 'discussing': 6251, 'implying': 6252, 'defer': 6253, 'correlation': 6254, 'subdivision': 6255, 'impart': 6256, 'gauntlet': 6257, 'apprehends': 6258, 'slumbering': 6259, 'quietus': 6260, 'nurturing': 6261, 'posts': 6262, 'coping': 6263, 'preference': 6264, 'surest': 6265, 'generous': 6266, 'facilitate': 6267, 'faints': 6268, 'shared': 6269, 'unwearied': 6270, 'vocation': 6271, 'disrepute': 6272, 'bastards': 6273, 'votary': 6274, 'halting': 6275, 'industry': 6276, 'industrious': 6277, 'devotes': 6278, 'lameness': 6279, 'halt': 6280, 'wallowing': 6281, 'swinish': 6282, 'defective': 6283, 'creditable': 6284, 'undeservedly': 6285, 'indignation': 6286, 'preparation': 6287, 'compulsory': 6288, 'bent': 6289, 'hounds': 6290, 'enrolled': 6291, 'unpropitious': 6292, 'tests': 6293, 'subjected': 6294, 'promoted': 6295, 'relationship': 6296, 'comprehensive': 6297, 'comprehension': 6298, 'elevated': 6299, 'inexcusable': 6300, 'supposititious': 6301, 'alleged': 6302, 'disobey': 6303, 'unusually': 6304, 'parental': 6305, 'obeying': 6306, 'questioning': 6307, 'heretofore': 6308, 'excusable': 6309, 'pitiable': 6310, 'youngsters': 6311, 'refuting': 6312, 'puppy': 6313, 'tearing': 6314, 'conquests': 6315, 'defeats': 6316, 'insanity': 6317, 'eristic': 6318, 'diminishing': 6319, 'intruder': 6320, 'exclusively': 6321, 'flinch': 6322, 'fifteen': 6323, 'lightens': 6324, 'toiling': 6325, 'sculptor': 6326, 'governesses': 6327, 'despising': 6328, 'worthless': 6329, 'regarding': 6330, 'exalted': 6331, 'soonest': 6332, 'viii': 6333, 'contain': 6334, 'lieu': 6335, 'concluded': 6336, 'digressed': 6337, 'returning': 6338, 'relate': 6339, 'examining': 6340, 'wrestler': 6341, 'particularly': 6342, 'crete': 6343, 'sparta': 6344, 'teems': 6345, 'lordships': 6346, 'principalities': 6347, 'nondescripts': 6348, 'spartan': 6349, 'timarchy': 6350, 'viewing': 6351, 'solemn': 6352, 'mockery': 6353, 'vein': 6354, 'fertility': 6355, 'circumferences': 6356, 'existences': 6357, 'fecundity': 6358, 'alloyed': 6359, 'cyclical': 6360, 'divisors': 6361, 'rotations': 6362, 'comprehended': 6363, 'increments': 6364, 'involution': 6365, 'evolution': 6366, 'waning': 6367, 'commensurable': 6368, 'sides': 6369, 'pythagorean': 6370, 'triangle': 6371, 'furnishes': 6372, 'sc': 6373, 'etc': 6374, 'explanations': 6375, 'squares': 6376, 'bride': 6377, 'goodly': 6378, 'valuing': 6379, 'succeeding': 6380, 'inequality': 6381, 'irregularity': 6382, 'sprung': 6383, 'arising': 6384, 'protected': 6385, 'peculiarities': 6386, 'abstinence': 6387, 'handicrafts': 6388, 'stratagems': 6389, 'contrivances': 6390, 'waging': 6391, 'everlasting': 6392, 'hoard': 6393, 'magazines': 6394, 'treasuries': 6395, 'castles': 6396, 'nests': 6397, 'eggs': 6398, 'gratification': 6399, 'predominantly': 6400, 'prevalence': 6401, 'interminable': 6402, 'characterises': 6403, 'listener': 6404, 'proud': 6405, 'courteous': 6406, 'remarkably': 6407, 'claiming': 6408, 'eloquent': 6409, 'feats': 6410, 'chase': 6411, 'dwells': 6412, 'declines': 6413, 'exert': 6414, 'waive': 6415, 'complaining': 6416, 'battling': 6417, 'railing': 6418, 'observes': 6419, 'treats': 6420, 'annoyed': 6421, 'wronging': 6422, 'prosecute': 6423, 'retaliate': 6424, 'simpletons': 6425, 'esteem': 6426, 'comparisons': 6427, 'watering': 6428, 'encouraging': 6429, 'contentiousness': 6430, 'arrogant': 6431, 'valuation': 6432, 'treasury': 6433, 'illegal': 6434, 'balance': 6435, 'fixes': 6436, 'intimidation': 6437, 'pilots': 6438, 'shipwreck': 6439, 'conspiring': 6440, 'fondness': 6441, 'tradesmen': 6442, 'hoplite': 6443, 'helpless': 6444, 'whit': 6445, 'member': 6446, 'honeycomb': 6447, 'plague': 6448, 'stingers': 6449, 'neighborhood': 6450, 'malefactors': 6451, 'restrain': 6452, 'dismissed': 6453, 'representative': 6454, 'emulating': 6455, 'footsteps': 6456, 'presently': 6457, 'foundering': 6458, 'sunken': 6459, 'reef': 6460, 'officer': 6461, 'prejudice': 6462, 'privileges': 6463, 'headforemost': 6464, 'savings': 6465, 'seat': 6466, 'girt': 6467, 'tiara': 6468, 'scimitar': 6469, 'obediently': 6470, 'sovereign': 6471, 'speedy': 6472, 'penurious': 6473, 'satisfies': 6474, 'confines': 6475, 'subdues': 6476, 'shabby': 6477, 'purse': 6478, 'applaud': 6479, 'dronelike': 6480, 'forcibly': 6481, 'rogueries': 6482, 'dishonestly': 6483, 'guardianship': 6484, 'orphan': 6485, 'coerces': 6486, 'enforced': 6487, 'taming': 6488, 'trembles': 6489, 'unanimous': 6490, 'flee': 6491, 'competitor': 6492, 'awakening': 6493, 'expensive': 6494, 'resources': 6495, 'curtail': 6496, 'tolerably': 6497, 'spread': 6498, 'carelessness': 6499, 'forfeited': 6500, 'predicaments': 6501, 'insert': 6502, 'multiplied': 6503, 'abound': 6504, 'blazes': 6505, 'extinguish': 6506, 'restricting': 6507, 'scandalous': 6508, 'badly': 6509, 'adherents': 6510, 'habituated': 6511, 'idleness': 6512, 'resisting': 6513, 'sunburnt': 6514, 'complexion': 6515, 'superfluous': 6516, 'puffing': 6517, 'commotion': 6518, 'slaughtering': 6519, 'withdraw': 6520, 'frankness': 6521, 'reigns': 6522, 'assortment': 6523, 'bazaar': 6524, 'pick': 6525, 'patterns': 6526, 'forbids': 6527, 'humanity': 6528, 'sentenced': 6529, 'parades': 6530, 'forgiving': 6531, 'solemnly': 6532, 'grandly': 6533, 'trample': 6534, 'promoting': 6535, 'dispensing': 6536, 'unequals': 6537, 'continuance': 6538, 'delicate': 6539, 'luxuries': 6540, 'surfeited': 6541, 'varieties': 6542, 'advising': 6543, 'rebuking': 6544, 'seize': 6545, 'citadel': 6546, 'void': 6547, 'accomplishments': 6548, 'sentinels': 6549, 'boastful': 6550, 'lotus': 6551, 'eaters': 6552, 'aforesaid': 6553, 'gate': 6554, 'fastness': 6555, 'advisers': 6556, 'fatherly': 6557, 'modesty': 6558, 'silliness': 6559, 'ignominiously': 6560, 'nickname': 6561, 'unmanliness': 6562, 'border': 6563, 'emptied': 6564, 'swept': 6565, 'initiated': 6566, 'libertinism': 6567, 'elapsed': 6568, 'heyday': 6569, 'admits': 6570, 'successors': 6571, 'balances': 6572, 'equilibrium': 6573, 'wins': 6574, 'despises': 6575, 'encourages': 6576, 'chastise': 6577, 'shakes': 6578, 'indulging': 6579, 'lapped': 6580, 'drinker': 6581, 'emulous': 6582, 'bliss': 6583, 'epitome': 6584, 'introduces': 6585, 'thirsting': 6586, 'bearers': 6587, 'deeply': 6588, 'amenable': 6589, 'plentiful': 6590, 'punishes': 6591, 'occurrence': 6592, 'loyal': 6593, 'insultingly': 6594, 'hug': 6595, 'naught': 6596, 'infecting': 6597, 'pleasantry': 6598, 'gaiety': 6599, 'loth': 6600, 'morose': 6601, 'authoritative': 6602, 'purchaser': 6603, 'mistresses': 6604, 'asses': 6605, 'marching': 6606, 'dignities': 6607, 'burst': 6608, 'chafe': 6609, 'impatiently': 6610, 'unwritten': 6611, 'magnified': 6612, 'overmasters': 6613, 'aggravated': 6614, 'spendthrifts': 6615, 'plagues': 6616, 'phlegm': 6617, 'bile': 6618, 'lawgiver': 6619, 'bee': 6620, 'anyhow': 6621, 'cells': 6622, 'disqualified': 6623, 'bema': 6624, 'managed': 6625, 'richest': 6626, 'squeezable': 6627, 'squeezed': 6628, 'politicians': 6629, 'congregate': 6630, 'deprive': 6631, 'reserve': 6632, 'torments': 6633, 'breeds': 6634, 'impeachments': 6635, 'judgments': 6636, 'arcadian': 6637, 'lycaean': 6638, 'minced': 6639, 'destined': 6640, 'disposal': 6641, 'shedding': 6642, 'murders': 6643, 'disappear': 6644, 'tongue': 6645, 'tasting': 6646, 'banishes': 6647, 'hinting': 6648, 'abolition': 6649, 'partition': 6650, 'expel': 6651, 'assassinate': 6652, 'career': 6653, 'pebbly': 6654, 'flees': 6655, 'bulk': 6656, 'overthrower': 6657, 'chariot': 6658, 'smiles': 6659, 'salutes': 6660, 'liberating': 6661, 'debtors': 6662, 'distributing': 6663, 'conquest': 6664, 'treaty': 6665, 'impoverished': 6666, 'suspected': 6667, 'resistance': 6668, 'unpopular': 6669, 'teeth': 6670, 'stop': 6671, 'pays': 6672, 'rob': 6673, 'enrol': 6674, 'trust': 6675, 'euripides': 6676, 'tragedian': 6677, 'pregnant': 6678, 'godlike': 6679, 'wit': 6680, 'mobs': 6681, 'loud': 6682, 'persuasive': 6683, 'hill': 6684, 'shortness': 6685, 'wandering': 6686, 'treasures': 6687, 'confiscate': 6688, 'attainted': 6689, 'suffice': 6690, 'boon': 6691, 'estate': 6692, 'aver': 6693, 'settle': 6694, 'protect': 6695, 'aristocratic': 6696, 'riotous': 6697, 'bosom': 6698, 'disarmed': 6699, 'cruel': 6700, 'harshest': 6701, 'bitterest': 6702, 'transition': 6703, 'ix': 6704, 'unanswered': 6705, 'gorged': 6706, 'incest': 6707, 'awakened': 6708, 'collecting': 6709, 'meditation': 6710, 'interfering': 6711, 'solitude': 6712, 'abstraction': 6713, 'allayed': 6714, 'pacifying': 6715, 'rouses': 6716, 'fantastic': 6717, 'digression': 6718, 'peers': 6719, 'discountenanced': 6720, 'ornament': 6721, 'refined': 6722, 'licentious': 6723, 'wanton': 6724, 'rushed': 6725, 'corruptors': 6726, 'halted': 6727, 'slavish': 6728, 'indulgence': 6729, 'seducers': 6730, 'dire': 6731, 'winged': 6732, 'clouds': 6733, 'wines': 6734, 'dissolute': 6735, 'formation': 6736, 'casts': 6737, 'facetiously': 6738, 'carousals': 6739, 'revellings': 6740, 'courtezans': 6741, 'formidable': 6742, 'demands': 6743, 'crowding': 6744, 'ravens': 6745, 'crying': 6746, 'aloud': 6747, 'goaded': 6748, 'gratify': 6749, 'compunction': 6750, 'tyrannizing': 6751, 'fangled': 6752, 'harlot': 6753, 'withered': 6754, 'swarm': 6755, 'nightly': 6756, 'wayfarer': 6757, 'meanwhile': 6758, 'empire': 6759, 'dreams': 6760, 'foulest': 6761, 'lordly': 6762, 'lawlessly': 6763, 'reckless': 6764, 'communications': 6765, 'pads': 6766, 'bribes': 6767, 'catalogue': 6768, 'perpetrators': 6769, 'miles': 6770, 'assisted': 6771, 'infatuation': 6772, 'beating': 6773, 'fatherland': 6774, 'motherland': 6775, 'treacherous': 6776, 'wickedest': 6777, 'tyrannized': 6778, 'longest': 6779, 'apparition': 6780, 'invitation': 6781, 'wretchedest': 6782, 'estimating': 6783, 'pompous': 6784, 'beholder': 6785, 'insight': 6786, 'dally': 6787, 'attire': 6788, 'glancing': 6789, 'miserably': 6790, 'maddest': 6791, 'voluntarily': 6792, 'gadfly': 6793, 'goads': 6794, 'remorse': 6795, 'groaning': 6796, 'conjecture': 6797, 'securely': 6798, 'leagued': 6799, 'wilderness': 6800, 'agony': 6801, 'cajole': 6802, 'surrounded': 6803, 'dainty': 6804, 'greedy': 6805, 'paralytic': 6806, 'combating': 6807, 'adulation': 6808, 'servility': 6809, 'flatterer': 6810, 'vilest': 6811, 'inspect': 6812, 'beset': 6813, 'convulsions': 6814, 'distractions': 6815, 'resembles': 6816, 'faithless': 6817, 'friendless': 6818, 'cherisher': 6819, 'umpire': 6820, 'theatrical': 6821, 'choruses': 6822, 'herald': 6823, 'announce': 6824, 'justest': 6825, 'demonstration': 6826, 'vehemence': 6827, 'intelligibly': 6828, 'conquering': 6829, 'depreciating': 6830, 'vanity': 6831, 'painless': 6832, 'sweetness': 6833, 'peculiarly': 6834, 'trustworthy': 6835, 'intelligent': 6836, 'approves': 6837, 'olympian': 6838, 'whispers': 6839, 'decisive': 6840, 'extolled': 6841, 'pleased': 6842, 'imposition': 6843, 'smell': 6844, 'reliefs': 6845, 'anticipations': 6846, 'regions': 6847, 'inexperienced': 6848, 'satiety': 6849, 'grey': 6850, 'sustenance': 6851, 'participates': 6852, 'illusory': 6853, 'gluttony': 6854, 'random': 6855, 'dining': 6856, 'fatten': 6857, 'kick': 6858, 'butt': 6859, 'horns': 6860, 'hoofs': 6861, 'unsubstantial': 6862, 'incontinent': 6863, 'exaggerates': 6864, 'insane': 6865, 'stesichorus': 6866, 'helen': 6867, 'envious': 6868, 'discontented': 6869, 'attainable': 6870, 'illusive': 6871, 'farthest': 6872, 'unpleasantly': 6873, 'transgression': 6874, 'reaches': 6875, 'wedded': 6876, 'painfully': 6877, 'enormous': 6878, 'immeasurably': 6879, 'revert': 6880, 'chimera': 6881, 'scylla': 6882, 'cerberus': 6883, 'generate': 6884, 'metamorphose': 6885, 'marvellous': 6886, 'pliable': 6887, 'substance': 6888, 'easier': 6889, 'hull': 6890, 'strengthen': 6891, 'starve': 6892, 'consequently': 6893, 'familiarize': 6894, 'harmonize': 6895, 'bite': 6896, 'supporter': 6897, 'cultivating': 6898, 'uniting': 6899, 'maintainer': 6900, 'disapprover': 6901, 'gainer': 6902, 'caitiff': 6903, 'remorselessly': 6904, 'sells': 6905, 'godless': 6906, 'eriphyle': 6907, 'necklace': 6908, 'bribe': 6909, 'compass': 6910, 'multiform': 6911, 'serpent': 6912, 'disproportionately': 6913, 'subordinates': 6914, 'unruly': 6915, 'habituates': 6916, 'employments': 6917, 'manual': 6918, 'refusal': 6919, 'analogous': 6920, 'manifest': 6921, 'silenced': 6922, 'humanized': 6923, 'gentler': 6924, 'ennobled': 6925, 'acquirement': 6926, 'energies': 6927, 'impress': 6928, 'secondary': 6929, 'thereby': 6930, 'attemper': 6931, 'heap': 6932, 'superfluity': 6933, 'anywhere': 6934, 'methinks': 6935, 'beholding': 6936, 'antidote': 6937, 'purport': 6938, 'falter': 6939, 'reverenced': 6940, 'duller': 6941, 'muster': 6942, 'feat': 6943, 'designate': 6944, 'obliquely': 6945, 'touches': 6946, 'whoever': 6947, 'actor': 6948, 'analyse': 6949, 'across': 6950, 'interested': 6951, 'encomiums': 6952, 'incidentally': 6953, 'asclepiads': 6954, 'remove': 6955, 'lacedaemon': 6956, 'lycurgus': 6957, 'italy': 6958, 'sicily': 6959, 'boast': 6960, 'charondas': 6961, 'renowned': 6962, 'homerids': 6963, 'pretend': 6964, 'record': 6965, 'successfully': 6966, 'aided': 6967, 'thales': 6968, 'milesian': 6969, 'anacharsis': 6970, 'scythian': 6971, 'homeric': 6972, 'pythagoras': 6973, 'recorded': 6974, 'creophylus': 6975, 'stupidity': 6976, 'protagoras': 6977, 'abdera': 6978, 'prodicus': 6979, 'ceos': 6980, 'recited': 6981, 'workers': 6982, 'structure': 6983, 'animate': 6984, 'inanimate': 6985, 'develop': 6986, 'performer': 6987, 'confiding': 6988, 'brilliant': 6989, 'conjure': 6990, 'addressed': 6991, 'concave': 6992, 'convex': 6993, 'conjuring': 6994, 'devices': 6995, 'imposes': 6996, 'weighing': 6997, 'rescue': 6998, 'certifies': 6999, 'trusts': 7000, 'marries': 7001, 'relating': 7002, 'rely': 7003, 'probability': 7004, 'ensued': 7005, 'oppositions': 7006, 'indulge': 7007, 'wasting': 7008, 'howl': 7009, 'accustoming': 7010, 'forthwith': 7011, 'temperament': 7012, 'equable': 7013, 'promiscuous': 7014, 'fitful': 7015, 'awakens': 7016, 'nourishes': 7017, 'strengthens': 7018, 'manufacturer': 7019, 'harming': 7020, 'harmed': 7021, 'awful': 7022, 'drawling': 7023, 'sorrows': 7024, 'oration': 7025, 'smiting': 7026, 'raptures': 7027, 'stirs': 7028, 'quiet': 7029, 'recitation': 7030, 'admiring': 7031, 'abominate': 7032, 'relieve': 7033, 'calamities': 7034, 'pitying': 7035, 'fuss': 7036, 'supercilious': 7037, 'communicated': 7038, 'misfortunes': 7039, 'repressed': 7040, 'disgusted': 7041, 'unseemliness': 7042, 'buffoon': 7043, 'stimulated': 7044, 'risible': 7045, 'inseparable': 7046, 'drying': 7047, 'lets': 7048, 'honeyed': 7049, 'reverted': 7050, 'tendencies': 7051, 'impute': 7052, 'harshness': 7053, 'politeness': 7054, 'yelping': 7055, 'hound': 7056, 'howling': 7057, 'circumventing': 7058, 'thinkers': 7059, 'beggars': 7060, 'betray': 7061, 'lyrical': 7062, 'enamoured': 7063, 'captivates': 7064, 'listens': 7065, 'seductions': 7066, 'score': 7067, 'imperishable': 7068, 'astonishment': 7069, 'improving': 7070, 'ophthalmia': 7071, 'mildew': 7072, 'rot': 7073, 'timber': 7074, 'rust': 7075, 'copper': 7076, 'infected': 7077, 'dissolves': 7078, 'corrupts': 7079, 'review': 7080, 'dissolve': 7081, 'perishes': 7082, 'wastes': 7083, 'reduces': 7084, 'annihilates': 7085, 'annihilation': 7086, 'consume': 7087, 'staleness': 7088, 'decomposition': 7089, 'communicates': 7090, 'infection': 7091, 'unrefuted': 7092, 'throat': 7093, 'minutest': 7094, 'denies': 7095, 'murderer': 7096, 'proven': 7097, 'compositions': 7098, 'compounded': 7099, 'demonstrated': 7100, 'marred': 7101, 'miseries': 7102, 'manifested': 7103, 'glaucus': 7104, 'discerned': 7105, 'broken': 7106, 'crushed': 7107, 'damaged': 7108, 'incrustations': 7109, 'seaweed': 7110, 'ills': 7111, 'borne': 7112, 'impulse': 7113, 'disengaged': 7114, 'overgrown': 7115, 'fulfilled': 7116, 'helmet': 7117, 'repay': 7118, 'borrowed': 7119, 'borrow': 7120, 'weighed': 7121, 'estimation': 7122, 'hers': 7123, 'palms': 7124, 'runners': 7125, 'pace': 7126, 'slinking': 7127, 'draggling': 7128, 'runner': 7129, 'endures': 7130, 'bestow': 7131, 'flouted': 7132, 'polite': 7133, 'burned': 7134, 'horrors': 7135, 'reciting': 7136, 'provides': 7137, 'recompenses': 7138, 'alcinous': 7139, 'armenius': 7140, 'pamphylian': 7141, 'twelfth': 7142, 'funeral': 7143, 'pile': 7144, 'sentences': 7145, 'bidden': 7146, 'symbols': 7147, 'backs': 7148, 'departing': 7149, 'dusty': 7150, 'travel': 7151, 'anon': 7152, 'gladness': 7153, 'embraced': 7154, 'conversed': 7155, 'remembrance': 7156, 'lasted': 7157, 'tenfold': 7158, 'deaths': 7159, 'offences': 7160, 'beneficence': 7161, 'piety': 7162, 'pamphylia': 7163, 'murdered': 7164, 'witnessed': 7165, 'reascend': 7166, 'fancied': 7167, 'roar': 7168, 'sinners': 7169, 'fiery': 7170, 'seized': 7171, 'threw': 7172, 'flayed': 7173, 'scourges': 7174, 'carding': 7175, 'thorns': 7176, 'exceeding': 7177, 'penalties': 7178, 'tarried': 7179, 'column': 7180, 'rainbow': 7181, 'midst': 7182, 'belt': 7183, 'universe': 7184, 'girders': 7185, 'trireme': 7186, 'revolutions': 7187, 'shaft': 7188, 'scooped': 7189, 'edges': 7190, 'pierced': 7191, 'outermost': 7192, 'rim': 7193, 'broadest': 7194, 'narrower': 7195, 'saturn': 7196, 'mercury': 7197, 'yellower': 7198, 'venus': 7199, 'whitest': 7200, 'mars': 7201, 'reddish': 7202, 'jupiter': 7203, 'whiteness': 7204, 'slowly': 7205, 'turns': 7206, 'siren': 7207, 'tone': 7208, 'robes': 7209, 'sirens': 7210, 'singing': 7211, 'guiding': 7212, 'mounted': 7213, 'pulpit': 7214, 'cycle': 7215, 'mortality': 7216, 'allotted': 7217, 'dishonours': 7218, 'responsibility': 7219, 'chooser': 7220, 'scattered': 7221, 'broke': 7222, 'ancestors': 7223, 'peril': 7224, 'collectively': 7225, 'station': 7226, 'dullness': 7227, 'conjoined': 7228, 'adamantine': 7229, 'undazzled': 7230, 'allurements': 7231, 'villainies': 7232, 'irremediable': 7233, 'comer': 7234, 'despair': 7235, 'darkened': 7236, 'forgetting': 7237, 'throwing': 7238, 'pilgrims': 7239, 'exchanged': 7240, 'arrival': 7241, 'reported': 7242, 'laughable': 7243, 'based': 7244, 'thamyras': 7245, 'nightingale': 7246, 'musicians': 7247, 'twentieth': 7248, 'telamon': 7249, 'remembering': 7250, 'eagle': 7251, 'atalanta': 7252, 'epeus': 7253, 'panopeus': 7254, 'jester': 7255, 'thersites': 7256, 'disenchanted': 7257, 'fulfiller': 7258, 'impelled': 7259, 'ratifying': 7260, 'spun': 7261, 'threads': 7262, 'irreversible': 7263, 'verdure': 7264, 'unmindfulness': 7265, 'thunderstorm': 7266, 'shooting': 7267, 'awaking': 7268, 'perished': 7269, 'defiled': 7270, 'celebrate': 7271, 'artemis': 7272, 'thracian': 7273, 'bendis': 7274, 'yesterday': 7275}\n"
     ]
    }
   ],
   "source": [
    "# vocabulary size\n",
    "vocabulary = tokenizer.word_index\n",
    "vocab_size = len(tokenizer.word_index) + 1\n",
    "print('Vocabulary Size %d' % vocab_size)\n",
    "print('Vocabulary', vocabulary)"
   ]
  },
  {
   "cell_type": "markdown",
   "metadata": {},
   "source": [
    "### 2.3 Sequence Inputs and Outputs"
   ]
  },
  {
   "cell_type": "code",
   "execution_count": 34,
   "metadata": {},
   "outputs": [
    {
     "name": "stdout",
     "output_type": "stream",
     "text": [
      "[[1045   11   11 ...  151   11   57]\n",
      " [  11   11 1044 ...   11   57 1148]\n",
      " [  11 1044  329 ...   57 1148   35]\n",
      " ...\n",
      " [ 384  466    4 ...  416   13   21]\n",
      " [ 466    4   33 ...   13   21   23]\n",
      " [   4   33   79 ...   21   23   86]]\n"
     ]
    }
   ],
   "source": [
    "from numpy import array\n",
    "# separate into input and output\n",
    "sequences = array(sequences)\n",
    "print(sequences)"
   ]
  },
  {
   "cell_type": "code",
   "execution_count": 36,
   "metadata": {},
   "outputs": [
    {
     "name": "stdout",
     "output_type": "stream",
     "text": [
      "Sequence Length: 50\n",
      "[[0. 0. 0. ... 0. 0. 0.]\n",
      " [0. 0. 0. ... 0. 0. 0.]\n",
      " [0. 0. 0. ... 0. 0. 0.]\n",
      " ...\n",
      " [0. 0. 0. ... 0. 0. 0.]\n",
      " [0. 0. 0. ... 0. 0. 0.]\n",
      " [0. 0. 0. ... 0. 0. 0.]]\n"
     ]
    }
   ],
   "source": [
    "from keras.utils import to_categorical\n",
    "X = sequences[:,:-1]\n",
    "y = sequences[:,-1]\n",
    "y = to_categorical(y,num_classes = vocab_size)\n",
    "seq_length = X.shape[1]\n",
    "print('Sequence Length:', seq_length)\n",
    "print(y)"
   ]
  },
  {
   "cell_type": "markdown",
   "metadata": {},
   "source": [
    "### 2.4 Fit Model "
   ]
  },
  {
   "cell_type": "code",
   "execution_count": 38,
   "metadata": {},
   "outputs": [
    {
     "name": "stdout",
     "output_type": "stream",
     "text": [
      "Model: \"sequential_1\"\n",
      "_________________________________________________________________\n",
      "Layer (type)                 Output Shape              Param #   \n",
      "=================================================================\n",
      "embedding_1 (Embedding)      (None, 50, 50)            363800    \n",
      "_________________________________________________________________\n",
      "lstm_1 (LSTM)                (None, 50, 100)           60400     \n",
      "_________________________________________________________________\n",
      "lstm_2 (LSTM)                (None, 100)               80400     \n",
      "_________________________________________________________________\n",
      "dense_1 (Dense)              (None, 7276)              734876    \n",
      "=================================================================\n",
      "Total params: 1,239,476\n",
      "Trainable params: 1,239,476\n",
      "Non-trainable params: 0\n",
      "_________________________________________________________________\n",
      "WARNING:tensorflow:From C:\\Users\\alekh\\AppData\\Local\\conda\\conda\\envs\\Tensorflow\\lib\\site-packages\\keras\\backend\\tensorflow_backend.py:422: The name tf.global_variables is deprecated. Please use tf.compat.v1.global_variables instead.\n",
      "\n"
     ]
    },
    {
     "name": "stderr",
     "output_type": "stream",
     "text": [
      "WARNING:tensorflow:From C:\\Users\\alekh\\AppData\\Local\\conda\\conda\\envs\\Tensorflow\\lib\\site-packages\\keras\\backend\\tensorflow_backend.py:422: The name tf.global_variables is deprecated. Please use tf.compat.v1.global_variables instead.\n",
      "\n"
     ]
    },
    {
     "name": "stdout",
     "output_type": "stream",
     "text": [
      "Epoch 1/100\n",
      "118599/118599 [==============================] - 245s 2ms/step - loss: 6.2099 - accuracy: 0.0684\n",
      "Epoch 2/100\n",
      "118599/118599 [==============================] - 236s 2ms/step - loss: 5.7596 - accuracy: 0.0988\n",
      "Epoch 3/100\n",
      "118599/118599 [==============================] - 251s 2ms/step - loss: 5.5205 - accuracy: 0.1228\n",
      "Epoch 4/100\n",
      "118599/118599 [==============================] - 252s 2ms/step - loss: 5.3538 - accuracy: 0.1424\n",
      "Epoch 5/100\n",
      "118599/118599 [==============================] - 234s 2ms/step - loss: 5.2355 - accuracy: 0.1526\n",
      "Epoch 6/100\n",
      "118599/118599 [==============================] - 230s 2ms/step - loss: 5.1384 - accuracy: 0.1601\n",
      "Epoch 7/100\n",
      "118599/118599 [==============================] - 233s 2ms/step - loss: 5.0505 - accuracy: 0.1650\n",
      "Epoch 8/100\n",
      "118599/118599 [==============================] - 229s 2ms/step - loss: 4.9699 - accuracy: 0.1701\n",
      "Epoch 9/100\n",
      "118599/118599 [==============================] - 228s 2ms/step - loss: 4.8952 - accuracy: 0.1741\n",
      "Epoch 10/100\n",
      "118599/118599 [==============================] - 236s 2ms/step - loss: 4.8260 - accuracy: 0.1779\n",
      "Epoch 11/100\n",
      "118599/118599 [==============================] - 247s 2ms/step - loss: 4.7595 - accuracy: 0.1819\n",
      "Epoch 12/100\n",
      "118599/118599 [==============================] - 239s 2ms/step - loss: 4.6975 - accuracy: 0.1854\n",
      "Epoch 13/100\n",
      "118599/118599 [==============================] - 236s 2ms/step - loss: 4.6378 - accuracy: 0.1887\n",
      "Epoch 14/100\n",
      "118599/118599 [==============================] - 229s 2ms/step - loss: 4.5834 - accuracy: 0.1919\n",
      "Epoch 15/100\n",
      "118599/118599 [==============================] - 230s 2ms/step - loss: 4.5317 - accuracy: 0.1937\n",
      "Epoch 16/100\n",
      "118599/118599 [==============================] - 231s 2ms/step - loss: 4.4850 - accuracy: 0.1963\n",
      "Epoch 17/100\n",
      "118599/118599 [==============================] - 251s 2ms/step - loss: 4.4424 - accuracy: 0.1980\n",
      "Epoch 18/100\n",
      "118599/118599 [==============================] - 249s 2ms/step - loss: 4.3977 - accuracy: 0.1993\n",
      "Epoch 19/100\n",
      "118599/118599 [==============================] - 243s 2ms/step - loss: 4.3567 - accuracy: 0.2018\n",
      "Epoch 20/100\n",
      "118599/118599 [==============================] - 231s 2ms/step - loss: 4.3173 - accuracy: 0.2040\n",
      "Epoch 21/100\n",
      "118599/118599 [==============================] - 238s 2ms/step - loss: 4.2784 - accuracy: 0.2063\n",
      "Epoch 22/100\n",
      "118599/118599 [==============================] - 230s 2ms/step - loss: 4.2490 - accuracy: 0.2087\n",
      "Epoch 23/100\n",
      "118599/118599 [==============================] - 229s 2ms/step - loss: 4.2135 - accuracy: 0.2106\n",
      "Epoch 24/100\n",
      "118599/118599 [==============================] - 228s 2ms/step - loss: 4.1783 - accuracy: 0.2135\n",
      "Epoch 25/100\n",
      "118599/118599 [==============================] - 227s 2ms/step - loss: 4.1456 - accuracy: 0.2162\n",
      "Epoch 26/100\n",
      "118599/118599 [==============================] - 228s 2ms/step - loss: 4.1124 - accuracy: 0.2185\n",
      "Epoch 27/100\n",
      "118599/118599 [==============================] - 233s 2ms/step - loss: 4.0806 - accuracy: 0.2221\n",
      "Epoch 28/100\n",
      "118599/118599 [==============================] - 229s 2ms/step - loss: 4.0498 - accuracy: 0.2245\n",
      "Epoch 29/100\n",
      "118599/118599 [==============================] - 235s 2ms/step - loss: 4.0200 - accuracy: 0.2276\n",
      "Epoch 30/100\n",
      "118599/118599 [==============================] - 228s 2ms/step - loss: 3.9899 - accuracy: 0.2302\n",
      "Epoch 31/100\n",
      "118599/118599 [==============================] - 231s 2ms/step - loss: 3.9606 - accuracy: 0.2337\n",
      "Epoch 32/100\n",
      "118599/118599 [==============================] - 229s 2ms/step - loss: 3.9323 - accuracy: 0.2366\n",
      "Epoch 33/100\n",
      "118599/118599 [==============================] - 230s 2ms/step - loss: 3.9044 - accuracy: 0.2387\n",
      "Epoch 34/100\n",
      "118599/118599 [==============================] - 230s 2ms/step - loss: 3.8770 - accuracy: 0.2419\n",
      "Epoch 35/100\n",
      "118599/118599 [==============================] - 229s 2ms/step - loss: 3.8501 - accuracy: 0.2455\n",
      "Epoch 36/100\n",
      "118599/118599 [==============================] - 231s 2ms/step - loss: 3.8241 - accuracy: 0.2478\n",
      "Epoch 37/100\n",
      "118599/118599 [==============================] - 228s 2ms/step - loss: 3.7995 - accuracy: 0.2513\n",
      "Epoch 38/100\n",
      "118599/118599 [==============================] - 227s 2ms/step - loss: 3.7733 - accuracy: 0.2537\n",
      "Epoch 39/100\n",
      "118599/118599 [==============================] - 229s 2ms/step - loss: 3.7494 - accuracy: 0.2562\n",
      "Epoch 40/100\n",
      "118599/118599 [==============================] - 231s 2ms/step - loss: 3.7244 - accuracy: 0.2598\n",
      "Epoch 41/100\n",
      "118599/118599 [==============================] - 229s 2ms/step - loss: 3.7015 - accuracy: 0.2632\n",
      "Epoch 42/100\n",
      "118599/118599 [==============================] - 232s 2ms/step - loss: 3.6769 - accuracy: 0.2659\n",
      "Epoch 43/100\n",
      "118599/118599 [==============================] - 232s 2ms/step - loss: 3.6551 - accuracy: 0.2686\n",
      "Epoch 44/100\n",
      "118599/118599 [==============================] - 234s 2ms/step - loss: 3.6316 - accuracy: 0.2706\n",
      "Epoch 45/100\n",
      "118599/118599 [==============================] - 232s 2ms/step - loss: 3.6083 - accuracy: 0.2740\n",
      "Epoch 46/100\n",
      "118599/118599 [==============================] - 230s 2ms/step - loss: 3.5871 - accuracy: 0.2766\n",
      "Epoch 47/100\n",
      "118599/118599 [==============================] - 233s 2ms/step - loss: 3.5642 - accuracy: 0.2800\n",
      "Epoch 48/100\n",
      "118599/118599 [==============================] - 238s 2ms/step - loss: 3.5416 - accuracy: 0.2828\n",
      "Epoch 49/100\n",
      "118599/118599 [==============================] - 229s 2ms/step - loss: 3.5210 - accuracy: 0.2858\n",
      "Epoch 50/100\n",
      "118599/118599 [==============================] - 227s 2ms/step - loss: 3.4997 - accuracy: 0.2894\n",
      "Epoch 51/100\n",
      "118599/118599 [==============================] - 230s 2ms/step - loss: 3.4793 - accuracy: 0.2909\n",
      "Epoch 52/100\n",
      "118599/118599 [==============================] - 229s 2ms/step - loss: 3.4584 - accuracy: 0.2937\n",
      "Epoch 53/100\n",
      "118599/118599 [==============================] - 226s 2ms/step - loss: 3.4370 - accuracy: 0.2976\n",
      "Epoch 54/100\n",
      "118599/118599 [==============================] - 226s 2ms/step - loss: 3.4169 - accuracy: 0.3004\n",
      "Epoch 55/100\n",
      "118599/118599 [==============================] - 229s 2ms/step - loss: 3.3969 - accuracy: 0.3027\n",
      "Epoch 56/100\n",
      "118599/118599 [==============================] - 227s 2ms/step - loss: 3.3771 - accuracy: 0.3060\n",
      "Epoch 57/100\n",
      "118599/118599 [==============================] - 226s 2ms/step - loss: 3.3583 - accuracy: 0.3080\n",
      "Epoch 58/100\n",
      "118599/118599 [==============================] - 228s 2ms/step - loss: 3.3381 - accuracy: 0.3114\n",
      "Epoch 59/100\n",
      "118599/118599 [==============================] - 231s 2ms/step - loss: 3.3177 - accuracy: 0.3136\n",
      "Epoch 60/100\n",
      "118599/118599 [==============================] - 229s 2ms/step - loss: 3.2993 - accuracy: 0.3173\n",
      "Epoch 61/100\n",
      "118599/118599 [==============================] - 226s 2ms/step - loss: 3.2797 - accuracy: 0.3196\n",
      "Epoch 62/100\n",
      "118599/118599 [==============================] - 227s 2ms/step - loss: 3.2610 - accuracy: 0.3217\n",
      "Epoch 63/100\n",
      "118599/118599 [==============================] - 228s 2ms/step - loss: 3.2429 - accuracy: 0.3249\n",
      "Epoch 64/100\n",
      "118599/118599 [==============================] - 230s 2ms/step - loss: 3.2233 - accuracy: 0.3289\n",
      "Epoch 65/100\n",
      "118599/118599 [==============================] - 227s 2ms/step - loss: 3.2056 - accuracy: 0.3308\n",
      "Epoch 66/100\n",
      "118599/118599 [==============================] - 226s 2ms/step - loss: 3.1881 - accuracy: 0.3329\n",
      "Epoch 67/100\n",
      "118599/118599 [==============================] - 229s 2ms/step - loss: 3.1698 - accuracy: 0.3360\n",
      "Epoch 68/100\n",
      "118599/118599 [==============================] - 231s 2ms/step - loss: 3.1509 - accuracy: 0.3390\n",
      "Epoch 69/100\n",
      "118599/118599 [==============================] - 232s 2ms/step - loss: 3.1348 - accuracy: 0.3413\n",
      "Epoch 70/100\n",
      "118599/118599 [==============================] - 237s 2ms/step - loss: 3.1159 - accuracy: 0.3442\n",
      "Epoch 71/100\n",
      "118599/118599 [==============================] - 233s 2ms/step - loss: 3.1003 - accuracy: 0.3476\n",
      "Epoch 72/100\n",
      "118599/118599 [==============================] - 235s 2ms/step - loss: 3.0821 - accuracy: 0.3505\n",
      "Epoch 73/100\n",
      "118599/118599 [==============================] - 233s 2ms/step - loss: 3.0649 - accuracy: 0.3525\n",
      "Epoch 74/100\n",
      "118599/118599 [==============================] - 241s 2ms/step - loss: 3.0485 - accuracy: 0.3559\n",
      "Epoch 75/100\n"
     ]
    },
    {
     "name": "stdout",
     "output_type": "stream",
     "text": [
      "118599/118599 [==============================] - 247s 2ms/step - loss: 3.0328 - accuracy: 0.3580\n",
      "Epoch 76/100\n",
      "118599/118599 [==============================] - 232s 2ms/step - loss: 3.0150 - accuracy: 0.3605\n",
      "Epoch 77/100\n",
      "118599/118599 [==============================] - 253s 2ms/step - loss: 2.9973 - accuracy: 0.3636\n",
      "Epoch 78/100\n",
      "118599/118599 [==============================] - 257s 2ms/step - loss: 2.9820 - accuracy: 0.3658\n",
      "Epoch 79/100\n",
      "118599/118599 [==============================] - 252s 2ms/step - loss: 2.9655 - accuracy: 0.3687\n",
      "Epoch 80/100\n",
      "118599/118599 [==============================] - 256s 2ms/step - loss: 2.9508 - accuracy: 0.3714\n",
      "Epoch 81/100\n",
      "118599/118599 [==============================] - 261s 2ms/step - loss: 2.9338 - accuracy: 0.3737\n",
      "Epoch 82/100\n",
      "118599/118599 [==============================] - 262s 2ms/step - loss: 2.9177 - accuracy: 0.3768\n",
      "Epoch 83/100\n",
      "118599/118599 [==============================] - 258s 2ms/step - loss: 2.9018 - accuracy: 0.3794\n",
      "Epoch 84/100\n",
      "118599/118599 [==============================] - 262s 2ms/step - loss: 2.8880 - accuracy: 0.3821\n",
      "Epoch 85/100\n",
      "118599/118599 [==============================] - 266s 2ms/step - loss: 2.8754 - accuracy: 0.3840\n",
      "Epoch 86/100\n",
      "118599/118599 [==============================] - 268s 2ms/step - loss: 2.8569 - accuracy: 0.3870\n",
      "Epoch 87/100\n",
      "118599/118599 [==============================] - 264s 2ms/step - loss: 2.8396 - accuracy: 0.3897\n",
      "Epoch 88/100\n",
      "118599/118599 [==============================] - 238s 2ms/step - loss: 2.8259 - accuracy: 0.3919\n",
      "Epoch 89/100\n",
      "118599/118599 [==============================] - 231s 2ms/step - loss: 2.8106 - accuracy: 0.3951\n",
      "Epoch 90/100\n",
      "118599/118599 [==============================] - 230s 2ms/step - loss: 2.7968 - accuracy: 0.3971\n",
      "Epoch 91/100\n",
      "118599/118599 [==============================] - 231s 2ms/step - loss: 2.7811 - accuracy: 0.4005\n",
      "Epoch 92/100\n",
      "118599/118599 [==============================] - 236s 2ms/step - loss: 2.7682 - accuracy: 0.4026\n",
      "Epoch 93/100\n",
      "118599/118599 [==============================] - 238s 2ms/step - loss: 2.7523 - accuracy: 0.4058\n",
      "Epoch 94/100\n",
      "118599/118599 [==============================] - 234s 2ms/step - loss: 2.7373 - accuracy: 0.4081\n",
      "Epoch 95/100\n",
      "118599/118599 [==============================] - 242s 2ms/step - loss: 2.7257 - accuracy: 0.4092\n",
      "Epoch 96/100\n",
      "118599/118599 [==============================] - 234s 2ms/step - loss: 2.7092 - accuracy: 0.4130\n",
      "Epoch 97/100\n",
      "118599/118599 [==============================] - 233s 2ms/step - loss: 2.6944 - accuracy: 0.4167\n",
      "Epoch 98/100\n",
      "118599/118599 [==============================] - 233s 2ms/step - loss: 2.6818 - accuracy: 0.4175\n",
      "Epoch 99/100\n",
      "118599/118599 [==============================] - 237s 2ms/step - loss: 2.6699 - accuracy: 0.4196\n",
      "Epoch 100/100\n",
      "118599/118599 [==============================] - 233s 2ms/step - loss: 2.6524 - accuracy: 0.4231\n"
     ]
    }
   ],
   "source": [
    "from pickle import dump\n",
    "from keras.models import Sequential\n",
    "from keras.layers import Dense\n",
    "from keras.layers import LSTM\n",
    "from keras.layers import Embedding\n",
    "# define the model\n",
    "def define_model(vocab_size,seq_length):\n",
    "    model = Sequential()\n",
    "    model.add(Embedding(vocab_size,50,input_length = seq_length))\n",
    "    model.add(LSTM(100, return_sequences = True))\n",
    "    model.add(LSTM(100))\n",
    "    model.add(Dense(vocab_size, activation = 'softmax'))\n",
    "    # compile network\n",
    "    model.compile(loss = 'categorical_crossentropy', optimizer = 'adam', metrics = ['accuracy'])\n",
    "    # summarize defined model\n",
    "    model.summary()\n",
    "    return model\n",
    "\n",
    "# define model\n",
    "model = define_model(vocab_size,seq_length)\n",
    "# fit model\n",
    "model.fit(X,y, batch_size = 128, epochs = 100)\n",
    "# save the model to file\n",
    "model.save('model.h5')\n",
    "# save the tokenizer\n",
    "dump(tokenizer, open('tokenizer.pkl','wb'))"
   ]
  },
  {
   "cell_type": "markdown",
   "metadata": {},
   "source": [
    "## 3. Use Language Model"
   ]
  },
  {
   "cell_type": "markdown",
   "metadata": {},
   "source": [
    "### 3.1 Load Data"
   ]
  },
  {
   "cell_type": "code",
   "execution_count": 39,
   "metadata": {},
   "outputs": [],
   "source": [
    "# load doc into memory\n",
    "def load_doc(filename):\n",
    "    file = open(filename,'r')\n",
    "    text = file.read()\n",
    "    file.close()\n",
    "    return text\n",
    "\n",
    "# load cleaned text sequences\n",
    "in_filename = 'republic_sequences.txt'\n",
    "doc = load_doc(in_filename)\n",
    "lines = doc.split('\\n')"
   ]
  },
  {
   "cell_type": "markdown",
   "metadata": {},
   "source": [
    "- We need the text so that we can choose a source sequence as input to the model for generating a new sequence of text. The model will require 50 words as input. Later, we will need to specify the expected length of input. We can determine this from the input sequences by calculating the length of one line of the loaded data and subtracting 1 for the expected output word that is also on the same line."
   ]
  },
  {
   "cell_type": "code",
   "execution_count": 57,
   "metadata": {},
   "outputs": [
    {
     "data": {
      "text/plain": [
       "50"
      ]
     },
     "execution_count": 57,
     "metadata": {},
     "output_type": "execute_result"
    }
   ],
   "source": [
    "seq_length = len(lines[0].split()) - 1\n",
    "seq_length"
   ]
  },
  {
   "cell_type": "markdown",
   "metadata": {},
   "source": [
    "### 3.2 Load Model"
   ]
  },
  {
   "cell_type": "code",
   "execution_count": 58,
   "metadata": {},
   "outputs": [],
   "source": [
    "from random import randint \n",
    "from pickle import load \n",
    "from keras.models import load_model \n",
    "from keras.preprocessing.sequence import pad_sequences\n",
    "\n",
    "# load the model\n",
    "model = load_model('model.h5')\n",
    "\n",
    "# load the tokenizer\n",
    "tokenizer = load(open('tokenizer.pkl','rb'))"
   ]
  },
  {
   "cell_type": "markdown",
   "metadata": {},
   "source": [
    "### 3.3 Generate Text"
   ]
  },
  {
   "cell_type": "code",
   "execution_count": 59,
   "metadata": {},
   "outputs": [
    {
     "name": "stdout",
     "output_type": "stream",
     "text": [
      "was a dream and the education and training which they received from us an appearance only in reality during all that time they were being formed and fed in the womb of the earth where they themselves and their arms and appurtenances were manufactured when they were completed the earth their\n",
      "\n"
     ]
    }
   ],
   "source": [
    "# select a seed text\n",
    "seed_text = lines[randint(0,len(lines))]\n",
    "print(seed_text + '\\n')"
   ]
  },
  {
   "cell_type": "code",
   "execution_count": 64,
   "metadata": {},
   "outputs": [
    {
     "name": "stdout",
     "output_type": "stream",
     "text": [
      "encoded text: \n",
      " [57, 8, 870, 2, 1, 244, 2, 603, 13, 16, 689, 52, 63, 58, 707, 56, 6, 513, 1874, 37, 9, 146, 16, 66, 81, 2012, 2, 1805, 6, 1, 5122, 3, 1, 411, 265, 16, 175, 2, 29, 891, 2, 5123, 66, 5124, 40, 16, 66, 1217, 1, 411, 29]\n",
      "encoded pad sequences: \n",
      " [[   8  870    2    1  244    2  603   13   16  689   52   63   58  707\n",
      "    56    6  513 1874   37    9  146   16   66   81 2012    2 1805    6\n",
      "     1 5122    3    1  411  265   16  175    2   29  891    2 5123   66\n",
      "  5124   40   16   66 1217    1  411   29]]\n",
      "yhat: [679]\n",
      "input text: \n",
      " was a dream and the education and training which they received from us an appearance only in reality during all that time they were being formed and fed in the womb of the earth where they themselves and their arms and appurtenances were manufactured when they were completed the earth their mother\n",
      "encoded text: \n",
      " [57, 8, 870, 2, 1, 244, 2, 603, 13, 16, 689, 52, 63, 58, 707, 56, 6, 513, 1874, 37, 9, 146, 16, 66, 81, 2012, 2, 1805, 6, 1, 5122, 3, 1, 411, 265, 16, 175, 2, 29, 891, 2, 5123, 66, 5124, 40, 16, 66, 1217, 1, 411, 29, 679]\n",
      "encoded pad sequences: \n",
      " [[ 870    2    1  244    2  603   13   16  689   52   63   58  707   56\n",
      "     6  513 1874   37    9  146   16   66   81 2012    2 1805    6    1\n",
      "  5122    3    1  411  265   16  175    2   29  891    2 5123   66 5124\n",
      "    40   16   66 1217    1  411   29  679]]\n",
      "yhat: [1485]\n",
      "input text: \n",
      " was a dream and the education and training which they received from us an appearance only in reality during all that time they were being formed and fed in the womb of the earth where they themselves and their arms and appurtenances were manufactured when they were completed the earth their mother sent\n",
      "mother sent\n"
     ]
    }
   ],
   "source": [
    "# generate a sequence from a language model\n",
    "def generate_seq(model, tokenizer,seq_length,seed_text,n_words):\n",
    "    result = []\n",
    "    in_text = seed_text\n",
    "    # generate a fixed number of words\n",
    "    for _ in range(n_words):\n",
    "        # encode the text as integer\n",
    "        encoded = tokenizer.texts_to_sequences([in_text])[0]\n",
    "        print('encoded text:','\\n',encoded)\n",
    "        # truncate sequences to a fixed length\n",
    "        encoded = pad_sequences([encoded],maxlen = seq_length,truncating = 'pre')\n",
    "        print('encoded pad sequences:', '\\n',encoded)\n",
    "        # predict probabilities for each word\n",
    "        yhat = model.predict_classes(encoded,verbose = 0)\n",
    "        print('yhat:',yhat)\n",
    "        # map predicted word index to word\n",
    "        out_word = ''\n",
    "        for word,index in tokenizer.word_index.items():\n",
    "            if index == yhat:\n",
    "                out_word = word\n",
    "                break\n",
    "        # append to input\n",
    "        in_text +=  ' ' + out_word\n",
    "        print('input text:', '\\n',in_text)\n",
    "        result.append(out_word)\n",
    "    return ' '.join(result)\n",
    "\n",
    "# generate new text\n",
    "generated = generate_seq(model,tokenizer,seq_length, seed_text,2)\n",
    "print(generated)"
   ]
  },
  {
   "cell_type": "code",
   "execution_count": null,
   "metadata": {},
   "outputs": [],
   "source": []
  }
 ],
 "metadata": {
  "kernelspec": {
   "display_name": "Python 3",
   "language": "python",
   "name": "python3"
  },
  "language_info": {
   "codemirror_mode": {
    "name": "ipython",
    "version": 3
   },
   "file_extension": ".py",
   "mimetype": "text/x-python",
   "name": "python",
   "nbconvert_exporter": "python",
   "pygments_lexer": "ipython3",
   "version": "3.7.4"
  }
 },
 "nbformat": 4,
 "nbformat_minor": 2
}
