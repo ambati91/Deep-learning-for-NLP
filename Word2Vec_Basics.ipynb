{
 "cells": [
  {
   "cell_type": "code",
   "execution_count": 2,
   "metadata": {},
   "outputs": [],
   "source": [
    "from gensim.models import Word2Vec"
   ]
  },
  {
   "cell_type": "code",
   "execution_count": 3,
   "metadata": {},
   "outputs": [],
   "source": [
    "# define training data\n",
    "sentences = [['this','is','the','first','sentence','for','word2vec'],\n",
    "            ['this','is','the','second','sentence'],\n",
    "            ['yet','another','sentence'],\n",
    "            ['one','more','sentence'],\n",
    "            ['and','the','final','sentence'],\n",
    "            ]"
   ]
  },
  {
   "cell_type": "code",
   "execution_count": 4,
   "metadata": {},
   "outputs": [
    {
     "name": "stdout",
     "output_type": "stream",
     "text": [
      "Word2Vec(vocab=14, size=100, alpha=0.025)\n"
     ]
    }
   ],
   "source": [
    "# train model\n",
    "model = Word2Vec(sentences,min_count = 1,size = 100,alpha = 0.025)\n",
    "print(model)"
   ]
  },
  {
   "cell_type": "markdown",
   "metadata": {},
   "source": [
    "### Word2Vec Arguments\n",
    "- size: (default 100) The number of dimensions of the embedding, e.g. the length of the dense vector to represent each token (word).\n",
    "- window: (default 5) The maximum distance between a target word and words around the target word.\n",
    "- min_count: (default 5) The minimum count of words to consider when training the model; words with an occurrence less than this count will be ignored.\n",
    "- workers: (default 3) The number of threads to use while training.\n",
    "- sg: (default 0 or CBOW) The training algorithm, either CBOW (0) or skip gram (1)."
   ]
  },
  {
   "cell_type": "code",
   "execution_count": 5,
   "metadata": {},
   "outputs": [
    {
     "name": "stdout",
     "output_type": "stream",
     "text": [
      "['this', 'is', 'the', 'first', 'sentence', 'for', 'word2vec', 'second', 'yet', 'another', 'one', 'more', 'and', 'final']\n"
     ]
    }
   ],
   "source": [
    "words = list(model.wv.vocab) # wv - word vector\n",
    "print(words)"
   ]
  },
  {
   "cell_type": "code",
   "execution_count": 6,
   "metadata": {
    "collapsed": true
   },
   "outputs": [
    {
     "name": "stdout",
     "output_type": "stream",
     "text": [
      "[-3.3606060e-03  4.6983841e-03 -1.0668146e-03 -4.9062609e-03\n",
      " -2.8184045e-04  4.2165760e-03 -3.6885270e-03 -2.4542683e-03\n",
      " -4.8693842e-03 -4.7206804e-03  2.4804140e-03 -3.3772006e-03\n",
      "  4.9800826e-03 -1.3523344e-03  6.0589507e-04 -3.7288195e-03\n",
      " -4.9222792e-03  2.0879242e-03 -3.8226526e-03 -5.5221346e-04\n",
      "  3.6559307e-03  3.9702404e-04 -2.5885508e-03  3.0353973e-03\n",
      "  4.9198074e-03 -4.6481933e-03 -3.0356944e-03  3.0230281e-03\n",
      "  2.7304983e-03  3.6015431e-03 -2.6467235e-03  2.2781927e-03\n",
      "  9.2137867e-04 -3.6282842e-03  1.3845642e-03  4.8173717e-03\n",
      " -4.8157568e-03 -3.8610521e-04  2.7764833e-03 -3.7470683e-03\n",
      "  1.5247632e-03  2.7892762e-03 -3.5079051e-04  4.2709075e-03\n",
      " -3.4979958e-04  3.4654515e-03 -4.8490078e-03 -2.4904152e-03\n",
      "  2.5584173e-04 -3.4131107e-03 -3.6004272e-03  4.2889081e-03\n",
      "  2.7872191e-03  3.9762631e-03  5.7377364e-04 -8.2568417e-04\n",
      " -8.5957779e-04  4.0180567e-03 -2.8106519e-03  5.7923689e-04\n",
      " -4.5625362e-04 -2.3852868e-03  4.2889994e-03  4.6638004e-03\n",
      "  4.3368596e-03 -4.8900354e-03  3.6626954e-03  3.4174093e-04\n",
      " -2.3039852e-03 -2.5802653e-04  2.8409420e-03 -2.3758651e-03\n",
      "  1.8407389e-05 -7.0137106e-04 -3.8832282e-03  4.6498259e-03\n",
      "  4.5916778e-03 -1.8573155e-04  5.0305499e-04  5.8018119e-04\n",
      "  3.1372495e-03 -3.4796218e-03  4.4607534e-03  1.9272965e-03\n",
      "  9.5577672e-04  1.9783841e-03  4.4472073e-03  3.6429677e-03\n",
      "  2.7078371e-03  3.0958739e-03  2.3443175e-03 -1.5887903e-03\n",
      " -2.8044873e-04 -4.8358822e-03 -4.3173023e-03 -1.7455501e-03\n",
      " -3.9555226e-03 -4.7499611e-04  4.2232810e-04  4.9720500e-03]\n"
     ]
    },
    {
     "name": "stderr",
     "output_type": "stream",
     "text": [
      "C:\\ProgramData\\Anaconda3\\lib\\site-packages\\ipykernel_launcher.py:2: DeprecationWarning: Call to deprecated `__getitem__` (Method will be removed in 4.0.0, use self.wv.__getitem__() instead).\n",
      "  \n"
     ]
    }
   ],
   "source": [
    "# access vector for one word\n",
    "print(model['sentence'])"
   ]
  },
  {
   "cell_type": "code",
   "execution_count": 7,
   "metadata": {},
   "outputs": [],
   "source": [
    "# save model\n",
    "model.save('word2vec_model.bin')"
   ]
  },
  {
   "cell_type": "code",
   "execution_count": 8,
   "metadata": {},
   "outputs": [
    {
     "name": "stdout",
     "output_type": "stream",
     "text": [
      "Word2Vec(vocab=14, size=100, alpha=0.025)\n"
     ]
    }
   ],
   "source": [
    "# load model\n",
    "new_model = Word2Vec.load('word2vec_model.bin')\n",
    "print(new_model)"
   ]
  },
  {
   "cell_type": "markdown",
   "metadata": {},
   "source": [
    "## Visualize Word Embedding "
   ]
  },
  {
   "cell_type": "code",
   "execution_count": 9,
   "metadata": {},
   "outputs": [
    {
     "name": "stderr",
     "output_type": "stream",
     "text": [
      "C:\\ProgramData\\Anaconda3\\lib\\site-packages\\ipykernel_launcher.py:1: DeprecationWarning: Call to deprecated `__getitem__` (Method will be removed in 4.0.0, use self.wv.__getitem__() instead).\n",
      "  \"\"\"Entry point for launching an IPython kernel.\n"
     ]
    },
    {
     "data": {
      "text/plain": [
       "array([[-4.0073381e-03, -2.7016690e-03, -5.1103509e-04, ...,\n",
       "        -3.1048302e-03, -2.5220306e-03,  1.6780233e-03],\n",
       "       [ 1.4140931e-03, -4.5624697e-03,  4.7812690e-03, ...,\n",
       "         4.2158486e-03, -8.9256566e-05,  6.1987108e-04],\n",
       "       [ 2.6807920e-03,  2.2671309e-03,  3.8773990e-03, ...,\n",
       "        -4.3645231e-03,  4.8415000e-03, -1.3969666e-03],\n",
       "       ...,\n",
       "       [-3.3973439e-03, -2.8565302e-03, -2.9368754e-03, ...,\n",
       "        -3.1032376e-03, -3.1234354e-03,  3.7354289e-03],\n",
       "       [-1.5073258e-03, -2.7750039e-03,  4.9358085e-03, ...,\n",
       "        -1.8151647e-03,  2.9579871e-03, -1.5321200e-03],\n",
       "       [-1.8809932e-04, -3.4625446e-03, -2.9317862e-03, ...,\n",
       "         4.7212220e-03,  2.5643264e-03,  4.1871434e-03]], dtype=float32)"
      ]
     },
     "execution_count": 9,
     "metadata": {},
     "output_type": "execute_result"
    }
   ],
   "source": [
    "X = model[model.wv.vocab]\n",
    "X"
   ]
  },
  {
   "cell_type": "code",
   "execution_count": 10,
   "metadata": {},
   "outputs": [
    {
     "data": {
      "text/plain": [
       "(14, 100)"
      ]
     },
     "execution_count": 10,
     "metadata": {},
     "output_type": "execute_result"
    }
   ],
   "source": [
    "X.shape"
   ]
  },
  {
   "cell_type": "code",
   "execution_count": 12,
   "metadata": {},
   "outputs": [
    {
     "data": {
      "text/plain": [
       "array([[ 0.00959416,  0.00112719],\n",
       "       [ 0.00180611, -0.01504014],\n",
       "       [ 0.01305461,  0.00879171],\n",
       "       [-0.01034011, -0.00545943],\n",
       "       [ 0.0052521 ,  0.02622022],\n",
       "       [-0.00489392,  0.00438033],\n",
       "       [ 0.0200015 , -0.00904693],\n",
       "       [ 0.00010473, -0.00552054],\n",
       "       [-0.00742948, -0.00596144],\n",
       "       [-0.00615274, -0.00132203],\n",
       "       [-0.01831185,  0.0065516 ],\n",
       "       [-0.00045451, -0.00238195],\n",
       "       [-0.00784369,  0.00074507],\n",
       "       [ 0.00561309, -0.00308366]], dtype=float32)"
      ]
     },
     "execution_count": 12,
     "metadata": {},
     "output_type": "execute_result"
    }
   ],
   "source": [
    "# Plot Word Vectors Using PCA\n",
    "from sklearn.decomposition import PCA\n",
    "from matplotlib import pyplot as plt\n",
    "\n",
    "pca = PCA(n_components = 2)\n",
    "result = pca.fit_transform(X)\n",
    "result"
   ]
  },
  {
   "cell_type": "markdown",
   "metadata": {},
   "source": [
    "- The resulting projection can be plotted using Matplotlib as follows, pulling out the two dimensions as x and y coordinates."
   ]
  },
  {
   "cell_type": "code",
   "execution_count": 13,
   "metadata": {},
   "outputs": [
    {
     "data": {
      "text/plain": [
       "<matplotlib.collections.PathCollection at 0x1b7f75e8940>"
      ]
     },
     "execution_count": 13,
     "metadata": {},
     "output_type": "execute_result"
    },
    {
     "data": {
      "image/png": "[encoded data removed]",
      "text/plain": [
       "<Figure size 432x288 with 1 Axes>"
      ]
     },
     "metadata": {
      "needs_background": "light"
     },
     "output_type": "display_data"
    }
   ],
   "source": [
    "plt.scatter(result[:,0],result[:,1])"
   ]
  },
  {
   "cell_type": "code",
   "execution_count": 14,
   "metadata": {},
   "outputs": [
    {
     "name": "stdout",
     "output_type": "stream",
     "text": [
      "['this', 'is', 'the', 'first', 'sentence', 'for', 'word2vec', 'second', 'yet', 'another', 'one', 'more', 'and', 'final']\n"
     ]
    }
   ],
   "source": [
    "words = list(model.wv.vocab)\n",
    "print(words)"
   ]
  },
  {
   "cell_type": "code",
   "execution_count": 17,
   "metadata": {},
   "outputs": [
    {
     "data": {
      "image/png": "[encoded data removed]",
      "text/plain": [
       "<Figure size 432x288 with 1 Axes>"
      ]
     },
     "metadata": {
      "needs_background": "light"
     },
     "output_type": "display_data"
    }
   ],
   "source": [
    "for index,word in enumerate(words):\n",
    "    plt.annotate(word,xy = (result[index,0],result[index,1]))\n",
    "plt.show()"
   ]
  },
  {
   "cell_type": "code",
   "execution_count": null,
   "metadata": {},
   "outputs": [],
   "source": [
    "plt.annotate(word, xy = (result[]))"
   ]
  }
 ],
 "metadata": {
  "kernelspec": {
   "display_name": "Python 3",
   "language": "python",
   "name": "python3"
  },
  "language_info": {
   "codemirror_mode": {
    "name": "ipython",
    "version": 3
   },
   "file_extension": ".py",
   "mimetype": "text/x-python",
   "name": "python",
   "nbconvert_exporter": "python",
   "pygments_lexer": "ipython3",
   "version": "3.7.4"
  }
 },
 "nbformat": 4,
 "nbformat_minor": 2
}
